{
 "cells": [
  {
   "cell_type": "markdown",
   "metadata": {},
   "source": [
    "<center><h1> Customer Churn Prediction Model </h1>\n",
    "<h4>By: Ravikumar Patel </h4></center>\n"
   ]
  },
  {
   "cell_type": "markdown",
   "metadata": {},
   "source": [
    "A customer churn means when a customer stopped using the company's services or products during a specific period and customer churn rate is the percentage of those customers [Source](https://blog.hubspot.com/service/what-is-customer-churn). This period could be days, months, quarters or years. So, suppose the company decides to use a month as a period. In that case, they can deduct the value of customers after a month from the customers the company had at the beginning of the month and calculate its percentage. **Note:** It is important not to include new customers in this calculation; otherwise, the fetched insights will not be accurate.\n",
    "\n",
    "The company would like to make this churn percentage as close to 0% as possible. If the customer churn percentage is higher, that means the company is not getting revenue from the customers and without the profit, they can not operate as successfully as possible.\n",
    "\n",
    "According to The American Customer Satisfaction Index, which measures the overall customer satisfaction by sector according to a formula, only 72.2% of customers are satisfied with their current telecom provider [Source](https://www.theacsi.org/acsi-benchmarks/benchmarks-by-sector). It means 27.8% of customers are highly risked of leaving the company. However, it doesn't mean satisfied customers will not leave. They might leave, but it is not very likely that they will leave. In 2017, Canada's two telecommunication company Telus and BCE (Bell), reported that it cost them 50 times more to get new customers than it would have cost to retain existing customers [Source](https://telecoms.com/opinion/churn-is-breaking-the-telecoms-market-heres-how-to-fix-it/).\n",
    "\n",
    "The dataset used in the project is taken from [Kaggle](https://www.kaggle.com/abhinav89/telecom-customer). The dataset contains over 100 features and 100,000 instances. It does not contain any information about the observation time frame; however, the instances of churn between 31-60 days after the observation date. The features contain almost all the features regarding telecom customers in categorical and continuous values. To help reduce the customer churn percentage, the companies use predictive models to offer special perks to those who are more likely to leave.\n",
    "\n",
    "Following are the steps to develop a customer churn prediction model\n",
    "\n",
    "1.\tData Analysis\n",
    "2.\tData Preprocessing\n",
    "3.\tFeature Selection\n",
    "4.\tModel Selection and Training\n",
    "5.\tModel Evaluation"
   ]
  },
  {
   "cell_type": "code",
   "execution_count": 1,
   "metadata": {},
   "outputs": [
    {
     "data": {
      "text/html": [
       "<div>\n",
       "<style scoped>\n",
       "    .dataframe tbody tr th:only-of-type {\n",
       "        vertical-align: middle;\n",
       "    }\n",
       "\n",
       "    .dataframe tbody tr th {\n",
       "        vertical-align: top;\n",
       "    }\n",
       "\n",
       "    .dataframe thead th {\n",
       "        text-align: right;\n",
       "    }\n",
       "</style>\n",
       "<table border=\"1\" class=\"dataframe\">\n",
       "  <thead>\n",
       "    <tr style=\"text-align: right;\">\n",
       "      <th></th>\n",
       "      <th>rev_Mean</th>\n",
       "      <th>mou_Mean</th>\n",
       "      <th>totmrc_Mean</th>\n",
       "      <th>da_Mean</th>\n",
       "      <th>ovrmou_Mean</th>\n",
       "      <th>ovrrev_Mean</th>\n",
       "      <th>vceovr_Mean</th>\n",
       "      <th>datovr_Mean</th>\n",
       "      <th>roam_Mean</th>\n",
       "      <th>change_mou</th>\n",
       "      <th>...</th>\n",
       "      <th>forgntvl</th>\n",
       "      <th>ethnic</th>\n",
       "      <th>kid0_2</th>\n",
       "      <th>kid3_5</th>\n",
       "      <th>kid6_10</th>\n",
       "      <th>kid11_15</th>\n",
       "      <th>kid16_17</th>\n",
       "      <th>creditcd</th>\n",
       "      <th>eqpdays</th>\n",
       "      <th>Customer_ID</th>\n",
       "    </tr>\n",
       "  </thead>\n",
       "  <tbody>\n",
       "    <tr>\n",
       "      <th>0</th>\n",
       "      <td>23.9975</td>\n",
       "      <td>219.25</td>\n",
       "      <td>22.500</td>\n",
       "      <td>0.2475</td>\n",
       "      <td>0.00</td>\n",
       "      <td>0.0</td>\n",
       "      <td>0.0</td>\n",
       "      <td>0.0</td>\n",
       "      <td>0.0</td>\n",
       "      <td>-157.25</td>\n",
       "      <td>...</td>\n",
       "      <td>0.0</td>\n",
       "      <td>N</td>\n",
       "      <td>U</td>\n",
       "      <td>U</td>\n",
       "      <td>U</td>\n",
       "      <td>U</td>\n",
       "      <td>U</td>\n",
       "      <td>Y</td>\n",
       "      <td>361.0</td>\n",
       "      <td>1000001</td>\n",
       "    </tr>\n",
       "    <tr>\n",
       "      <th>1</th>\n",
       "      <td>57.4925</td>\n",
       "      <td>482.75</td>\n",
       "      <td>37.425</td>\n",
       "      <td>0.2475</td>\n",
       "      <td>22.75</td>\n",
       "      <td>9.1</td>\n",
       "      <td>9.1</td>\n",
       "      <td>0.0</td>\n",
       "      <td>0.0</td>\n",
       "      <td>532.25</td>\n",
       "      <td>...</td>\n",
       "      <td>0.0</td>\n",
       "      <td>Z</td>\n",
       "      <td>U</td>\n",
       "      <td>U</td>\n",
       "      <td>U</td>\n",
       "      <td>U</td>\n",
       "      <td>U</td>\n",
       "      <td>Y</td>\n",
       "      <td>240.0</td>\n",
       "      <td>1000002</td>\n",
       "    </tr>\n",
       "    <tr>\n",
       "      <th>2</th>\n",
       "      <td>16.9900</td>\n",
       "      <td>10.25</td>\n",
       "      <td>16.990</td>\n",
       "      <td>0.0000</td>\n",
       "      <td>0.00</td>\n",
       "      <td>0.0</td>\n",
       "      <td>0.0</td>\n",
       "      <td>0.0</td>\n",
       "      <td>0.0</td>\n",
       "      <td>-4.25</td>\n",
       "      <td>...</td>\n",
       "      <td>0.0</td>\n",
       "      <td>N</td>\n",
       "      <td>U</td>\n",
       "      <td>Y</td>\n",
       "      <td>U</td>\n",
       "      <td>U</td>\n",
       "      <td>U</td>\n",
       "      <td>Y</td>\n",
       "      <td>1504.0</td>\n",
       "      <td>1000003</td>\n",
       "    </tr>\n",
       "    <tr>\n",
       "      <th>3</th>\n",
       "      <td>38.0000</td>\n",
       "      <td>7.50</td>\n",
       "      <td>38.000</td>\n",
       "      <td>0.0000</td>\n",
       "      <td>0.00</td>\n",
       "      <td>0.0</td>\n",
       "      <td>0.0</td>\n",
       "      <td>0.0</td>\n",
       "      <td>0.0</td>\n",
       "      <td>-1.50</td>\n",
       "      <td>...</td>\n",
       "      <td>0.0</td>\n",
       "      <td>U</td>\n",
       "      <td>Y</td>\n",
       "      <td>U</td>\n",
       "      <td>U</td>\n",
       "      <td>U</td>\n",
       "      <td>U</td>\n",
       "      <td>Y</td>\n",
       "      <td>1812.0</td>\n",
       "      <td>1000004</td>\n",
       "    </tr>\n",
       "    <tr>\n",
       "      <th>4</th>\n",
       "      <td>55.2300</td>\n",
       "      <td>570.50</td>\n",
       "      <td>71.980</td>\n",
       "      <td>0.0000</td>\n",
       "      <td>0.00</td>\n",
       "      <td>0.0</td>\n",
       "      <td>0.0</td>\n",
       "      <td>0.0</td>\n",
       "      <td>0.0</td>\n",
       "      <td>38.50</td>\n",
       "      <td>...</td>\n",
       "      <td>0.0</td>\n",
       "      <td>I</td>\n",
       "      <td>U</td>\n",
       "      <td>U</td>\n",
       "      <td>U</td>\n",
       "      <td>U</td>\n",
       "      <td>U</td>\n",
       "      <td>Y</td>\n",
       "      <td>434.0</td>\n",
       "      <td>1000005</td>\n",
       "    </tr>\n",
       "  </tbody>\n",
       "</table>\n",
       "<p>5 rows × 100 columns</p>\n",
       "</div>"
      ],
      "text/plain": [
       "   rev_Mean  mou_Mean  totmrc_Mean  da_Mean  ovrmou_Mean  ovrrev_Mean  \\\n",
       "0   23.9975    219.25       22.500   0.2475         0.00          0.0   \n",
       "1   57.4925    482.75       37.425   0.2475        22.75          9.1   \n",
       "2   16.9900     10.25       16.990   0.0000         0.00          0.0   \n",
       "3   38.0000      7.50       38.000   0.0000         0.00          0.0   \n",
       "4   55.2300    570.50       71.980   0.0000         0.00          0.0   \n",
       "\n",
       "   vceovr_Mean  datovr_Mean  roam_Mean  change_mou  ...  forgntvl  ethnic  \\\n",
       "0          0.0          0.0        0.0     -157.25  ...       0.0       N   \n",
       "1          9.1          0.0        0.0      532.25  ...       0.0       Z   \n",
       "2          0.0          0.0        0.0       -4.25  ...       0.0       N   \n",
       "3          0.0          0.0        0.0       -1.50  ...       0.0       U   \n",
       "4          0.0          0.0        0.0       38.50  ...       0.0       I   \n",
       "\n",
       "   kid0_2  kid3_5  kid6_10  kid11_15  kid16_17  creditcd  eqpdays  Customer_ID  \n",
       "0       U       U        U         U         U         Y    361.0      1000001  \n",
       "1       U       U        U         U         U         Y    240.0      1000002  \n",
       "2       U       Y        U         U         U         Y   1504.0      1000003  \n",
       "3       Y       U        U         U         U         Y   1812.0      1000004  \n",
       "4       U       U        U         U         U         Y    434.0      1000005  \n",
       "\n",
       "[5 rows x 100 columns]"
      ]
     },
     "metadata": {},
     "output_type": "display_data"
    }
   ],
   "source": [
    "# basic library import\n",
    "import pandas as pd\n",
    "import numpy as np\n",
    "import matplotlib.pyplot as plt\n",
    "\n",
    "# to split the data into random smaller sets\n",
    "from sklearn.model_selection import train_test_split\n",
    "\n",
    "with open(\"Telecom_customer churn.csv\", 'r') as file:\n",
    "    df = pd.read_csv(file)\n",
    "\n",
    "display(df.head())\n",
    "\n",
    "X_train, X_test = train_test_split(df, test_size = 0.2, random_state=10)"
   ]
  },
  {
   "cell_type": "markdown",
   "metadata": {},
   "source": [
    "## Data Analysis"
   ]
  },
  {
   "cell_type": "code",
   "execution_count": 2,
   "metadata": {},
   "outputs": [],
   "source": [
    "# the code on this cell has been from tutorial 2 CSCI 4146 course\n",
    "def buildContinuousFeaturesReport(features, data_df):\n",
    "\tconHead = ['Count', 'Miss %', 'Card.', 'Min', '1st Qrt.',\n",
    "            'Mean', 'Median', '3rd Qrt.', 'Max', 'Std. Dev.']\n",
    "\n",
    "\tconOut_df = pd.DataFrame(index=features, columns=conHead)\n",
    "\tcolumns_df = data_df[features]\n",
    "\n",
    "\t#COUNT\n",
    "\tconOut_df[conHead[0]] = len(columns_df)\n",
    "\n",
    "\t#MISS % \n",
    "\tconOut_df[conHead[1]] = columns_df.isna().sum() / len(columns_df) * 100\n",
    "\n",
    "\t#CARDINALITY\n",
    "\tconOut_df[conHead[2]] = columns_df.nunique()\n",
    "\n",
    "\t#MINIMUM\n",
    "\tconOut_df[conHead[3]] = columns_df.min()\n",
    "\n",
    "\t#1ST QUARTILE\n",
    "\tconOut_df[conHead[4]] = columns_df.quantile(0.25)\n",
    "\n",
    "\t#MEAN\n",
    "\tconOut_df[conHead[5]] = columns_df.mean()\n",
    "\n",
    "\t#MEDIAN\n",
    "\tconOut_df[conHead[6]] = columns_df.median()\n",
    "\n",
    "\t#3rd QUARTILE\n",
    "\tconOut_df[conHead[7]] = columns_df.quantile(0.75)\n",
    "\n",
    "\t#MAX\n",
    "\tconOut_df[conHead[8]] = columns_df.max()\n",
    "\n",
    "\t#STANDARD DEVIATION\n",
    "\tconOut_df[conHead[9]] = columns_df.std()\n",
    "\n",
    "\treturn conOut_df\n",
    "\n",
    "def buildCategoricalFeaturesReport(features, data_df):\n",
    "\tcatHead = ['Count', 'Miss %', 'Card.', 'Mode', 'Mode Freq',\n",
    "            'Mode %', '2nd Mode', '2nd Mode Freq', '2nd Mode %']\n",
    "\n",
    "\tcolumns_df = data_df[features]\n",
    "\n",
    "\t#preparing a dictionary for storing data\n",
    "\tstats_dict = {k: ['']*len(features) for k in catHead}\n",
    "\n",
    "\t#CARDINALITY\n",
    "\tstats_dict['Card.'] = columns_df.nunique()\n",
    "\n",
    "\tmissing = columns_df.isna().sum() / len(columns_df) * 100\n",
    "\n",
    "\tfor col in columns_df:\n",
    "\t\tvalues = columns_df[col].value_counts()\n",
    "\t\tindex = features.index(col)\n",
    "\n",
    "    #COUNT\n",
    "\t\tstats_dict['Count'][index] = len(columns_df)\n",
    "\t\t\n",
    "\t\t#MISS %\n",
    "\t\tstats_dict['Miss %'][index] = missing[col]\n",
    "\n",
    "\t\t#MODES\n",
    "\t\tmode = values.index[0]\n",
    "\t\tmode2 = values.index[1] if len(values.index) > 1 else mode\n",
    "\t\tstats_dict['Mode'][index] = mode\n",
    "\t\tstats_dict['2nd Mode'][index] = mode2\n",
    "\n",
    "\t\t#MODE FREQ\n",
    "\t\tmodeCount = values.loc[mode]\n",
    "\t\tmodeCount2 = values.loc[mode2]\n",
    "\t\tstats_dict['Mode Freq'][index] = modeCount\n",
    "\t\tstats_dict['2nd Mode Freq'][index] = modeCount2\n",
    "\n",
    "\t\t#MODE %\n",
    "\t\tmiss = stats_dict['Miss %'][index]\n",
    "\n",
    "\t\tmodePer = (modeCount/(len(columns_df)*((100-miss)/100)))*100\n",
    "\t\tstats_dict['Mode %'][index] = round(modePer, 2)\n",
    "\n",
    "\t\tmodePer2 = (modeCount2/(len(columns_df)*((100-miss)/100)))*100\n",
    "\t\tstats_dict['2nd Mode %'][index] = round(modePer2, 2)\n",
    "\t\n",
    "\toutput_df = pd.DataFrame.from_dict(stats_dict)\n",
    "\treturn output_df"
   ]
  },
  {
   "cell_type": "code",
   "execution_count": 3,
   "metadata": {
    "scrolled": true
   },
   "outputs": [
    {
     "name": "stdout",
     "output_type": "stream",
     "text": [
      "Data quality report for quantitative features\n"
     ]
    },
    {
     "data": {
      "text/html": [
       "<div>\n",
       "<style scoped>\n",
       "    .dataframe tbody tr th:only-of-type {\n",
       "        vertical-align: middle;\n",
       "    }\n",
       "\n",
       "    .dataframe tbody tr th {\n",
       "        vertical-align: top;\n",
       "    }\n",
       "\n",
       "    .dataframe thead th {\n",
       "        text-align: right;\n",
       "    }\n",
       "</style>\n",
       "<table border=\"1\" class=\"dataframe\">\n",
       "  <thead>\n",
       "    <tr style=\"text-align: right;\">\n",
       "      <th></th>\n",
       "      <th>Count</th>\n",
       "      <th>Miss %</th>\n",
       "      <th>Card.</th>\n",
       "      <th>Min</th>\n",
       "      <th>1st Qrt.</th>\n",
       "      <th>Mean</th>\n",
       "      <th>Median</th>\n",
       "      <th>3rd Qrt.</th>\n",
       "      <th>Max</th>\n",
       "      <th>Std. Dev.</th>\n",
       "    </tr>\n",
       "  </thead>\n",
       "  <tbody>\n",
       "    <tr>\n",
       "      <th>rev_Mean</th>\n",
       "      <td>80000</td>\n",
       "      <td>0.36</td>\n",
       "      <td>33218</td>\n",
       "      <td>-6.17</td>\n",
       "      <td>33.28</td>\n",
       "      <td>58.61</td>\n",
       "      <td>48.32</td>\n",
       "      <td>70.71</td>\n",
       "      <td>1223.38</td>\n",
       "      <td>44.54</td>\n",
       "    </tr>\n",
       "    <tr>\n",
       "      <th>mou_Mean</th>\n",
       "      <td>80000</td>\n",
       "      <td>0.36</td>\n",
       "      <td>9140</td>\n",
       "      <td>0.00</td>\n",
       "      <td>150.50</td>\n",
       "      <td>512.50</td>\n",
       "      <td>355.00</td>\n",
       "      <td>702.25</td>\n",
       "      <td>7242.00</td>\n",
       "      <td>520.69</td>\n",
       "    </tr>\n",
       "    <tr>\n",
       "      <th>totmrc_Mean</th>\n",
       "      <td>80000</td>\n",
       "      <td>0.36</td>\n",
       "      <td>7263</td>\n",
       "      <td>-26.91</td>\n",
       "      <td>30.00</td>\n",
       "      <td>46.21</td>\n",
       "      <td>44.99</td>\n",
       "      <td>59.99</td>\n",
       "      <td>399.99</td>\n",
       "      <td>23.58</td>\n",
       "    </tr>\n",
       "    <tr>\n",
       "      <th>da_Mean</th>\n",
       "      <td>80000</td>\n",
       "      <td>0.36</td>\n",
       "      <td>161</td>\n",
       "      <td>0.00</td>\n",
       "      <td>0.00</td>\n",
       "      <td>0.88</td>\n",
       "      <td>0.25</td>\n",
       "      <td>0.74</td>\n",
       "      <td>72.77</td>\n",
       "      <td>2.11</td>\n",
       "    </tr>\n",
       "    <tr>\n",
       "      <th>ovrmou_Mean</th>\n",
       "      <td>80000</td>\n",
       "      <td>0.36</td>\n",
       "      <td>2421</td>\n",
       "      <td>0.00</td>\n",
       "      <td>0.00</td>\n",
       "      <td>40.74</td>\n",
       "      <td>2.75</td>\n",
       "      <td>42.00</td>\n",
       "      <td>4320.75</td>\n",
       "      <td>96.04</td>\n",
       "    </tr>\n",
       "    <tr>\n",
       "      <th>ovrrev_Mean</th>\n",
       "      <td>80000</td>\n",
       "      <td>0.36</td>\n",
       "      <td>10721</td>\n",
       "      <td>0.00</td>\n",
       "      <td>0.00</td>\n",
       "      <td>13.47</td>\n",
       "      <td>0.97</td>\n",
       "      <td>14.38</td>\n",
       "      <td>1102.40</td>\n",
       "      <td>30.31</td>\n",
       "    </tr>\n",
       "    <tr>\n",
       "      <th>vceovr_Mean</th>\n",
       "      <td>80000</td>\n",
       "      <td>0.36</td>\n",
       "      <td>6700</td>\n",
       "      <td>0.00</td>\n",
       "      <td>0.00</td>\n",
       "      <td>13.20</td>\n",
       "      <td>0.61</td>\n",
       "      <td>14.00</td>\n",
       "      <td>890.76</td>\n",
       "      <td>29.84</td>\n",
       "    </tr>\n",
       "    <tr>\n",
       "      <th>datovr_Mean</th>\n",
       "      <td>80000</td>\n",
       "      <td>0.36</td>\n",
       "      <td>686</td>\n",
       "      <td>0.00</td>\n",
       "      <td>0.00</td>\n",
       "      <td>0.26</td>\n",
       "      <td>0.00</td>\n",
       "      <td>0.00</td>\n",
       "      <td>423.54</td>\n",
       "      <td>3.18</td>\n",
       "    </tr>\n",
       "    <tr>\n",
       "      <th>roam_Mean</th>\n",
       "      <td>80000</td>\n",
       "      <td>0.36</td>\n",
       "      <td>4689</td>\n",
       "      <td>0.00</td>\n",
       "      <td>0.00</td>\n",
       "      <td>1.25</td>\n",
       "      <td>0.00</td>\n",
       "      <td>0.23</td>\n",
       "      <td>1112.45</td>\n",
       "      <td>9.10</td>\n",
       "    </tr>\n",
       "    <tr>\n",
       "      <th>change_mou</th>\n",
       "      <td>80000</td>\n",
       "      <td>0.89</td>\n",
       "      <td>7156</td>\n",
       "      <td>-3406.50</td>\n",
       "      <td>-87.25</td>\n",
       "      <td>-14.44</td>\n",
       "      <td>-6.25</td>\n",
       "      <td>63.25</td>\n",
       "      <td>5192.25</td>\n",
       "      <td>258.46</td>\n",
       "    </tr>\n",
       "    <tr>\n",
       "      <th>change_rev</th>\n",
       "      <td>80000</td>\n",
       "      <td>0.89</td>\n",
       "      <td>28467</td>\n",
       "      <td>-1107.74</td>\n",
       "      <td>-7.31</td>\n",
       "      <td>-1.12</td>\n",
       "      <td>-0.30</td>\n",
       "      <td>1.70</td>\n",
       "      <td>2483.48</td>\n",
       "      <td>39.36</td>\n",
       "    </tr>\n",
       "    <tr>\n",
       "      <th>drop_vce_Mean</th>\n",
       "      <td>80000</td>\n",
       "      <td>0.00</td>\n",
       "      <td>311</td>\n",
       "      <td>0.00</td>\n",
       "      <td>0.67</td>\n",
       "      <td>5.95</td>\n",
       "      <td>3.00</td>\n",
       "      <td>7.67</td>\n",
       "      <td>232.67</td>\n",
       "      <td>8.94</td>\n",
       "    </tr>\n",
       "    <tr>\n",
       "      <th>drop_dat_Mean</th>\n",
       "      <td>80000</td>\n",
       "      <td>0.00</td>\n",
       "      <td>54</td>\n",
       "      <td>0.00</td>\n",
       "      <td>0.00</td>\n",
       "      <td>0.04</td>\n",
       "      <td>0.00</td>\n",
       "      <td>0.00</td>\n",
       "      <td>207.33</td>\n",
       "      <td>0.94</td>\n",
       "    </tr>\n",
       "    <tr>\n",
       "      <th>blck_vce_Mean</th>\n",
       "      <td>80000</td>\n",
       "      <td>0.00</td>\n",
       "      <td>415</td>\n",
       "      <td>0.00</td>\n",
       "      <td>0.00</td>\n",
       "      <td>4.04</td>\n",
       "      <td>1.00</td>\n",
       "      <td>3.67</td>\n",
       "      <td>385.33</td>\n",
       "      <td>10.84</td>\n",
       "    </tr>\n",
       "    <tr>\n",
       "      <th>blck_dat_Mean</th>\n",
       "      <td>80000</td>\n",
       "      <td>0.00</td>\n",
       "      <td>47</td>\n",
       "      <td>0.00</td>\n",
       "      <td>0.00</td>\n",
       "      <td>0.03</td>\n",
       "      <td>0.00</td>\n",
       "      <td>0.00</td>\n",
       "      <td>413.33</td>\n",
       "      <td>1.62</td>\n",
       "    </tr>\n",
       "    <tr>\n",
       "      <th>unan_vce_Mean</th>\n",
       "      <td>80000</td>\n",
       "      <td>0.00</td>\n",
       "      <td>932</td>\n",
       "      <td>0.00</td>\n",
       "      <td>5.00</td>\n",
       "      <td>27.71</td>\n",
       "      <td>16.00</td>\n",
       "      <td>35.67</td>\n",
       "      <td>848.67</td>\n",
       "      <td>38.15</td>\n",
       "    </tr>\n",
       "    <tr>\n",
       "      <th>unan_dat_Mean</th>\n",
       "      <td>80000</td>\n",
       "      <td>0.00</td>\n",
       "      <td>46</td>\n",
       "      <td>0.00</td>\n",
       "      <td>0.00</td>\n",
       "      <td>0.03</td>\n",
       "      <td>0.00</td>\n",
       "      <td>0.00</td>\n",
       "      <td>81.67</td>\n",
       "      <td>0.52</td>\n",
       "    </tr>\n",
       "    <tr>\n",
       "      <th>plcd_vce_Mean</th>\n",
       "      <td>80000</td>\n",
       "      <td>0.00</td>\n",
       "      <td>2749</td>\n",
       "      <td>0.00</td>\n",
       "      <td>38.33</td>\n",
       "      <td>144.52</td>\n",
       "      <td>100.67</td>\n",
       "      <td>198.33</td>\n",
       "      <td>2289.00</td>\n",
       "      <td>156.99</td>\n",
       "    </tr>\n",
       "    <tr>\n",
       "      <th>plcd_dat_Mean</th>\n",
       "      <td>80000</td>\n",
       "      <td>0.00</td>\n",
       "      <td>352</td>\n",
       "      <td>0.00</td>\n",
       "      <td>0.00</td>\n",
       "      <td>0.88</td>\n",
       "      <td>0.00</td>\n",
       "      <td>0.00</td>\n",
       "      <td>733.67</td>\n",
       "      <td>9.18</td>\n",
       "    </tr>\n",
       "    <tr>\n",
       "      <th>recv_vce_Mean</th>\n",
       "      <td>80000</td>\n",
       "      <td>0.00</td>\n",
       "      <td>1702</td>\n",
       "      <td>0.00</td>\n",
       "      <td>5.33</td>\n",
       "      <td>54.77</td>\n",
       "      <td>26.67</td>\n",
       "      <td>71.33</td>\n",
       "      <td>3369.33</td>\n",
       "      <td>85.24</td>\n",
       "    </tr>\n",
       "    <tr>\n",
       "      <th>recv_sms_Mean</th>\n",
       "      <td>80000</td>\n",
       "      <td>0.00</td>\n",
       "      <td>83</td>\n",
       "      <td>0.00</td>\n",
       "      <td>0.00</td>\n",
       "      <td>0.05</td>\n",
       "      <td>0.00</td>\n",
       "      <td>0.00</td>\n",
       "      <td>517.33</td>\n",
       "      <td>2.31</td>\n",
       "    </tr>\n",
       "    <tr>\n",
       "      <th>comp_vce_Mean</th>\n",
       "      <td>80000</td>\n",
       "      <td>0.00</td>\n",
       "      <td>2184</td>\n",
       "      <td>0.00</td>\n",
       "      <td>28.67</td>\n",
       "      <td>108.59</td>\n",
       "      <td>75.67</td>\n",
       "      <td>149.33</td>\n",
       "      <td>1894.33</td>\n",
       "      <td>117.57</td>\n",
       "    </tr>\n",
       "    <tr>\n",
       "      <th>comp_dat_Mean</th>\n",
       "      <td>80000</td>\n",
       "      <td>0.00</td>\n",
       "      <td>331</td>\n",
       "      <td>0.00</td>\n",
       "      <td>0.00</td>\n",
       "      <td>0.78</td>\n",
       "      <td>0.00</td>\n",
       "      <td>0.00</td>\n",
       "      <td>559.33</td>\n",
       "      <td>8.20</td>\n",
       "    </tr>\n",
       "    <tr>\n",
       "      <th>custcare_Mean</th>\n",
       "      <td>80000</td>\n",
       "      <td>0.00</td>\n",
       "      <td>198</td>\n",
       "      <td>0.00</td>\n",
       "      <td>0.00</td>\n",
       "      <td>1.80</td>\n",
       "      <td>0.00</td>\n",
       "      <td>1.67</td>\n",
       "      <td>675.33</td>\n",
       "      <td>5.42</td>\n",
       "    </tr>\n",
       "    <tr>\n",
       "      <th>ccrndmou_Mean</th>\n",
       "      <td>80000</td>\n",
       "      <td>0.00</td>\n",
       "      <td>431</td>\n",
       "      <td>0.00</td>\n",
       "      <td>0.00</td>\n",
       "      <td>4.68</td>\n",
       "      <td>0.00</td>\n",
       "      <td>4.00</td>\n",
       "      <td>861.33</td>\n",
       "      <td>12.97</td>\n",
       "    </tr>\n",
       "    <tr>\n",
       "      <th>cc_mou_Mean</th>\n",
       "      <td>80000</td>\n",
       "      <td>0.00</td>\n",
       "      <td>8404</td>\n",
       "      <td>0.00</td>\n",
       "      <td>0.00</td>\n",
       "      <td>3.70</td>\n",
       "      <td>0.00</td>\n",
       "      <td>2.88</td>\n",
       "      <td>602.95</td>\n",
       "      <td>10.72</td>\n",
       "    </tr>\n",
       "    <tr>\n",
       "      <th>inonemin_Mean</th>\n",
       "      <td>80000</td>\n",
       "      <td>0.00</td>\n",
       "      <td>1207</td>\n",
       "      <td>0.00</td>\n",
       "      <td>2.33</td>\n",
       "      <td>29.55</td>\n",
       "      <td>12.67</td>\n",
       "      <td>35.67</td>\n",
       "      <td>3086.67</td>\n",
       "      <td>54.59</td>\n",
       "    </tr>\n",
       "    <tr>\n",
       "      <th>threeway_Mean</th>\n",
       "      <td>80000</td>\n",
       "      <td>0.00</td>\n",
       "      <td>87</td>\n",
       "      <td>0.00</td>\n",
       "      <td>0.00</td>\n",
       "      <td>0.29</td>\n",
       "      <td>0.00</td>\n",
       "      <td>0.33</td>\n",
       "      <td>66.00</td>\n",
       "      <td>1.10</td>\n",
       "    </tr>\n",
       "    <tr>\n",
       "      <th>mou_cvce_Mean</th>\n",
       "      <td>80000</td>\n",
       "      <td>0.00</td>\n",
       "      <td>58098</td>\n",
       "      <td>0.00</td>\n",
       "      <td>48.83</td>\n",
       "      <td>227.32</td>\n",
       "      <td>145.63</td>\n",
       "      <td>309.31</td>\n",
       "      <td>3987.53</td>\n",
       "      <td>263.47</td>\n",
       "    </tr>\n",
       "    <tr>\n",
       "      <th>mou_cdat_Mean</th>\n",
       "      <td>80000</td>\n",
       "      <td>0.00</td>\n",
       "      <td>3825</td>\n",
       "      <td>0.00</td>\n",
       "      <td>0.00</td>\n",
       "      <td>1.83</td>\n",
       "      <td>0.00</td>\n",
       "      <td>0.00</td>\n",
       "      <td>2060.69</td>\n",
       "      <td>22.04</td>\n",
       "    </tr>\n",
       "    <tr>\n",
       "      <th>mou_rvce_Mean</th>\n",
       "      <td>80000</td>\n",
       "      <td>0.00</td>\n",
       "      <td>44732</td>\n",
       "      <td>0.00</td>\n",
       "      <td>7.67</td>\n",
       "      <td>111.22</td>\n",
       "      <td>50.13</td>\n",
       "      <td>149.54</td>\n",
       "      <td>2692.41</td>\n",
       "      <td>160.96</td>\n",
       "    </tr>\n",
       "    <tr>\n",
       "      <th>owylis_vce_Mean</th>\n",
       "      <td>80000</td>\n",
       "      <td>0.00</td>\n",
       "      <td>835</td>\n",
       "      <td>0.00</td>\n",
       "      <td>3.00</td>\n",
       "      <td>24.68</td>\n",
       "      <td>13.00</td>\n",
       "      <td>33.00</td>\n",
       "      <td>644.33</td>\n",
       "      <td>33.96</td>\n",
       "    </tr>\n",
       "    <tr>\n",
       "      <th>mouowylisv_Mean</th>\n",
       "      <td>80000</td>\n",
       "      <td>0.00</td>\n",
       "      <td>24157</td>\n",
       "      <td>0.00</td>\n",
       "      <td>2.39</td>\n",
       "      <td>28.35</td>\n",
       "      <td>11.98</td>\n",
       "      <td>34.03</td>\n",
       "      <td>1802.71</td>\n",
       "      <td>48.22</td>\n",
       "    </tr>\n",
       "    <tr>\n",
       "      <th>iwylis_vce_Mean</th>\n",
       "      <td>80000</td>\n",
       "      <td>0.00</td>\n",
       "      <td>493</td>\n",
       "      <td>0.00</td>\n",
       "      <td>0.00</td>\n",
       "      <td>7.86</td>\n",
       "      <td>2.00</td>\n",
       "      <td>8.67</td>\n",
       "      <td>519.33</td>\n",
       "      <td>15.88</td>\n",
       "    </tr>\n",
       "    <tr>\n",
       "      <th>mouiwylisv_Mean</th>\n",
       "      <td>80000</td>\n",
       "      <td>0.00</td>\n",
       "      <td>19013</td>\n",
       "      <td>0.00</td>\n",
       "      <td>0.00</td>\n",
       "      <td>18.11</td>\n",
       "      <td>3.22</td>\n",
       "      <td>18.20</td>\n",
       "      <td>1703.54</td>\n",
       "      <td>40.83</td>\n",
       "    </tr>\n",
       "    <tr>\n",
       "      <th>peak_vce_Mean</th>\n",
       "      <td>80000</td>\n",
       "      <td>0.00</td>\n",
       "      <td>2006</td>\n",
       "      <td>0.00</td>\n",
       "      <td>21.67</td>\n",
       "      <td>88.17</td>\n",
       "      <td>60.33</td>\n",
       "      <td>118.33</td>\n",
       "      <td>2090.67</td>\n",
       "      <td>102.16</td>\n",
       "    </tr>\n",
       "    <tr>\n",
       "      <th>peak_dat_Mean</th>\n",
       "      <td>80000</td>\n",
       "      <td>0.00</td>\n",
       "      <td>213</td>\n",
       "      <td>0.00</td>\n",
       "      <td>0.00</td>\n",
       "      <td>0.36</td>\n",
       "      <td>0.00</td>\n",
       "      <td>0.00</td>\n",
       "      <td>281.00</td>\n",
       "      <td>4.09</td>\n",
       "    </tr>\n",
       "    <tr>\n",
       "      <th>mou_peav_Mean</th>\n",
       "      <td>80000</td>\n",
       "      <td>0.00</td>\n",
       "      <td>54616</td>\n",
       "      <td>0.00</td>\n",
       "      <td>37.42</td>\n",
       "      <td>173.65</td>\n",
       "      <td>115.23</td>\n",
       "      <td>232.44</td>\n",
       "      <td>4015.35</td>\n",
       "      <td>206.62</td>\n",
       "    </tr>\n",
       "    <tr>\n",
       "      <th>mou_pead_Mean</th>\n",
       "      <td>80000</td>\n",
       "      <td>0.00</td>\n",
       "      <td>2722</td>\n",
       "      <td>0.00</td>\n",
       "      <td>0.00</td>\n",
       "      <td>0.72</td>\n",
       "      <td>0.00</td>\n",
       "      <td>0.00</td>\n",
       "      <td>1036.05</td>\n",
       "      <td>8.82</td>\n",
       "    </tr>\n",
       "    <tr>\n",
       "      <th>opk_vce_Mean</th>\n",
       "      <td>80000</td>\n",
       "      <td>0.00</td>\n",
       "      <td>1805</td>\n",
       "      <td>0.00</td>\n",
       "      <td>10.33</td>\n",
       "      <td>65.75</td>\n",
       "      <td>34.33</td>\n",
       "      <td>86.33</td>\n",
       "      <td>1643.33</td>\n",
       "      <td>90.01</td>\n",
       "    </tr>\n",
       "    <tr>\n",
       "      <th>opk_dat_Mean</th>\n",
       "      <td>80000</td>\n",
       "      <td>0.00</td>\n",
       "      <td>235</td>\n",
       "      <td>0.00</td>\n",
       "      <td>0.00</td>\n",
       "      <td>0.42</td>\n",
       "      <td>0.00</td>\n",
       "      <td>0.00</td>\n",
       "      <td>309.67</td>\n",
       "      <td>4.68</td>\n",
       "    </tr>\n",
       "    <tr>\n",
       "      <th>mou_opkv_Mean</th>\n",
       "      <td>80000</td>\n",
       "      <td>0.00</td>\n",
       "      <td>50946</td>\n",
       "      <td>0.00</td>\n",
       "      <td>18.50</td>\n",
       "      <td>164.83</td>\n",
       "      <td>75.87</td>\n",
       "      <td>210.36</td>\n",
       "      <td>3113.87</td>\n",
       "      <td>235.91</td>\n",
       "    </tr>\n",
       "    <tr>\n",
       "      <th>mou_opkd_Mean</th>\n",
       "      <td>80000</td>\n",
       "      <td>0.00</td>\n",
       "      <td>3048</td>\n",
       "      <td>0.00</td>\n",
       "      <td>0.00</td>\n",
       "      <td>1.11</td>\n",
       "      <td>0.00</td>\n",
       "      <td>0.00</td>\n",
       "      <td>1143.12</td>\n",
       "      <td>15.13</td>\n",
       "    </tr>\n",
       "    <tr>\n",
       "      <th>drop_blk_Mean</th>\n",
       "      <td>80000</td>\n",
       "      <td>0.00</td>\n",
       "      <td>488</td>\n",
       "      <td>0.00</td>\n",
       "      <td>1.67</td>\n",
       "      <td>10.06</td>\n",
       "      <td>5.33</td>\n",
       "      <td>12.33</td>\n",
       "      <td>489.67</td>\n",
       "      <td>15.55</td>\n",
       "    </tr>\n",
       "    <tr>\n",
       "      <th>attempt_Mean</th>\n",
       "      <td>80000</td>\n",
       "      <td>0.00</td>\n",
       "      <td>2765</td>\n",
       "      <td>0.00</td>\n",
       "      <td>38.33</td>\n",
       "      <td>145.40</td>\n",
       "      <td>101.00</td>\n",
       "      <td>199.67</td>\n",
       "      <td>2289.00</td>\n",
       "      <td>158.10</td>\n",
       "    </tr>\n",
       "    <tr>\n",
       "      <th>complete_Mean</th>\n",
       "      <td>80000</td>\n",
       "      <td>0.00</td>\n",
       "      <td>2220</td>\n",
       "      <td>0.00</td>\n",
       "      <td>28.67</td>\n",
       "      <td>109.37</td>\n",
       "      <td>76.00</td>\n",
       "      <td>150.33</td>\n",
       "      <td>1894.33</td>\n",
       "      <td>118.62</td>\n",
       "    </tr>\n",
       "    <tr>\n",
       "      <th>callfwdv_Mean</th>\n",
       "      <td>80000</td>\n",
       "      <td>0.00</td>\n",
       "      <td>40</td>\n",
       "      <td>0.00</td>\n",
       "      <td>0.00</td>\n",
       "      <td>0.01</td>\n",
       "      <td>0.00</td>\n",
       "      <td>0.00</td>\n",
       "      <td>81.33</td>\n",
       "      <td>0.57</td>\n",
       "    </tr>\n",
       "    <tr>\n",
       "      <th>callwait_Mean</th>\n",
       "      <td>80000</td>\n",
       "      <td>0.00</td>\n",
       "      <td>232</td>\n",
       "      <td>0.00</td>\n",
       "      <td>0.00</td>\n",
       "      <td>1.76</td>\n",
       "      <td>0.33</td>\n",
       "      <td>1.33</td>\n",
       "      <td>212.67</td>\n",
       "      <td>5.15</td>\n",
       "    </tr>\n",
       "    <tr>\n",
       "      <th>churn</th>\n",
       "      <td>80000</td>\n",
       "      <td>0.00</td>\n",
       "      <td>2</td>\n",
       "      <td>0.00</td>\n",
       "      <td>0.00</td>\n",
       "      <td>0.50</td>\n",
       "      <td>0.00</td>\n",
       "      <td>1.00</td>\n",
       "      <td>1.00</td>\n",
       "      <td>0.50</td>\n",
       "    </tr>\n",
       "    <tr>\n",
       "      <th>months</th>\n",
       "      <td>80000</td>\n",
       "      <td>0.00</td>\n",
       "      <td>56</td>\n",
       "      <td>6.00</td>\n",
       "      <td>11.00</td>\n",
       "      <td>18.85</td>\n",
       "      <td>16.00</td>\n",
       "      <td>24.00</td>\n",
       "      <td>61.00</td>\n",
       "      <td>9.66</td>\n",
       "    </tr>\n",
       "    <tr>\n",
       "      <th>uniqsubs</th>\n",
       "      <td>80000</td>\n",
       "      <td>0.00</td>\n",
       "      <td>15</td>\n",
       "      <td>1.00</td>\n",
       "      <td>1.00</td>\n",
       "      <td>1.55</td>\n",
       "      <td>1.00</td>\n",
       "      <td>2.00</td>\n",
       "      <td>196.00</td>\n",
       "      <td>1.12</td>\n",
       "    </tr>\n",
       "    <tr>\n",
       "      <th>actvsubs</th>\n",
       "      <td>80000</td>\n",
       "      <td>0.00</td>\n",
       "      <td>11</td>\n",
       "      <td>0.00</td>\n",
       "      <td>1.00</td>\n",
       "      <td>1.36</td>\n",
       "      <td>1.00</td>\n",
       "      <td>2.00</td>\n",
       "      <td>53.00</td>\n",
       "      <td>0.66</td>\n",
       "    </tr>\n",
       "    <tr>\n",
       "      <th>totcalls</th>\n",
       "      <td>80000</td>\n",
       "      <td>0.00</td>\n",
       "      <td>11353</td>\n",
       "      <td>0.00</td>\n",
       "      <td>887.00</td>\n",
       "      <td>2878.77</td>\n",
       "      <td>1823.00</td>\n",
       "      <td>3496.00</td>\n",
       "      <td>98874.00</td>\n",
       "      <td>3802.78</td>\n",
       "    </tr>\n",
       "    <tr>\n",
       "      <th>totmou</th>\n",
       "      <td>80000</td>\n",
       "      <td>0.00</td>\n",
       "      <td>21938</td>\n",
       "      <td>0.00</td>\n",
       "      <td>2530.75</td>\n",
       "      <td>7652.04</td>\n",
       "      <td>5183.00</td>\n",
       "      <td>9796.00</td>\n",
       "      <td>233419.10</td>\n",
       "      <td>8692.36</td>\n",
       "    </tr>\n",
       "    <tr>\n",
       "      <th>totrev</th>\n",
       "      <td>80000</td>\n",
       "      <td>0.00</td>\n",
       "      <td>63935</td>\n",
       "      <td>3.65</td>\n",
       "      <td>519.17</td>\n",
       "      <td>1031.93</td>\n",
       "      <td>804.58</td>\n",
       "      <td>1260.28</td>\n",
       "      <td>19754.85</td>\n",
       "      <td>850.27</td>\n",
       "    </tr>\n",
       "    <tr>\n",
       "      <th>adjrev</th>\n",
       "      <td>80000</td>\n",
       "      <td>0.00</td>\n",
       "      <td>63243</td>\n",
       "      <td>2.40</td>\n",
       "      <td>452.56</td>\n",
       "      <td>960.25</td>\n",
       "      <td>737.76</td>\n",
       "      <td>1185.87</td>\n",
       "      <td>19432.46</td>\n",
       "      <td>837.60</td>\n",
       "    </tr>\n",
       "    <tr>\n",
       "      <th>adjmou</th>\n",
       "      <td>80000</td>\n",
       "      <td>0.00</td>\n",
       "      <td>21655</td>\n",
       "      <td>0.00</td>\n",
       "      <td>2473.00</td>\n",
       "      <td>7549.85</td>\n",
       "      <td>5094.50</td>\n",
       "      <td>9687.00</td>\n",
       "      <td>232855.10</td>\n",
       "      <td>8619.69</td>\n",
       "    </tr>\n",
       "    <tr>\n",
       "      <th>adjqty</th>\n",
       "      <td>80000</td>\n",
       "      <td>0.00</td>\n",
       "      <td>11351</td>\n",
       "      <td>0.00</td>\n",
       "      <td>868.00</td>\n",
       "      <td>2837.87</td>\n",
       "      <td>1790.00</td>\n",
       "      <td>3446.00</td>\n",
       "      <td>98705.00</td>\n",
       "      <td>3767.74</td>\n",
       "    </tr>\n",
       "    <tr>\n",
       "      <th>avgrev</th>\n",
       "      <td>80000</td>\n",
       "      <td>0.00</td>\n",
       "      <td>13943</td>\n",
       "      <td>0.48</td>\n",
       "      <td>35.38</td>\n",
       "      <td>57.86</td>\n",
       "      <td>49.98</td>\n",
       "      <td>69.43</td>\n",
       "      <td>736.76</td>\n",
       "      <td>35.88</td>\n",
       "    </tr>\n",
       "    <tr>\n",
       "      <th>avgmou</th>\n",
       "      <td>80000</td>\n",
       "      <td>0.00</td>\n",
       "      <td>50329</td>\n",
       "      <td>0.00</td>\n",
       "      <td>175.80</td>\n",
       "      <td>483.05</td>\n",
       "      <td>360.01</td>\n",
       "      <td>654.75</td>\n",
       "      <td>5367.17</td>\n",
       "      <td>435.89</td>\n",
       "    </tr>\n",
       "    <tr>\n",
       "      <th>avgqty</th>\n",
       "      <td>80000</td>\n",
       "      <td>0.00</td>\n",
       "      <td>31519</td>\n",
       "      <td>0.00</td>\n",
       "      <td>64.24</td>\n",
       "      <td>173.28</td>\n",
       "      <td>127.56</td>\n",
       "      <td>228.37</td>\n",
       "      <td>2716.71</td>\n",
       "      <td>166.52</td>\n",
       "    </tr>\n",
       "    <tr>\n",
       "      <th>avg3mou</th>\n",
       "      <td>80000</td>\n",
       "      <td>0.00</td>\n",
       "      <td>2975</td>\n",
       "      <td>0.00</td>\n",
       "      <td>151.00</td>\n",
       "      <td>518.73</td>\n",
       "      <td>357.00</td>\n",
       "      <td>711.00</td>\n",
       "      <td>7456.00</td>\n",
       "      <td>530.87</td>\n",
       "    </tr>\n",
       "    <tr>\n",
       "      <th>avg3qty</th>\n",
       "      <td>80000</td>\n",
       "      <td>0.00</td>\n",
       "      <td>1356</td>\n",
       "      <td>0.00</td>\n",
       "      <td>55.00</td>\n",
       "      <td>179.88</td>\n",
       "      <td>126.00</td>\n",
       "      <td>239.00</td>\n",
       "      <td>3909.00</td>\n",
       "      <td>190.68</td>\n",
       "    </tr>\n",
       "    <tr>\n",
       "      <th>avg3rev</th>\n",
       "      <td>80000</td>\n",
       "      <td>0.00</td>\n",
       "      <td>484</td>\n",
       "      <td>1.00</td>\n",
       "      <td>33.00</td>\n",
       "      <td>59.12</td>\n",
       "      <td>48.00</td>\n",
       "      <td>71.00</td>\n",
       "      <td>1593.00</td>\n",
       "      <td>46.58</td>\n",
       "    </tr>\n",
       "    <tr>\n",
       "      <th>avg6mou</th>\n",
       "      <td>80000</td>\n",
       "      <td>2.82</td>\n",
       "      <td>2805</td>\n",
       "      <td>0.00</td>\n",
       "      <td>163.00</td>\n",
       "      <td>508.71</td>\n",
       "      <td>363.00</td>\n",
       "      <td>696.00</td>\n",
       "      <td>6597.00</td>\n",
       "      <td>494.05</td>\n",
       "    </tr>\n",
       "    <tr>\n",
       "      <th>avg6qty</th>\n",
       "      <td>80000</td>\n",
       "      <td>2.82</td>\n",
       "      <td>1295</td>\n",
       "      <td>0.00</td>\n",
       "      <td>59.00</td>\n",
       "      <td>177.95</td>\n",
       "      <td>127.00</td>\n",
       "      <td>236.00</td>\n",
       "      <td>3256.00</td>\n",
       "      <td>180.90</td>\n",
       "    </tr>\n",
       "    <tr>\n",
       "      <th>avg6rev</th>\n",
       "      <td>80000</td>\n",
       "      <td>2.82</td>\n",
       "      <td>424</td>\n",
       "      <td>-1.00</td>\n",
       "      <td>34.00</td>\n",
       "      <td>58.61</td>\n",
       "      <td>50.00</td>\n",
       "      <td>71.00</td>\n",
       "      <td>866.00</td>\n",
       "      <td>40.49</td>\n",
       "    </tr>\n",
       "    <tr>\n",
       "      <th>hnd_price</th>\n",
       "      <td>80000</td>\n",
       "      <td>0.84</td>\n",
       "      <td>16</td>\n",
       "      <td>9.99</td>\n",
       "      <td>29.99</td>\n",
       "      <td>101.98</td>\n",
       "      <td>99.99</td>\n",
       "      <td>149.99</td>\n",
       "      <td>499.99</td>\n",
       "      <td>61.07</td>\n",
       "    </tr>\n",
       "    <tr>\n",
       "      <th>phones</th>\n",
       "      <td>80000</td>\n",
       "      <td>0.00</td>\n",
       "      <td>24</td>\n",
       "      <td>1.00</td>\n",
       "      <td>1.00</td>\n",
       "      <td>1.79</td>\n",
       "      <td>1.00</td>\n",
       "      <td>2.00</td>\n",
       "      <td>28.00</td>\n",
       "      <td>1.31</td>\n",
       "    </tr>\n",
       "    <tr>\n",
       "      <th>models</th>\n",
       "      <td>80000</td>\n",
       "      <td>0.00</td>\n",
       "      <td>14</td>\n",
       "      <td>1.00</td>\n",
       "      <td>1.00</td>\n",
       "      <td>1.55</td>\n",
       "      <td>1.00</td>\n",
       "      <td>2.00</td>\n",
       "      <td>16.00</td>\n",
       "      <td>0.90</td>\n",
       "    </tr>\n",
       "    <tr>\n",
       "      <th>truck</th>\n",
       "      <td>80000</td>\n",
       "      <td>1.72</td>\n",
       "      <td>2</td>\n",
       "      <td>0.00</td>\n",
       "      <td>0.00</td>\n",
       "      <td>0.19</td>\n",
       "      <td>0.00</td>\n",
       "      <td>0.00</td>\n",
       "      <td>1.00</td>\n",
       "      <td>0.39</td>\n",
       "    </tr>\n",
       "    <tr>\n",
       "      <th>rv</th>\n",
       "      <td>80000</td>\n",
       "      <td>1.72</td>\n",
       "      <td>2</td>\n",
       "      <td>0.00</td>\n",
       "      <td>0.00</td>\n",
       "      <td>0.08</td>\n",
       "      <td>0.00</td>\n",
       "      <td>0.00</td>\n",
       "      <td>1.00</td>\n",
       "      <td>0.27</td>\n",
       "    </tr>\n",
       "    <tr>\n",
       "      <th>lor</th>\n",
       "      <td>80000</td>\n",
       "      <td>30.19</td>\n",
       "      <td>16</td>\n",
       "      <td>0.00</td>\n",
       "      <td>2.00</td>\n",
       "      <td>6.17</td>\n",
       "      <td>5.00</td>\n",
       "      <td>9.00</td>\n",
       "      <td>15.00</td>\n",
       "      <td>4.73</td>\n",
       "    </tr>\n",
       "    <tr>\n",
       "      <th>adults</th>\n",
       "      <td>80000</td>\n",
       "      <td>23.00</td>\n",
       "      <td>6</td>\n",
       "      <td>1.00</td>\n",
       "      <td>1.00</td>\n",
       "      <td>2.53</td>\n",
       "      <td>2.00</td>\n",
       "      <td>3.00</td>\n",
       "      <td>6.00</td>\n",
       "      <td>1.45</td>\n",
       "    </tr>\n",
       "    <tr>\n",
       "      <th>income</th>\n",
       "      <td>80000</td>\n",
       "      <td>25.41</td>\n",
       "      <td>9</td>\n",
       "      <td>1.00</td>\n",
       "      <td>4.00</td>\n",
       "      <td>5.78</td>\n",
       "      <td>6.00</td>\n",
       "      <td>7.00</td>\n",
       "      <td>9.00</td>\n",
       "      <td>2.18</td>\n",
       "    </tr>\n",
       "    <tr>\n",
       "      <th>numbcars</th>\n",
       "      <td>80000</td>\n",
       "      <td>49.31</td>\n",
       "      <td>3</td>\n",
       "      <td>1.00</td>\n",
       "      <td>1.00</td>\n",
       "      <td>1.57</td>\n",
       "      <td>1.00</td>\n",
       "      <td>2.00</td>\n",
       "      <td>3.00</td>\n",
       "      <td>0.63</td>\n",
       "    </tr>\n",
       "    <tr>\n",
       "      <th>forgntvl</th>\n",
       "      <td>80000</td>\n",
       "      <td>1.72</td>\n",
       "      <td>2</td>\n",
       "      <td>0.00</td>\n",
       "      <td>0.00</td>\n",
       "      <td>0.06</td>\n",
       "      <td>0.00</td>\n",
       "      <td>0.00</td>\n",
       "      <td>1.00</td>\n",
       "      <td>0.23</td>\n",
       "    </tr>\n",
       "    <tr>\n",
       "      <th>eqpdays</th>\n",
       "      <td>80000</td>\n",
       "      <td>0.00</td>\n",
       "      <td>1528</td>\n",
       "      <td>-5.00</td>\n",
       "      <td>211.00</td>\n",
       "      <td>391.77</td>\n",
       "      <td>342.00</td>\n",
       "      <td>529.00</td>\n",
       "      <td>1823.00</td>\n",
       "      <td>256.71</td>\n",
       "    </tr>\n",
       "    <tr>\n",
       "      <th>Customer_ID</th>\n",
       "      <td>80000</td>\n",
       "      <td>0.00</td>\n",
       "      <td>80000</td>\n",
       "      <td>1000001.00</td>\n",
       "      <td>1025055.75</td>\n",
       "      <td>1049975.06</td>\n",
       "      <td>1049918.50</td>\n",
       "      <td>1074991.25</td>\n",
       "      <td>1100000.00</td>\n",
       "      <td>28862.91</td>\n",
       "    </tr>\n",
       "  </tbody>\n",
       "</table>\n",
       "</div>"
      ],
      "text/plain": [
       "                 Count  Miss %  Card.        Min   1st Qrt.       Mean  \\\n",
       "rev_Mean         80000    0.36  33218      -6.17      33.28      58.61   \n",
       "mou_Mean         80000    0.36   9140       0.00     150.50     512.50   \n",
       "totmrc_Mean      80000    0.36   7263     -26.91      30.00      46.21   \n",
       "da_Mean          80000    0.36    161       0.00       0.00       0.88   \n",
       "ovrmou_Mean      80000    0.36   2421       0.00       0.00      40.74   \n",
       "ovrrev_Mean      80000    0.36  10721       0.00       0.00      13.47   \n",
       "vceovr_Mean      80000    0.36   6700       0.00       0.00      13.20   \n",
       "datovr_Mean      80000    0.36    686       0.00       0.00       0.26   \n",
       "roam_Mean        80000    0.36   4689       0.00       0.00       1.25   \n",
       "change_mou       80000    0.89   7156   -3406.50     -87.25     -14.44   \n",
       "change_rev       80000    0.89  28467   -1107.74      -7.31      -1.12   \n",
       "drop_vce_Mean    80000    0.00    311       0.00       0.67       5.95   \n",
       "drop_dat_Mean    80000    0.00     54       0.00       0.00       0.04   \n",
       "blck_vce_Mean    80000    0.00    415       0.00       0.00       4.04   \n",
       "blck_dat_Mean    80000    0.00     47       0.00       0.00       0.03   \n",
       "unan_vce_Mean    80000    0.00    932       0.00       5.00      27.71   \n",
       "unan_dat_Mean    80000    0.00     46       0.00       0.00       0.03   \n",
       "plcd_vce_Mean    80000    0.00   2749       0.00      38.33     144.52   \n",
       "plcd_dat_Mean    80000    0.00    352       0.00       0.00       0.88   \n",
       "recv_vce_Mean    80000    0.00   1702       0.00       5.33      54.77   \n",
       "recv_sms_Mean    80000    0.00     83       0.00       0.00       0.05   \n",
       "comp_vce_Mean    80000    0.00   2184       0.00      28.67     108.59   \n",
       "comp_dat_Mean    80000    0.00    331       0.00       0.00       0.78   \n",
       "custcare_Mean    80000    0.00    198       0.00       0.00       1.80   \n",
       "ccrndmou_Mean    80000    0.00    431       0.00       0.00       4.68   \n",
       "cc_mou_Mean      80000    0.00   8404       0.00       0.00       3.70   \n",
       "inonemin_Mean    80000    0.00   1207       0.00       2.33      29.55   \n",
       "threeway_Mean    80000    0.00     87       0.00       0.00       0.29   \n",
       "mou_cvce_Mean    80000    0.00  58098       0.00      48.83     227.32   \n",
       "mou_cdat_Mean    80000    0.00   3825       0.00       0.00       1.83   \n",
       "mou_rvce_Mean    80000    0.00  44732       0.00       7.67     111.22   \n",
       "owylis_vce_Mean  80000    0.00    835       0.00       3.00      24.68   \n",
       "mouowylisv_Mean  80000    0.00  24157       0.00       2.39      28.35   \n",
       "iwylis_vce_Mean  80000    0.00    493       0.00       0.00       7.86   \n",
       "mouiwylisv_Mean  80000    0.00  19013       0.00       0.00      18.11   \n",
       "peak_vce_Mean    80000    0.00   2006       0.00      21.67      88.17   \n",
       "peak_dat_Mean    80000    0.00    213       0.00       0.00       0.36   \n",
       "mou_peav_Mean    80000    0.00  54616       0.00      37.42     173.65   \n",
       "mou_pead_Mean    80000    0.00   2722       0.00       0.00       0.72   \n",
       "opk_vce_Mean     80000    0.00   1805       0.00      10.33      65.75   \n",
       "opk_dat_Mean     80000    0.00    235       0.00       0.00       0.42   \n",
       "mou_opkv_Mean    80000    0.00  50946       0.00      18.50     164.83   \n",
       "mou_opkd_Mean    80000    0.00   3048       0.00       0.00       1.11   \n",
       "drop_blk_Mean    80000    0.00    488       0.00       1.67      10.06   \n",
       "attempt_Mean     80000    0.00   2765       0.00      38.33     145.40   \n",
       "complete_Mean    80000    0.00   2220       0.00      28.67     109.37   \n",
       "callfwdv_Mean    80000    0.00     40       0.00       0.00       0.01   \n",
       "callwait_Mean    80000    0.00    232       0.00       0.00       1.76   \n",
       "churn            80000    0.00      2       0.00       0.00       0.50   \n",
       "months           80000    0.00     56       6.00      11.00      18.85   \n",
       "uniqsubs         80000    0.00     15       1.00       1.00       1.55   \n",
       "actvsubs         80000    0.00     11       0.00       1.00       1.36   \n",
       "totcalls         80000    0.00  11353       0.00     887.00    2878.77   \n",
       "totmou           80000    0.00  21938       0.00    2530.75    7652.04   \n",
       "totrev           80000    0.00  63935       3.65     519.17    1031.93   \n",
       "adjrev           80000    0.00  63243       2.40     452.56     960.25   \n",
       "adjmou           80000    0.00  21655       0.00    2473.00    7549.85   \n",
       "adjqty           80000    0.00  11351       0.00     868.00    2837.87   \n",
       "avgrev           80000    0.00  13943       0.48      35.38      57.86   \n",
       "avgmou           80000    0.00  50329       0.00     175.80     483.05   \n",
       "avgqty           80000    0.00  31519       0.00      64.24     173.28   \n",
       "avg3mou          80000    0.00   2975       0.00     151.00     518.73   \n",
       "avg3qty          80000    0.00   1356       0.00      55.00     179.88   \n",
       "avg3rev          80000    0.00    484       1.00      33.00      59.12   \n",
       "avg6mou          80000    2.82   2805       0.00     163.00     508.71   \n",
       "avg6qty          80000    2.82   1295       0.00      59.00     177.95   \n",
       "avg6rev          80000    2.82    424      -1.00      34.00      58.61   \n",
       "hnd_price        80000    0.84     16       9.99      29.99     101.98   \n",
       "phones           80000    0.00     24       1.00       1.00       1.79   \n",
       "models           80000    0.00     14       1.00       1.00       1.55   \n",
       "truck            80000    1.72      2       0.00       0.00       0.19   \n",
       "rv               80000    1.72      2       0.00       0.00       0.08   \n",
       "lor              80000   30.19     16       0.00       2.00       6.17   \n",
       "adults           80000   23.00      6       1.00       1.00       2.53   \n",
       "income           80000   25.41      9       1.00       4.00       5.78   \n",
       "numbcars         80000   49.31      3       1.00       1.00       1.57   \n",
       "forgntvl         80000    1.72      2       0.00       0.00       0.06   \n",
       "eqpdays          80000    0.00   1528      -5.00     211.00     391.77   \n",
       "Customer_ID      80000    0.00  80000 1000001.00 1025055.75 1049975.06   \n",
       "\n",
       "                    Median   3rd Qrt.        Max  Std. Dev.  \n",
       "rev_Mean             48.32      70.71    1223.38      44.54  \n",
       "mou_Mean            355.00     702.25    7242.00     520.69  \n",
       "totmrc_Mean          44.99      59.99     399.99      23.58  \n",
       "da_Mean               0.25       0.74      72.77       2.11  \n",
       "ovrmou_Mean           2.75      42.00    4320.75      96.04  \n",
       "ovrrev_Mean           0.97      14.38    1102.40      30.31  \n",
       "vceovr_Mean           0.61      14.00     890.76      29.84  \n",
       "datovr_Mean           0.00       0.00     423.54       3.18  \n",
       "roam_Mean             0.00       0.23    1112.45       9.10  \n",
       "change_mou           -6.25      63.25    5192.25     258.46  \n",
       "change_rev           -0.30       1.70    2483.48      39.36  \n",
       "drop_vce_Mean         3.00       7.67     232.67       8.94  \n",
       "drop_dat_Mean         0.00       0.00     207.33       0.94  \n",
       "blck_vce_Mean         1.00       3.67     385.33      10.84  \n",
       "blck_dat_Mean         0.00       0.00     413.33       1.62  \n",
       "unan_vce_Mean        16.00      35.67     848.67      38.15  \n",
       "unan_dat_Mean         0.00       0.00      81.67       0.52  \n",
       "plcd_vce_Mean       100.67     198.33    2289.00     156.99  \n",
       "plcd_dat_Mean         0.00       0.00     733.67       9.18  \n",
       "recv_vce_Mean        26.67      71.33    3369.33      85.24  \n",
       "recv_sms_Mean         0.00       0.00     517.33       2.31  \n",
       "comp_vce_Mean        75.67     149.33    1894.33     117.57  \n",
       "comp_dat_Mean         0.00       0.00     559.33       8.20  \n",
       "custcare_Mean         0.00       1.67     675.33       5.42  \n",
       "ccrndmou_Mean         0.00       4.00     861.33      12.97  \n",
       "cc_mou_Mean           0.00       2.88     602.95      10.72  \n",
       "inonemin_Mean        12.67      35.67    3086.67      54.59  \n",
       "threeway_Mean         0.00       0.33      66.00       1.10  \n",
       "mou_cvce_Mean       145.63     309.31    3987.53     263.47  \n",
       "mou_cdat_Mean         0.00       0.00    2060.69      22.04  \n",
       "mou_rvce_Mean        50.13     149.54    2692.41     160.96  \n",
       "owylis_vce_Mean      13.00      33.00     644.33      33.96  \n",
       "mouowylisv_Mean      11.98      34.03    1802.71      48.22  \n",
       "iwylis_vce_Mean       2.00       8.67     519.33      15.88  \n",
       "mouiwylisv_Mean       3.22      18.20    1703.54      40.83  \n",
       "peak_vce_Mean        60.33     118.33    2090.67     102.16  \n",
       "peak_dat_Mean         0.00       0.00     281.00       4.09  \n",
       "mou_peav_Mean       115.23     232.44    4015.35     206.62  \n",
       "mou_pead_Mean         0.00       0.00    1036.05       8.82  \n",
       "opk_vce_Mean         34.33      86.33    1643.33      90.01  \n",
       "opk_dat_Mean          0.00       0.00     309.67       4.68  \n",
       "mou_opkv_Mean        75.87     210.36    3113.87     235.91  \n",
       "mou_opkd_Mean         0.00       0.00    1143.12      15.13  \n",
       "drop_blk_Mean         5.33      12.33     489.67      15.55  \n",
       "attempt_Mean        101.00     199.67    2289.00     158.10  \n",
       "complete_Mean        76.00     150.33    1894.33     118.62  \n",
       "callfwdv_Mean         0.00       0.00      81.33       0.57  \n",
       "callwait_Mean         0.33       1.33     212.67       5.15  \n",
       "churn                 0.00       1.00       1.00       0.50  \n",
       "months               16.00      24.00      61.00       9.66  \n",
       "uniqsubs              1.00       2.00     196.00       1.12  \n",
       "actvsubs              1.00       2.00      53.00       0.66  \n",
       "totcalls           1823.00    3496.00   98874.00    3802.78  \n",
       "totmou             5183.00    9796.00  233419.10    8692.36  \n",
       "totrev              804.58    1260.28   19754.85     850.27  \n",
       "adjrev              737.76    1185.87   19432.46     837.60  \n",
       "adjmou             5094.50    9687.00  232855.10    8619.69  \n",
       "adjqty             1790.00    3446.00   98705.00    3767.74  \n",
       "avgrev               49.98      69.43     736.76      35.88  \n",
       "avgmou              360.01     654.75    5367.17     435.89  \n",
       "avgqty              127.56     228.37    2716.71     166.52  \n",
       "avg3mou             357.00     711.00    7456.00     530.87  \n",
       "avg3qty             126.00     239.00    3909.00     190.68  \n",
       "avg3rev              48.00      71.00    1593.00      46.58  \n",
       "avg6mou             363.00     696.00    6597.00     494.05  \n",
       "avg6qty             127.00     236.00    3256.00     180.90  \n",
       "avg6rev              50.00      71.00     866.00      40.49  \n",
       "hnd_price            99.99     149.99     499.99      61.07  \n",
       "phones                1.00       2.00      28.00       1.31  \n",
       "models                1.00       2.00      16.00       0.90  \n",
       "truck                 0.00       0.00       1.00       0.39  \n",
       "rv                    0.00       0.00       1.00       0.27  \n",
       "lor                   5.00       9.00      15.00       4.73  \n",
       "adults                2.00       3.00       6.00       1.45  \n",
       "income                6.00       7.00       9.00       2.18  \n",
       "numbcars              1.00       2.00       3.00       0.63  \n",
       "forgntvl              0.00       0.00       1.00       0.23  \n",
       "eqpdays             342.00     529.00    1823.00     256.71  \n",
       "Customer_ID     1049918.50 1074991.25 1100000.00   28862.91  "
      ]
     },
     "metadata": {},
     "output_type": "display_data"
    },
    {
     "name": "stdout",
     "output_type": "stream",
     "text": [
      "\n",
      "Data quality report for qualitative features\n"
     ]
    },
    {
     "data": {
      "text/html": [
       "<div>\n",
       "<style scoped>\n",
       "    .dataframe tbody tr th:only-of-type {\n",
       "        vertical-align: middle;\n",
       "    }\n",
       "\n",
       "    .dataframe tbody tr th {\n",
       "        vertical-align: top;\n",
       "    }\n",
       "\n",
       "    .dataframe thead th {\n",
       "        text-align: right;\n",
       "    }\n",
       "</style>\n",
       "<table border=\"1\" class=\"dataframe\">\n",
       "  <thead>\n",
       "    <tr style=\"text-align: right;\">\n",
       "      <th></th>\n",
       "      <th>Count</th>\n",
       "      <th>Miss %</th>\n",
       "      <th>Card.</th>\n",
       "      <th>Mode</th>\n",
       "      <th>Mode Freq</th>\n",
       "      <th>Mode %</th>\n",
       "      <th>2nd Mode</th>\n",
       "      <th>2nd Mode Freq</th>\n",
       "      <th>2nd Mode %</th>\n",
       "    </tr>\n",
       "  </thead>\n",
       "  <tbody>\n",
       "    <tr>\n",
       "      <th>new_cell</th>\n",
       "      <td>80000</td>\n",
       "      <td>0.00</td>\n",
       "      <td>3</td>\n",
       "      <td>U</td>\n",
       "      <td>53426</td>\n",
       "      <td>66.78</td>\n",
       "      <td>Y</td>\n",
       "      <td>15531</td>\n",
       "      <td>19.41</td>\n",
       "    </tr>\n",
       "    <tr>\n",
       "      <th>crclscod</th>\n",
       "      <td>80000</td>\n",
       "      <td>0.00</td>\n",
       "      <td>54</td>\n",
       "      <td>AA</td>\n",
       "      <td>29285</td>\n",
       "      <td>36.61</td>\n",
       "      <td>A</td>\n",
       "      <td>13626</td>\n",
       "      <td>17.03</td>\n",
       "    </tr>\n",
       "    <tr>\n",
       "      <th>asl_flag</th>\n",
       "      <td>80000</td>\n",
       "      <td>0.00</td>\n",
       "      <td>2</td>\n",
       "      <td>N</td>\n",
       "      <td>68893</td>\n",
       "      <td>86.12</td>\n",
       "      <td>Y</td>\n",
       "      <td>11107</td>\n",
       "      <td>13.88</td>\n",
       "    </tr>\n",
       "    <tr>\n",
       "      <th>prizm_social_one</th>\n",
       "      <td>80000</td>\n",
       "      <td>7.39</td>\n",
       "      <td>5</td>\n",
       "      <td>S</td>\n",
       "      <td>25603</td>\n",
       "      <td>34.56</td>\n",
       "      <td>U</td>\n",
       "      <td>18865</td>\n",
       "      <td>25.46</td>\n",
       "    </tr>\n",
       "    <tr>\n",
       "      <th>area</th>\n",
       "      <td>80000</td>\n",
       "      <td>0.04</td>\n",
       "      <td>19</td>\n",
       "      <td>NEW YORK CITY AREA</td>\n",
       "      <td>8897</td>\n",
       "      <td>11.13</td>\n",
       "      <td>LOS ANGELES AREA</td>\n",
       "      <td>5285</td>\n",
       "      <td>6.61</td>\n",
       "    </tr>\n",
       "    <tr>\n",
       "      <th>dualband</th>\n",
       "      <td>80000</td>\n",
       "      <td>0.00</td>\n",
       "      <td>4</td>\n",
       "      <td>Y</td>\n",
       "      <td>57902</td>\n",
       "      <td>72.38</td>\n",
       "      <td>N</td>\n",
       "      <td>18452</td>\n",
       "      <td>23.06</td>\n",
       "    </tr>\n",
       "    <tr>\n",
       "      <th>refurb_new</th>\n",
       "      <td>80000</td>\n",
       "      <td>0.00</td>\n",
       "      <td>2</td>\n",
       "      <td>N</td>\n",
       "      <td>68452</td>\n",
       "      <td>85.56</td>\n",
       "      <td>R</td>\n",
       "      <td>11548</td>\n",
       "      <td>14.44</td>\n",
       "    </tr>\n",
       "    <tr>\n",
       "      <th>hnd_webcap</th>\n",
       "      <td>80000</td>\n",
       "      <td>10.19</td>\n",
       "      <td>3</td>\n",
       "      <td>WCMB</td>\n",
       "      <td>60669</td>\n",
       "      <td>84.44</td>\n",
       "      <td>WC</td>\n",
       "      <td>11000</td>\n",
       "      <td>15.31</td>\n",
       "    </tr>\n",
       "    <tr>\n",
       "      <th>ownrent</th>\n",
       "      <td>80000</td>\n",
       "      <td>33.72</td>\n",
       "      <td>2</td>\n",
       "      <td>O</td>\n",
       "      <td>51415</td>\n",
       "      <td>96.96</td>\n",
       "      <td>R</td>\n",
       "      <td>1611</td>\n",
       "      <td>3.04</td>\n",
       "    </tr>\n",
       "    <tr>\n",
       "      <th>dwlltype</th>\n",
       "      <td>80000</td>\n",
       "      <td>31.92</td>\n",
       "      <td>2</td>\n",
       "      <td>S</td>\n",
       "      <td>39044</td>\n",
       "      <td>71.69</td>\n",
       "      <td>M</td>\n",
       "      <td>15417</td>\n",
       "      <td>28.31</td>\n",
       "    </tr>\n",
       "    <tr>\n",
       "      <th>marital</th>\n",
       "      <td>80000</td>\n",
       "      <td>1.72</td>\n",
       "      <td>5</td>\n",
       "      <td>U</td>\n",
       "      <td>29962</td>\n",
       "      <td>38.11</td>\n",
       "      <td>M</td>\n",
       "      <td>24809</td>\n",
       "      <td>31.55</td>\n",
       "    </tr>\n",
       "    <tr>\n",
       "      <th>infobase</th>\n",
       "      <td>80000</td>\n",
       "      <td>22.07</td>\n",
       "      <td>2</td>\n",
       "      <td>M</td>\n",
       "      <td>62164</td>\n",
       "      <td>99.72</td>\n",
       "      <td>N</td>\n",
       "      <td>176</td>\n",
       "      <td>0.28</td>\n",
       "    </tr>\n",
       "    <tr>\n",
       "      <th>HHstatin</th>\n",
       "      <td>80000</td>\n",
       "      <td>38.02</td>\n",
       "      <td>6</td>\n",
       "      <td>C</td>\n",
       "      <td>31248</td>\n",
       "      <td>63.02</td>\n",
       "      <td>I</td>\n",
       "      <td>9826</td>\n",
       "      <td>19.82</td>\n",
       "    </tr>\n",
       "    <tr>\n",
       "      <th>dwllsize</th>\n",
       "      <td>80000</td>\n",
       "      <td>38.28</td>\n",
       "      <td>15</td>\n",
       "      <td>A</td>\n",
       "      <td>37833</td>\n",
       "      <td>76.63</td>\n",
       "      <td>B</td>\n",
       "      <td>4156</td>\n",
       "      <td>8.42</td>\n",
       "    </tr>\n",
       "    <tr>\n",
       "      <th>ethnic</th>\n",
       "      <td>80000</td>\n",
       "      <td>1.72</td>\n",
       "      <td>17</td>\n",
       "      <td>N</td>\n",
       "      <td>26792</td>\n",
       "      <td>34.08</td>\n",
       "      <td>H</td>\n",
       "      <td>10914</td>\n",
       "      <td>13.88</td>\n",
       "    </tr>\n",
       "    <tr>\n",
       "      <th>kid0_2</th>\n",
       "      <td>80000</td>\n",
       "      <td>1.72</td>\n",
       "      <td>2</td>\n",
       "      <td>U</td>\n",
       "      <td>75409</td>\n",
       "      <td>95.91</td>\n",
       "      <td>Y</td>\n",
       "      <td>3214</td>\n",
       "      <td>4.09</td>\n",
       "    </tr>\n",
       "    <tr>\n",
       "      <th>kid3_5</th>\n",
       "      <td>80000</td>\n",
       "      <td>1.72</td>\n",
       "      <td>2</td>\n",
       "      <td>U</td>\n",
       "      <td>74879</td>\n",
       "      <td>95.24</td>\n",
       "      <td>Y</td>\n",
       "      <td>3744</td>\n",
       "      <td>4.76</td>\n",
       "    </tr>\n",
       "    <tr>\n",
       "      <th>kid6_10</th>\n",
       "      <td>80000</td>\n",
       "      <td>1.72</td>\n",
       "      <td>2</td>\n",
       "      <td>U</td>\n",
       "      <td>72150</td>\n",
       "      <td>91.77</td>\n",
       "      <td>Y</td>\n",
       "      <td>6473</td>\n",
       "      <td>8.23</td>\n",
       "    </tr>\n",
       "    <tr>\n",
       "      <th>kid11_15</th>\n",
       "      <td>80000</td>\n",
       "      <td>1.72</td>\n",
       "      <td>2</td>\n",
       "      <td>U</td>\n",
       "      <td>71628</td>\n",
       "      <td>91.10</td>\n",
       "      <td>Y</td>\n",
       "      <td>6995</td>\n",
       "      <td>8.90</td>\n",
       "    </tr>\n",
       "    <tr>\n",
       "      <th>kid16_17</th>\n",
       "      <td>80000</td>\n",
       "      <td>1.72</td>\n",
       "      <td>2</td>\n",
       "      <td>U</td>\n",
       "      <td>70662</td>\n",
       "      <td>89.87</td>\n",
       "      <td>Y</td>\n",
       "      <td>7961</td>\n",
       "      <td>10.13</td>\n",
       "    </tr>\n",
       "    <tr>\n",
       "      <th>creditcd</th>\n",
       "      <td>80000</td>\n",
       "      <td>1.72</td>\n",
       "      <td>2</td>\n",
       "      <td>Y</td>\n",
       "      <td>53765</td>\n",
       "      <td>68.38</td>\n",
       "      <td>N</td>\n",
       "      <td>24858</td>\n",
       "      <td>31.62</td>\n",
       "    </tr>\n",
       "  </tbody>\n",
       "</table>\n",
       "</div>"
      ],
      "text/plain": [
       "                  Count  Miss %  Card.                Mode  Mode Freq  Mode %  \\\n",
       "new_cell          80000    0.00      3                   U      53426   66.78   \n",
       "crclscod          80000    0.00     54                  AA      29285   36.61   \n",
       "asl_flag          80000    0.00      2                   N      68893   86.12   \n",
       "prizm_social_one  80000    7.39      5                   S      25603   34.56   \n",
       "area              80000    0.04     19  NEW YORK CITY AREA       8897   11.13   \n",
       "dualband          80000    0.00      4                   Y      57902   72.38   \n",
       "refurb_new        80000    0.00      2                   N      68452   85.56   \n",
       "hnd_webcap        80000   10.19      3                WCMB      60669   84.44   \n",
       "ownrent           80000   33.72      2                   O      51415   96.96   \n",
       "dwlltype          80000   31.92      2                   S      39044   71.69   \n",
       "marital           80000    1.72      5                   U      29962   38.11   \n",
       "infobase          80000   22.07      2                   M      62164   99.72   \n",
       "HHstatin          80000   38.02      6                   C      31248   63.02   \n",
       "dwllsize          80000   38.28     15                   A      37833   76.63   \n",
       "ethnic            80000    1.72     17                   N      26792   34.08   \n",
       "kid0_2            80000    1.72      2                   U      75409   95.91   \n",
       "kid3_5            80000    1.72      2                   U      74879   95.24   \n",
       "kid6_10           80000    1.72      2                   U      72150   91.77   \n",
       "kid11_15          80000    1.72      2                   U      71628   91.10   \n",
       "kid16_17          80000    1.72      2                   U      70662   89.87   \n",
       "creditcd          80000    1.72      2                   Y      53765   68.38   \n",
       "\n",
       "                          2nd Mode  2nd Mode Freq  2nd Mode %  \n",
       "new_cell                         Y          15531       19.41  \n",
       "crclscod                         A          13626       17.03  \n",
       "asl_flag                         Y          11107       13.88  \n",
       "prizm_social_one                 U          18865       25.46  \n",
       "area              LOS ANGELES AREA           5285        6.61  \n",
       "dualband                         N          18452       23.06  \n",
       "refurb_new                       R          11548       14.44  \n",
       "hnd_webcap                      WC          11000       15.31  \n",
       "ownrent                          R           1611        3.04  \n",
       "dwlltype                         M          15417       28.31  \n",
       "marital                          M          24809       31.55  \n",
       "infobase                         N            176        0.28  \n",
       "HHstatin                         I           9826       19.82  \n",
       "dwllsize                         B           4156        8.42  \n",
       "ethnic                           H          10914       13.88  \n",
       "kid0_2                           Y           3214        4.09  \n",
       "kid3_5                           Y           3744        4.76  \n",
       "kid6_10                          Y           6473        8.23  \n",
       "kid11_15                         Y           6995        8.90  \n",
       "kid16_17                         Y           7961       10.13  \n",
       "creditcd                         N          24858       31.62  "
      ]
     },
     "metadata": {},
     "output_type": "display_data"
    }
   ],
   "source": [
    "# build the data quality reports(DQRs) for continuous and categorical features \n",
    "dqr_continuous_listings = buildContinuousFeaturesReport(X_train.select_dtypes('number').columns.to_list(), X_train)\n",
    "dqr_categorical_listings = buildCategoricalFeaturesReport(X_train.select_dtypes('object').columns.to_list(), X_train)\n",
    "\n",
    "#display the reports\n",
    "with pd.option_context('display.max_rows', None, 'display.max_columns', None),\\\n",
    "    pd.option_context('display.float_format', '{:.2f}'.format):\n",
    "        print(\"Data quality report for quantitative features\")\n",
    "        display(dqr_continuous_listings)\n",
    "\n",
    "        print(\"\\nData quality report for qualitative features\")\n",
    "        display(dqr_categorical_listings)"
   ]
  },
  {
   "cell_type": "markdown",
   "metadata": {},
   "source": [
    "From the Data Quality Reports, some features contain numeric values but are qualitative by nature. Like, truck, rv, lor and others. So, let's move those features to the correct category and rerun the report."
   ]
  },
  {
   "cell_type": "code",
   "execution_count": 4,
   "metadata": {},
   "outputs": [
    {
     "name": "stdout",
     "output_type": "stream",
     "text": [
      "Data quality report for quantitative features\n"
     ]
    },
    {
     "data": {
      "text/html": [
       "<div>\n",
       "<style scoped>\n",
       "    .dataframe tbody tr th:only-of-type {\n",
       "        vertical-align: middle;\n",
       "    }\n",
       "\n",
       "    .dataframe tbody tr th {\n",
       "        vertical-align: top;\n",
       "    }\n",
       "\n",
       "    .dataframe thead th {\n",
       "        text-align: right;\n",
       "    }\n",
       "</style>\n",
       "<table border=\"1\" class=\"dataframe\">\n",
       "  <thead>\n",
       "    <tr style=\"text-align: right;\">\n",
       "      <th></th>\n",
       "      <th>Count</th>\n",
       "      <th>Miss %</th>\n",
       "      <th>Card.</th>\n",
       "      <th>Min</th>\n",
       "      <th>1st Qrt.</th>\n",
       "      <th>Mean</th>\n",
       "      <th>Median</th>\n",
       "      <th>3rd Qrt.</th>\n",
       "      <th>Max</th>\n",
       "      <th>Std. Dev.</th>\n",
       "    </tr>\n",
       "  </thead>\n",
       "  <tbody>\n",
       "    <tr>\n",
       "      <th>rev_Mean</th>\n",
       "      <td>80000</td>\n",
       "      <td>0.36</td>\n",
       "      <td>33218</td>\n",
       "      <td>-6.17</td>\n",
       "      <td>33.28</td>\n",
       "      <td>58.61</td>\n",
       "      <td>48.32</td>\n",
       "      <td>70.71</td>\n",
       "      <td>1223.38</td>\n",
       "      <td>44.54</td>\n",
       "    </tr>\n",
       "    <tr>\n",
       "      <th>mou_Mean</th>\n",
       "      <td>80000</td>\n",
       "      <td>0.36</td>\n",
       "      <td>9140</td>\n",
       "      <td>0.00</td>\n",
       "      <td>150.50</td>\n",
       "      <td>512.50</td>\n",
       "      <td>355.00</td>\n",
       "      <td>702.25</td>\n",
       "      <td>7242.00</td>\n",
       "      <td>520.69</td>\n",
       "    </tr>\n",
       "    <tr>\n",
       "      <th>totmrc_Mean</th>\n",
       "      <td>80000</td>\n",
       "      <td>0.36</td>\n",
       "      <td>7263</td>\n",
       "      <td>-26.91</td>\n",
       "      <td>30.00</td>\n",
       "      <td>46.21</td>\n",
       "      <td>44.99</td>\n",
       "      <td>59.99</td>\n",
       "      <td>399.99</td>\n",
       "      <td>23.58</td>\n",
       "    </tr>\n",
       "    <tr>\n",
       "      <th>da_Mean</th>\n",
       "      <td>80000</td>\n",
       "      <td>0.36</td>\n",
       "      <td>161</td>\n",
       "      <td>0.00</td>\n",
       "      <td>0.00</td>\n",
       "      <td>0.88</td>\n",
       "      <td>0.25</td>\n",
       "      <td>0.74</td>\n",
       "      <td>72.77</td>\n",
       "      <td>2.11</td>\n",
       "    </tr>\n",
       "    <tr>\n",
       "      <th>ovrmou_Mean</th>\n",
       "      <td>80000</td>\n",
       "      <td>0.36</td>\n",
       "      <td>2421</td>\n",
       "      <td>0.00</td>\n",
       "      <td>0.00</td>\n",
       "      <td>40.74</td>\n",
       "      <td>2.75</td>\n",
       "      <td>42.00</td>\n",
       "      <td>4320.75</td>\n",
       "      <td>96.04</td>\n",
       "    </tr>\n",
       "    <tr>\n",
       "      <th>ovrrev_Mean</th>\n",
       "      <td>80000</td>\n",
       "      <td>0.36</td>\n",
       "      <td>10721</td>\n",
       "      <td>0.00</td>\n",
       "      <td>0.00</td>\n",
       "      <td>13.47</td>\n",
       "      <td>0.97</td>\n",
       "      <td>14.38</td>\n",
       "      <td>1102.40</td>\n",
       "      <td>30.31</td>\n",
       "    </tr>\n",
       "    <tr>\n",
       "      <th>vceovr_Mean</th>\n",
       "      <td>80000</td>\n",
       "      <td>0.36</td>\n",
       "      <td>6700</td>\n",
       "      <td>0.00</td>\n",
       "      <td>0.00</td>\n",
       "      <td>13.20</td>\n",
       "      <td>0.61</td>\n",
       "      <td>14.00</td>\n",
       "      <td>890.76</td>\n",
       "      <td>29.84</td>\n",
       "    </tr>\n",
       "    <tr>\n",
       "      <th>datovr_Mean</th>\n",
       "      <td>80000</td>\n",
       "      <td>0.36</td>\n",
       "      <td>686</td>\n",
       "      <td>0.00</td>\n",
       "      <td>0.00</td>\n",
       "      <td>0.26</td>\n",
       "      <td>0.00</td>\n",
       "      <td>0.00</td>\n",
       "      <td>423.54</td>\n",
       "      <td>3.18</td>\n",
       "    </tr>\n",
       "    <tr>\n",
       "      <th>roam_Mean</th>\n",
       "      <td>80000</td>\n",
       "      <td>0.36</td>\n",
       "      <td>4689</td>\n",
       "      <td>0.00</td>\n",
       "      <td>0.00</td>\n",
       "      <td>1.25</td>\n",
       "      <td>0.00</td>\n",
       "      <td>0.23</td>\n",
       "      <td>1112.45</td>\n",
       "      <td>9.10</td>\n",
       "    </tr>\n",
       "    <tr>\n",
       "      <th>change_mou</th>\n",
       "      <td>80000</td>\n",
       "      <td>0.89</td>\n",
       "      <td>7156</td>\n",
       "      <td>-3406.50</td>\n",
       "      <td>-87.25</td>\n",
       "      <td>-14.44</td>\n",
       "      <td>-6.25</td>\n",
       "      <td>63.25</td>\n",
       "      <td>5192.25</td>\n",
       "      <td>258.46</td>\n",
       "    </tr>\n",
       "    <tr>\n",
       "      <th>change_rev</th>\n",
       "      <td>80000</td>\n",
       "      <td>0.89</td>\n",
       "      <td>28467</td>\n",
       "      <td>-1107.74</td>\n",
       "      <td>-7.31</td>\n",
       "      <td>-1.12</td>\n",
       "      <td>-0.30</td>\n",
       "      <td>1.70</td>\n",
       "      <td>2483.48</td>\n",
       "      <td>39.36</td>\n",
       "    </tr>\n",
       "    <tr>\n",
       "      <th>drop_vce_Mean</th>\n",
       "      <td>80000</td>\n",
       "      <td>0.00</td>\n",
       "      <td>311</td>\n",
       "      <td>0.00</td>\n",
       "      <td>0.67</td>\n",
       "      <td>5.95</td>\n",
       "      <td>3.00</td>\n",
       "      <td>7.67</td>\n",
       "      <td>232.67</td>\n",
       "      <td>8.94</td>\n",
       "    </tr>\n",
       "    <tr>\n",
       "      <th>drop_dat_Mean</th>\n",
       "      <td>80000</td>\n",
       "      <td>0.00</td>\n",
       "      <td>54</td>\n",
       "      <td>0.00</td>\n",
       "      <td>0.00</td>\n",
       "      <td>0.04</td>\n",
       "      <td>0.00</td>\n",
       "      <td>0.00</td>\n",
       "      <td>207.33</td>\n",
       "      <td>0.94</td>\n",
       "    </tr>\n",
       "    <tr>\n",
       "      <th>blck_vce_Mean</th>\n",
       "      <td>80000</td>\n",
       "      <td>0.00</td>\n",
       "      <td>415</td>\n",
       "      <td>0.00</td>\n",
       "      <td>0.00</td>\n",
       "      <td>4.04</td>\n",
       "      <td>1.00</td>\n",
       "      <td>3.67</td>\n",
       "      <td>385.33</td>\n",
       "      <td>10.84</td>\n",
       "    </tr>\n",
       "    <tr>\n",
       "      <th>blck_dat_Mean</th>\n",
       "      <td>80000</td>\n",
       "      <td>0.00</td>\n",
       "      <td>47</td>\n",
       "      <td>0.00</td>\n",
       "      <td>0.00</td>\n",
       "      <td>0.03</td>\n",
       "      <td>0.00</td>\n",
       "      <td>0.00</td>\n",
       "      <td>413.33</td>\n",
       "      <td>1.62</td>\n",
       "    </tr>\n",
       "    <tr>\n",
       "      <th>unan_vce_Mean</th>\n",
       "      <td>80000</td>\n",
       "      <td>0.00</td>\n",
       "      <td>932</td>\n",
       "      <td>0.00</td>\n",
       "      <td>5.00</td>\n",
       "      <td>27.71</td>\n",
       "      <td>16.00</td>\n",
       "      <td>35.67</td>\n",
       "      <td>848.67</td>\n",
       "      <td>38.15</td>\n",
       "    </tr>\n",
       "    <tr>\n",
       "      <th>unan_dat_Mean</th>\n",
       "      <td>80000</td>\n",
       "      <td>0.00</td>\n",
       "      <td>46</td>\n",
       "      <td>0.00</td>\n",
       "      <td>0.00</td>\n",
       "      <td>0.03</td>\n",
       "      <td>0.00</td>\n",
       "      <td>0.00</td>\n",
       "      <td>81.67</td>\n",
       "      <td>0.52</td>\n",
       "    </tr>\n",
       "    <tr>\n",
       "      <th>plcd_vce_Mean</th>\n",
       "      <td>80000</td>\n",
       "      <td>0.00</td>\n",
       "      <td>2749</td>\n",
       "      <td>0.00</td>\n",
       "      <td>38.33</td>\n",
       "      <td>144.52</td>\n",
       "      <td>100.67</td>\n",
       "      <td>198.33</td>\n",
       "      <td>2289.00</td>\n",
       "      <td>156.99</td>\n",
       "    </tr>\n",
       "    <tr>\n",
       "      <th>plcd_dat_Mean</th>\n",
       "      <td>80000</td>\n",
       "      <td>0.00</td>\n",
       "      <td>352</td>\n",
       "      <td>0.00</td>\n",
       "      <td>0.00</td>\n",
       "      <td>0.88</td>\n",
       "      <td>0.00</td>\n",
       "      <td>0.00</td>\n",
       "      <td>733.67</td>\n",
       "      <td>9.18</td>\n",
       "    </tr>\n",
       "    <tr>\n",
       "      <th>recv_vce_Mean</th>\n",
       "      <td>80000</td>\n",
       "      <td>0.00</td>\n",
       "      <td>1702</td>\n",
       "      <td>0.00</td>\n",
       "      <td>5.33</td>\n",
       "      <td>54.77</td>\n",
       "      <td>26.67</td>\n",
       "      <td>71.33</td>\n",
       "      <td>3369.33</td>\n",
       "      <td>85.24</td>\n",
       "    </tr>\n",
       "    <tr>\n",
       "      <th>recv_sms_Mean</th>\n",
       "      <td>80000</td>\n",
       "      <td>0.00</td>\n",
       "      <td>83</td>\n",
       "      <td>0.00</td>\n",
       "      <td>0.00</td>\n",
       "      <td>0.05</td>\n",
       "      <td>0.00</td>\n",
       "      <td>0.00</td>\n",
       "      <td>517.33</td>\n",
       "      <td>2.31</td>\n",
       "    </tr>\n",
       "    <tr>\n",
       "      <th>comp_vce_Mean</th>\n",
       "      <td>80000</td>\n",
       "      <td>0.00</td>\n",
       "      <td>2184</td>\n",
       "      <td>0.00</td>\n",
       "      <td>28.67</td>\n",
       "      <td>108.59</td>\n",
       "      <td>75.67</td>\n",
       "      <td>149.33</td>\n",
       "      <td>1894.33</td>\n",
       "      <td>117.57</td>\n",
       "    </tr>\n",
       "    <tr>\n",
       "      <th>comp_dat_Mean</th>\n",
       "      <td>80000</td>\n",
       "      <td>0.00</td>\n",
       "      <td>331</td>\n",
       "      <td>0.00</td>\n",
       "      <td>0.00</td>\n",
       "      <td>0.78</td>\n",
       "      <td>0.00</td>\n",
       "      <td>0.00</td>\n",
       "      <td>559.33</td>\n",
       "      <td>8.20</td>\n",
       "    </tr>\n",
       "    <tr>\n",
       "      <th>custcare_Mean</th>\n",
       "      <td>80000</td>\n",
       "      <td>0.00</td>\n",
       "      <td>198</td>\n",
       "      <td>0.00</td>\n",
       "      <td>0.00</td>\n",
       "      <td>1.80</td>\n",
       "      <td>0.00</td>\n",
       "      <td>1.67</td>\n",
       "      <td>675.33</td>\n",
       "      <td>5.42</td>\n",
       "    </tr>\n",
       "    <tr>\n",
       "      <th>ccrndmou_Mean</th>\n",
       "      <td>80000</td>\n",
       "      <td>0.00</td>\n",
       "      <td>431</td>\n",
       "      <td>0.00</td>\n",
       "      <td>0.00</td>\n",
       "      <td>4.68</td>\n",
       "      <td>0.00</td>\n",
       "      <td>4.00</td>\n",
       "      <td>861.33</td>\n",
       "      <td>12.97</td>\n",
       "    </tr>\n",
       "    <tr>\n",
       "      <th>cc_mou_Mean</th>\n",
       "      <td>80000</td>\n",
       "      <td>0.00</td>\n",
       "      <td>8404</td>\n",
       "      <td>0.00</td>\n",
       "      <td>0.00</td>\n",
       "      <td>3.70</td>\n",
       "      <td>0.00</td>\n",
       "      <td>2.88</td>\n",
       "      <td>602.95</td>\n",
       "      <td>10.72</td>\n",
       "    </tr>\n",
       "    <tr>\n",
       "      <th>inonemin_Mean</th>\n",
       "      <td>80000</td>\n",
       "      <td>0.00</td>\n",
       "      <td>1207</td>\n",
       "      <td>0.00</td>\n",
       "      <td>2.33</td>\n",
       "      <td>29.55</td>\n",
       "      <td>12.67</td>\n",
       "      <td>35.67</td>\n",
       "      <td>3086.67</td>\n",
       "      <td>54.59</td>\n",
       "    </tr>\n",
       "    <tr>\n",
       "      <th>threeway_Mean</th>\n",
       "      <td>80000</td>\n",
       "      <td>0.00</td>\n",
       "      <td>87</td>\n",
       "      <td>0.00</td>\n",
       "      <td>0.00</td>\n",
       "      <td>0.29</td>\n",
       "      <td>0.00</td>\n",
       "      <td>0.33</td>\n",
       "      <td>66.00</td>\n",
       "      <td>1.10</td>\n",
       "    </tr>\n",
       "    <tr>\n",
       "      <th>mou_cvce_Mean</th>\n",
       "      <td>80000</td>\n",
       "      <td>0.00</td>\n",
       "      <td>58098</td>\n",
       "      <td>0.00</td>\n",
       "      <td>48.83</td>\n",
       "      <td>227.32</td>\n",
       "      <td>145.63</td>\n",
       "      <td>309.31</td>\n",
       "      <td>3987.53</td>\n",
       "      <td>263.47</td>\n",
       "    </tr>\n",
       "    <tr>\n",
       "      <th>mou_cdat_Mean</th>\n",
       "      <td>80000</td>\n",
       "      <td>0.00</td>\n",
       "      <td>3825</td>\n",
       "      <td>0.00</td>\n",
       "      <td>0.00</td>\n",
       "      <td>1.83</td>\n",
       "      <td>0.00</td>\n",
       "      <td>0.00</td>\n",
       "      <td>2060.69</td>\n",
       "      <td>22.04</td>\n",
       "    </tr>\n",
       "    <tr>\n",
       "      <th>mou_rvce_Mean</th>\n",
       "      <td>80000</td>\n",
       "      <td>0.00</td>\n",
       "      <td>44732</td>\n",
       "      <td>0.00</td>\n",
       "      <td>7.67</td>\n",
       "      <td>111.22</td>\n",
       "      <td>50.13</td>\n",
       "      <td>149.54</td>\n",
       "      <td>2692.41</td>\n",
       "      <td>160.96</td>\n",
       "    </tr>\n",
       "    <tr>\n",
       "      <th>owylis_vce_Mean</th>\n",
       "      <td>80000</td>\n",
       "      <td>0.00</td>\n",
       "      <td>835</td>\n",
       "      <td>0.00</td>\n",
       "      <td>3.00</td>\n",
       "      <td>24.68</td>\n",
       "      <td>13.00</td>\n",
       "      <td>33.00</td>\n",
       "      <td>644.33</td>\n",
       "      <td>33.96</td>\n",
       "    </tr>\n",
       "    <tr>\n",
       "      <th>mouowylisv_Mean</th>\n",
       "      <td>80000</td>\n",
       "      <td>0.00</td>\n",
       "      <td>24157</td>\n",
       "      <td>0.00</td>\n",
       "      <td>2.39</td>\n",
       "      <td>28.35</td>\n",
       "      <td>11.98</td>\n",
       "      <td>34.03</td>\n",
       "      <td>1802.71</td>\n",
       "      <td>48.22</td>\n",
       "    </tr>\n",
       "    <tr>\n",
       "      <th>iwylis_vce_Mean</th>\n",
       "      <td>80000</td>\n",
       "      <td>0.00</td>\n",
       "      <td>493</td>\n",
       "      <td>0.00</td>\n",
       "      <td>0.00</td>\n",
       "      <td>7.86</td>\n",
       "      <td>2.00</td>\n",
       "      <td>8.67</td>\n",
       "      <td>519.33</td>\n",
       "      <td>15.88</td>\n",
       "    </tr>\n",
       "    <tr>\n",
       "      <th>mouiwylisv_Mean</th>\n",
       "      <td>80000</td>\n",
       "      <td>0.00</td>\n",
       "      <td>19013</td>\n",
       "      <td>0.00</td>\n",
       "      <td>0.00</td>\n",
       "      <td>18.11</td>\n",
       "      <td>3.22</td>\n",
       "      <td>18.20</td>\n",
       "      <td>1703.54</td>\n",
       "      <td>40.83</td>\n",
       "    </tr>\n",
       "    <tr>\n",
       "      <th>peak_vce_Mean</th>\n",
       "      <td>80000</td>\n",
       "      <td>0.00</td>\n",
       "      <td>2006</td>\n",
       "      <td>0.00</td>\n",
       "      <td>21.67</td>\n",
       "      <td>88.17</td>\n",
       "      <td>60.33</td>\n",
       "      <td>118.33</td>\n",
       "      <td>2090.67</td>\n",
       "      <td>102.16</td>\n",
       "    </tr>\n",
       "    <tr>\n",
       "      <th>peak_dat_Mean</th>\n",
       "      <td>80000</td>\n",
       "      <td>0.00</td>\n",
       "      <td>213</td>\n",
       "      <td>0.00</td>\n",
       "      <td>0.00</td>\n",
       "      <td>0.36</td>\n",
       "      <td>0.00</td>\n",
       "      <td>0.00</td>\n",
       "      <td>281.00</td>\n",
       "      <td>4.09</td>\n",
       "    </tr>\n",
       "    <tr>\n",
       "      <th>mou_peav_Mean</th>\n",
       "      <td>80000</td>\n",
       "      <td>0.00</td>\n",
       "      <td>54616</td>\n",
       "      <td>0.00</td>\n",
       "      <td>37.42</td>\n",
       "      <td>173.65</td>\n",
       "      <td>115.23</td>\n",
       "      <td>232.44</td>\n",
       "      <td>4015.35</td>\n",
       "      <td>206.62</td>\n",
       "    </tr>\n",
       "    <tr>\n",
       "      <th>mou_pead_Mean</th>\n",
       "      <td>80000</td>\n",
       "      <td>0.00</td>\n",
       "      <td>2722</td>\n",
       "      <td>0.00</td>\n",
       "      <td>0.00</td>\n",
       "      <td>0.72</td>\n",
       "      <td>0.00</td>\n",
       "      <td>0.00</td>\n",
       "      <td>1036.05</td>\n",
       "      <td>8.82</td>\n",
       "    </tr>\n",
       "    <tr>\n",
       "      <th>opk_vce_Mean</th>\n",
       "      <td>80000</td>\n",
       "      <td>0.00</td>\n",
       "      <td>1805</td>\n",
       "      <td>0.00</td>\n",
       "      <td>10.33</td>\n",
       "      <td>65.75</td>\n",
       "      <td>34.33</td>\n",
       "      <td>86.33</td>\n",
       "      <td>1643.33</td>\n",
       "      <td>90.01</td>\n",
       "    </tr>\n",
       "    <tr>\n",
       "      <th>opk_dat_Mean</th>\n",
       "      <td>80000</td>\n",
       "      <td>0.00</td>\n",
       "      <td>235</td>\n",
       "      <td>0.00</td>\n",
       "      <td>0.00</td>\n",
       "      <td>0.42</td>\n",
       "      <td>0.00</td>\n",
       "      <td>0.00</td>\n",
       "      <td>309.67</td>\n",
       "      <td>4.68</td>\n",
       "    </tr>\n",
       "    <tr>\n",
       "      <th>mou_opkv_Mean</th>\n",
       "      <td>80000</td>\n",
       "      <td>0.00</td>\n",
       "      <td>50946</td>\n",
       "      <td>0.00</td>\n",
       "      <td>18.50</td>\n",
       "      <td>164.83</td>\n",
       "      <td>75.87</td>\n",
       "      <td>210.36</td>\n",
       "      <td>3113.87</td>\n",
       "      <td>235.91</td>\n",
       "    </tr>\n",
       "    <tr>\n",
       "      <th>mou_opkd_Mean</th>\n",
       "      <td>80000</td>\n",
       "      <td>0.00</td>\n",
       "      <td>3048</td>\n",
       "      <td>0.00</td>\n",
       "      <td>0.00</td>\n",
       "      <td>1.11</td>\n",
       "      <td>0.00</td>\n",
       "      <td>0.00</td>\n",
       "      <td>1143.12</td>\n",
       "      <td>15.13</td>\n",
       "    </tr>\n",
       "    <tr>\n",
       "      <th>drop_blk_Mean</th>\n",
       "      <td>80000</td>\n",
       "      <td>0.00</td>\n",
       "      <td>488</td>\n",
       "      <td>0.00</td>\n",
       "      <td>1.67</td>\n",
       "      <td>10.06</td>\n",
       "      <td>5.33</td>\n",
       "      <td>12.33</td>\n",
       "      <td>489.67</td>\n",
       "      <td>15.55</td>\n",
       "    </tr>\n",
       "    <tr>\n",
       "      <th>attempt_Mean</th>\n",
       "      <td>80000</td>\n",
       "      <td>0.00</td>\n",
       "      <td>2765</td>\n",
       "      <td>0.00</td>\n",
       "      <td>38.33</td>\n",
       "      <td>145.40</td>\n",
       "      <td>101.00</td>\n",
       "      <td>199.67</td>\n",
       "      <td>2289.00</td>\n",
       "      <td>158.10</td>\n",
       "    </tr>\n",
       "    <tr>\n",
       "      <th>complete_Mean</th>\n",
       "      <td>80000</td>\n",
       "      <td>0.00</td>\n",
       "      <td>2220</td>\n",
       "      <td>0.00</td>\n",
       "      <td>28.67</td>\n",
       "      <td>109.37</td>\n",
       "      <td>76.00</td>\n",
       "      <td>150.33</td>\n",
       "      <td>1894.33</td>\n",
       "      <td>118.62</td>\n",
       "    </tr>\n",
       "    <tr>\n",
       "      <th>callfwdv_Mean</th>\n",
       "      <td>80000</td>\n",
       "      <td>0.00</td>\n",
       "      <td>40</td>\n",
       "      <td>0.00</td>\n",
       "      <td>0.00</td>\n",
       "      <td>0.01</td>\n",
       "      <td>0.00</td>\n",
       "      <td>0.00</td>\n",
       "      <td>81.33</td>\n",
       "      <td>0.57</td>\n",
       "    </tr>\n",
       "    <tr>\n",
       "      <th>callwait_Mean</th>\n",
       "      <td>80000</td>\n",
       "      <td>0.00</td>\n",
       "      <td>232</td>\n",
       "      <td>0.00</td>\n",
       "      <td>0.00</td>\n",
       "      <td>1.76</td>\n",
       "      <td>0.33</td>\n",
       "      <td>1.33</td>\n",
       "      <td>212.67</td>\n",
       "      <td>5.15</td>\n",
       "    </tr>\n",
       "    <tr>\n",
       "      <th>churn</th>\n",
       "      <td>80000</td>\n",
       "      <td>0.00</td>\n",
       "      <td>2</td>\n",
       "      <td>0.00</td>\n",
       "      <td>0.00</td>\n",
       "      <td>0.50</td>\n",
       "      <td>0.00</td>\n",
       "      <td>1.00</td>\n",
       "      <td>1.00</td>\n",
       "      <td>0.50</td>\n",
       "    </tr>\n",
       "    <tr>\n",
       "      <th>months</th>\n",
       "      <td>80000</td>\n",
       "      <td>0.00</td>\n",
       "      <td>56</td>\n",
       "      <td>6.00</td>\n",
       "      <td>11.00</td>\n",
       "      <td>18.85</td>\n",
       "      <td>16.00</td>\n",
       "      <td>24.00</td>\n",
       "      <td>61.00</td>\n",
       "      <td>9.66</td>\n",
       "    </tr>\n",
       "    <tr>\n",
       "      <th>uniqsubs</th>\n",
       "      <td>80000</td>\n",
       "      <td>0.00</td>\n",
       "      <td>15</td>\n",
       "      <td>1.00</td>\n",
       "      <td>1.00</td>\n",
       "      <td>1.55</td>\n",
       "      <td>1.00</td>\n",
       "      <td>2.00</td>\n",
       "      <td>196.00</td>\n",
       "      <td>1.12</td>\n",
       "    </tr>\n",
       "    <tr>\n",
       "      <th>actvsubs</th>\n",
       "      <td>80000</td>\n",
       "      <td>0.00</td>\n",
       "      <td>11</td>\n",
       "      <td>0.00</td>\n",
       "      <td>1.00</td>\n",
       "      <td>1.36</td>\n",
       "      <td>1.00</td>\n",
       "      <td>2.00</td>\n",
       "      <td>53.00</td>\n",
       "      <td>0.66</td>\n",
       "    </tr>\n",
       "    <tr>\n",
       "      <th>totcalls</th>\n",
       "      <td>80000</td>\n",
       "      <td>0.00</td>\n",
       "      <td>11353</td>\n",
       "      <td>0.00</td>\n",
       "      <td>887.00</td>\n",
       "      <td>2878.77</td>\n",
       "      <td>1823.00</td>\n",
       "      <td>3496.00</td>\n",
       "      <td>98874.00</td>\n",
       "      <td>3802.78</td>\n",
       "    </tr>\n",
       "    <tr>\n",
       "      <th>totmou</th>\n",
       "      <td>80000</td>\n",
       "      <td>0.00</td>\n",
       "      <td>21938</td>\n",
       "      <td>0.00</td>\n",
       "      <td>2530.75</td>\n",
       "      <td>7652.04</td>\n",
       "      <td>5183.00</td>\n",
       "      <td>9796.00</td>\n",
       "      <td>233419.10</td>\n",
       "      <td>8692.36</td>\n",
       "    </tr>\n",
       "    <tr>\n",
       "      <th>totrev</th>\n",
       "      <td>80000</td>\n",
       "      <td>0.00</td>\n",
       "      <td>63935</td>\n",
       "      <td>3.65</td>\n",
       "      <td>519.17</td>\n",
       "      <td>1031.93</td>\n",
       "      <td>804.58</td>\n",
       "      <td>1260.28</td>\n",
       "      <td>19754.85</td>\n",
       "      <td>850.27</td>\n",
       "    </tr>\n",
       "    <tr>\n",
       "      <th>adjrev</th>\n",
       "      <td>80000</td>\n",
       "      <td>0.00</td>\n",
       "      <td>63243</td>\n",
       "      <td>2.40</td>\n",
       "      <td>452.56</td>\n",
       "      <td>960.25</td>\n",
       "      <td>737.76</td>\n",
       "      <td>1185.87</td>\n",
       "      <td>19432.46</td>\n",
       "      <td>837.60</td>\n",
       "    </tr>\n",
       "    <tr>\n",
       "      <th>adjmou</th>\n",
       "      <td>80000</td>\n",
       "      <td>0.00</td>\n",
       "      <td>21655</td>\n",
       "      <td>0.00</td>\n",
       "      <td>2473.00</td>\n",
       "      <td>7549.85</td>\n",
       "      <td>5094.50</td>\n",
       "      <td>9687.00</td>\n",
       "      <td>232855.10</td>\n",
       "      <td>8619.69</td>\n",
       "    </tr>\n",
       "    <tr>\n",
       "      <th>adjqty</th>\n",
       "      <td>80000</td>\n",
       "      <td>0.00</td>\n",
       "      <td>11351</td>\n",
       "      <td>0.00</td>\n",
       "      <td>868.00</td>\n",
       "      <td>2837.87</td>\n",
       "      <td>1790.00</td>\n",
       "      <td>3446.00</td>\n",
       "      <td>98705.00</td>\n",
       "      <td>3767.74</td>\n",
       "    </tr>\n",
       "    <tr>\n",
       "      <th>avgrev</th>\n",
       "      <td>80000</td>\n",
       "      <td>0.00</td>\n",
       "      <td>13943</td>\n",
       "      <td>0.48</td>\n",
       "      <td>35.38</td>\n",
       "      <td>57.86</td>\n",
       "      <td>49.98</td>\n",
       "      <td>69.43</td>\n",
       "      <td>736.76</td>\n",
       "      <td>35.88</td>\n",
       "    </tr>\n",
       "    <tr>\n",
       "      <th>avgmou</th>\n",
       "      <td>80000</td>\n",
       "      <td>0.00</td>\n",
       "      <td>50329</td>\n",
       "      <td>0.00</td>\n",
       "      <td>175.80</td>\n",
       "      <td>483.05</td>\n",
       "      <td>360.01</td>\n",
       "      <td>654.75</td>\n",
       "      <td>5367.17</td>\n",
       "      <td>435.89</td>\n",
       "    </tr>\n",
       "    <tr>\n",
       "      <th>avgqty</th>\n",
       "      <td>80000</td>\n",
       "      <td>0.00</td>\n",
       "      <td>31519</td>\n",
       "      <td>0.00</td>\n",
       "      <td>64.24</td>\n",
       "      <td>173.28</td>\n",
       "      <td>127.56</td>\n",
       "      <td>228.37</td>\n",
       "      <td>2716.71</td>\n",
       "      <td>166.52</td>\n",
       "    </tr>\n",
       "    <tr>\n",
       "      <th>avg3mou</th>\n",
       "      <td>80000</td>\n",
       "      <td>0.00</td>\n",
       "      <td>2975</td>\n",
       "      <td>0.00</td>\n",
       "      <td>151.00</td>\n",
       "      <td>518.73</td>\n",
       "      <td>357.00</td>\n",
       "      <td>711.00</td>\n",
       "      <td>7456.00</td>\n",
       "      <td>530.87</td>\n",
       "    </tr>\n",
       "    <tr>\n",
       "      <th>avg3qty</th>\n",
       "      <td>80000</td>\n",
       "      <td>0.00</td>\n",
       "      <td>1356</td>\n",
       "      <td>0.00</td>\n",
       "      <td>55.00</td>\n",
       "      <td>179.88</td>\n",
       "      <td>126.00</td>\n",
       "      <td>239.00</td>\n",
       "      <td>3909.00</td>\n",
       "      <td>190.68</td>\n",
       "    </tr>\n",
       "    <tr>\n",
       "      <th>avg3rev</th>\n",
       "      <td>80000</td>\n",
       "      <td>0.00</td>\n",
       "      <td>484</td>\n",
       "      <td>1.00</td>\n",
       "      <td>33.00</td>\n",
       "      <td>59.12</td>\n",
       "      <td>48.00</td>\n",
       "      <td>71.00</td>\n",
       "      <td>1593.00</td>\n",
       "      <td>46.58</td>\n",
       "    </tr>\n",
       "    <tr>\n",
       "      <th>avg6mou</th>\n",
       "      <td>80000</td>\n",
       "      <td>2.82</td>\n",
       "      <td>2805</td>\n",
       "      <td>0.00</td>\n",
       "      <td>163.00</td>\n",
       "      <td>508.71</td>\n",
       "      <td>363.00</td>\n",
       "      <td>696.00</td>\n",
       "      <td>6597.00</td>\n",
       "      <td>494.05</td>\n",
       "    </tr>\n",
       "    <tr>\n",
       "      <th>avg6qty</th>\n",
       "      <td>80000</td>\n",
       "      <td>2.82</td>\n",
       "      <td>1295</td>\n",
       "      <td>0.00</td>\n",
       "      <td>59.00</td>\n",
       "      <td>177.95</td>\n",
       "      <td>127.00</td>\n",
       "      <td>236.00</td>\n",
       "      <td>3256.00</td>\n",
       "      <td>180.90</td>\n",
       "    </tr>\n",
       "    <tr>\n",
       "      <th>avg6rev</th>\n",
       "      <td>80000</td>\n",
       "      <td>2.82</td>\n",
       "      <td>424</td>\n",
       "      <td>-1.00</td>\n",
       "      <td>34.00</td>\n",
       "      <td>58.61</td>\n",
       "      <td>50.00</td>\n",
       "      <td>71.00</td>\n",
       "      <td>866.00</td>\n",
       "      <td>40.49</td>\n",
       "    </tr>\n",
       "    <tr>\n",
       "      <th>hnd_price</th>\n",
       "      <td>80000</td>\n",
       "      <td>0.84</td>\n",
       "      <td>16</td>\n",
       "      <td>9.99</td>\n",
       "      <td>29.99</td>\n",
       "      <td>101.98</td>\n",
       "      <td>99.99</td>\n",
       "      <td>149.99</td>\n",
       "      <td>499.99</td>\n",
       "      <td>61.07</td>\n",
       "    </tr>\n",
       "    <tr>\n",
       "      <th>phones</th>\n",
       "      <td>80000</td>\n",
       "      <td>0.00</td>\n",
       "      <td>24</td>\n",
       "      <td>1.00</td>\n",
       "      <td>1.00</td>\n",
       "      <td>1.79</td>\n",
       "      <td>1.00</td>\n",
       "      <td>2.00</td>\n",
       "      <td>28.00</td>\n",
       "      <td>1.31</td>\n",
       "    </tr>\n",
       "    <tr>\n",
       "      <th>models</th>\n",
       "      <td>80000</td>\n",
       "      <td>0.00</td>\n",
       "      <td>14</td>\n",
       "      <td>1.00</td>\n",
       "      <td>1.00</td>\n",
       "      <td>1.55</td>\n",
       "      <td>1.00</td>\n",
       "      <td>2.00</td>\n",
       "      <td>16.00</td>\n",
       "      <td>0.90</td>\n",
       "    </tr>\n",
       "    <tr>\n",
       "      <th>forgntvl</th>\n",
       "      <td>80000</td>\n",
       "      <td>1.72</td>\n",
       "      <td>2</td>\n",
       "      <td>0.00</td>\n",
       "      <td>0.00</td>\n",
       "      <td>0.06</td>\n",
       "      <td>0.00</td>\n",
       "      <td>0.00</td>\n",
       "      <td>1.00</td>\n",
       "      <td>0.23</td>\n",
       "    </tr>\n",
       "    <tr>\n",
       "      <th>eqpdays</th>\n",
       "      <td>80000</td>\n",
       "      <td>0.00</td>\n",
       "      <td>1528</td>\n",
       "      <td>-5.00</td>\n",
       "      <td>211.00</td>\n",
       "      <td>391.77</td>\n",
       "      <td>342.00</td>\n",
       "      <td>529.00</td>\n",
       "      <td>1823.00</td>\n",
       "      <td>256.71</td>\n",
       "    </tr>\n",
       "    <tr>\n",
       "      <th>Customer_ID</th>\n",
       "      <td>80000</td>\n",
       "      <td>0.00</td>\n",
       "      <td>80000</td>\n",
       "      <td>1000001.00</td>\n",
       "      <td>1025055.75</td>\n",
       "      <td>1049975.06</td>\n",
       "      <td>1049918.50</td>\n",
       "      <td>1074991.25</td>\n",
       "      <td>1100000.00</td>\n",
       "      <td>28862.91</td>\n",
       "    </tr>\n",
       "  </tbody>\n",
       "</table>\n",
       "</div>"
      ],
      "text/plain": [
       "                 Count  Miss %  Card.        Min   1st Qrt.       Mean  \\\n",
       "rev_Mean         80000    0.36  33218      -6.17      33.28      58.61   \n",
       "mou_Mean         80000    0.36   9140       0.00     150.50     512.50   \n",
       "totmrc_Mean      80000    0.36   7263     -26.91      30.00      46.21   \n",
       "da_Mean          80000    0.36    161       0.00       0.00       0.88   \n",
       "ovrmou_Mean      80000    0.36   2421       0.00       0.00      40.74   \n",
       "ovrrev_Mean      80000    0.36  10721       0.00       0.00      13.47   \n",
       "vceovr_Mean      80000    0.36   6700       0.00       0.00      13.20   \n",
       "datovr_Mean      80000    0.36    686       0.00       0.00       0.26   \n",
       "roam_Mean        80000    0.36   4689       0.00       0.00       1.25   \n",
       "change_mou       80000    0.89   7156   -3406.50     -87.25     -14.44   \n",
       "change_rev       80000    0.89  28467   -1107.74      -7.31      -1.12   \n",
       "drop_vce_Mean    80000    0.00    311       0.00       0.67       5.95   \n",
       "drop_dat_Mean    80000    0.00     54       0.00       0.00       0.04   \n",
       "blck_vce_Mean    80000    0.00    415       0.00       0.00       4.04   \n",
       "blck_dat_Mean    80000    0.00     47       0.00       0.00       0.03   \n",
       "unan_vce_Mean    80000    0.00    932       0.00       5.00      27.71   \n",
       "unan_dat_Mean    80000    0.00     46       0.00       0.00       0.03   \n",
       "plcd_vce_Mean    80000    0.00   2749       0.00      38.33     144.52   \n",
       "plcd_dat_Mean    80000    0.00    352       0.00       0.00       0.88   \n",
       "recv_vce_Mean    80000    0.00   1702       0.00       5.33      54.77   \n",
       "recv_sms_Mean    80000    0.00     83       0.00       0.00       0.05   \n",
       "comp_vce_Mean    80000    0.00   2184       0.00      28.67     108.59   \n",
       "comp_dat_Mean    80000    0.00    331       0.00       0.00       0.78   \n",
       "custcare_Mean    80000    0.00    198       0.00       0.00       1.80   \n",
       "ccrndmou_Mean    80000    0.00    431       0.00       0.00       4.68   \n",
       "cc_mou_Mean      80000    0.00   8404       0.00       0.00       3.70   \n",
       "inonemin_Mean    80000    0.00   1207       0.00       2.33      29.55   \n",
       "threeway_Mean    80000    0.00     87       0.00       0.00       0.29   \n",
       "mou_cvce_Mean    80000    0.00  58098       0.00      48.83     227.32   \n",
       "mou_cdat_Mean    80000    0.00   3825       0.00       0.00       1.83   \n",
       "mou_rvce_Mean    80000    0.00  44732       0.00       7.67     111.22   \n",
       "owylis_vce_Mean  80000    0.00    835       0.00       3.00      24.68   \n",
       "mouowylisv_Mean  80000    0.00  24157       0.00       2.39      28.35   \n",
       "iwylis_vce_Mean  80000    0.00    493       0.00       0.00       7.86   \n",
       "mouiwylisv_Mean  80000    0.00  19013       0.00       0.00      18.11   \n",
       "peak_vce_Mean    80000    0.00   2006       0.00      21.67      88.17   \n",
       "peak_dat_Mean    80000    0.00    213       0.00       0.00       0.36   \n",
       "mou_peav_Mean    80000    0.00  54616       0.00      37.42     173.65   \n",
       "mou_pead_Mean    80000    0.00   2722       0.00       0.00       0.72   \n",
       "opk_vce_Mean     80000    0.00   1805       0.00      10.33      65.75   \n",
       "opk_dat_Mean     80000    0.00    235       0.00       0.00       0.42   \n",
       "mou_opkv_Mean    80000    0.00  50946       0.00      18.50     164.83   \n",
       "mou_opkd_Mean    80000    0.00   3048       0.00       0.00       1.11   \n",
       "drop_blk_Mean    80000    0.00    488       0.00       1.67      10.06   \n",
       "attempt_Mean     80000    0.00   2765       0.00      38.33     145.40   \n",
       "complete_Mean    80000    0.00   2220       0.00      28.67     109.37   \n",
       "callfwdv_Mean    80000    0.00     40       0.00       0.00       0.01   \n",
       "callwait_Mean    80000    0.00    232       0.00       0.00       1.76   \n",
       "churn            80000    0.00      2       0.00       0.00       0.50   \n",
       "months           80000    0.00     56       6.00      11.00      18.85   \n",
       "uniqsubs         80000    0.00     15       1.00       1.00       1.55   \n",
       "actvsubs         80000    0.00     11       0.00       1.00       1.36   \n",
       "totcalls         80000    0.00  11353       0.00     887.00    2878.77   \n",
       "totmou           80000    0.00  21938       0.00    2530.75    7652.04   \n",
       "totrev           80000    0.00  63935       3.65     519.17    1031.93   \n",
       "adjrev           80000    0.00  63243       2.40     452.56     960.25   \n",
       "adjmou           80000    0.00  21655       0.00    2473.00    7549.85   \n",
       "adjqty           80000    0.00  11351       0.00     868.00    2837.87   \n",
       "avgrev           80000    0.00  13943       0.48      35.38      57.86   \n",
       "avgmou           80000    0.00  50329       0.00     175.80     483.05   \n",
       "avgqty           80000    0.00  31519       0.00      64.24     173.28   \n",
       "avg3mou          80000    0.00   2975       0.00     151.00     518.73   \n",
       "avg3qty          80000    0.00   1356       0.00      55.00     179.88   \n",
       "avg3rev          80000    0.00    484       1.00      33.00      59.12   \n",
       "avg6mou          80000    2.82   2805       0.00     163.00     508.71   \n",
       "avg6qty          80000    2.82   1295       0.00      59.00     177.95   \n",
       "avg6rev          80000    2.82    424      -1.00      34.00      58.61   \n",
       "hnd_price        80000    0.84     16       9.99      29.99     101.98   \n",
       "phones           80000    0.00     24       1.00       1.00       1.79   \n",
       "models           80000    0.00     14       1.00       1.00       1.55   \n",
       "forgntvl         80000    1.72      2       0.00       0.00       0.06   \n",
       "eqpdays          80000    0.00   1528      -5.00     211.00     391.77   \n",
       "Customer_ID      80000    0.00  80000 1000001.00 1025055.75 1049975.06   \n",
       "\n",
       "                    Median   3rd Qrt.        Max  Std. Dev.  \n",
       "rev_Mean             48.32      70.71    1223.38      44.54  \n",
       "mou_Mean            355.00     702.25    7242.00     520.69  \n",
       "totmrc_Mean          44.99      59.99     399.99      23.58  \n",
       "da_Mean               0.25       0.74      72.77       2.11  \n",
       "ovrmou_Mean           2.75      42.00    4320.75      96.04  \n",
       "ovrrev_Mean           0.97      14.38    1102.40      30.31  \n",
       "vceovr_Mean           0.61      14.00     890.76      29.84  \n",
       "datovr_Mean           0.00       0.00     423.54       3.18  \n",
       "roam_Mean             0.00       0.23    1112.45       9.10  \n",
       "change_mou           -6.25      63.25    5192.25     258.46  \n",
       "change_rev           -0.30       1.70    2483.48      39.36  \n",
       "drop_vce_Mean         3.00       7.67     232.67       8.94  \n",
       "drop_dat_Mean         0.00       0.00     207.33       0.94  \n",
       "blck_vce_Mean         1.00       3.67     385.33      10.84  \n",
       "blck_dat_Mean         0.00       0.00     413.33       1.62  \n",
       "unan_vce_Mean        16.00      35.67     848.67      38.15  \n",
       "unan_dat_Mean         0.00       0.00      81.67       0.52  \n",
       "plcd_vce_Mean       100.67     198.33    2289.00     156.99  \n",
       "plcd_dat_Mean         0.00       0.00     733.67       9.18  \n",
       "recv_vce_Mean        26.67      71.33    3369.33      85.24  \n",
       "recv_sms_Mean         0.00       0.00     517.33       2.31  \n",
       "comp_vce_Mean        75.67     149.33    1894.33     117.57  \n",
       "comp_dat_Mean         0.00       0.00     559.33       8.20  \n",
       "custcare_Mean         0.00       1.67     675.33       5.42  \n",
       "ccrndmou_Mean         0.00       4.00     861.33      12.97  \n",
       "cc_mou_Mean           0.00       2.88     602.95      10.72  \n",
       "inonemin_Mean        12.67      35.67    3086.67      54.59  \n",
       "threeway_Mean         0.00       0.33      66.00       1.10  \n",
       "mou_cvce_Mean       145.63     309.31    3987.53     263.47  \n",
       "mou_cdat_Mean         0.00       0.00    2060.69      22.04  \n",
       "mou_rvce_Mean        50.13     149.54    2692.41     160.96  \n",
       "owylis_vce_Mean      13.00      33.00     644.33      33.96  \n",
       "mouowylisv_Mean      11.98      34.03    1802.71      48.22  \n",
       "iwylis_vce_Mean       2.00       8.67     519.33      15.88  \n",
       "mouiwylisv_Mean       3.22      18.20    1703.54      40.83  \n",
       "peak_vce_Mean        60.33     118.33    2090.67     102.16  \n",
       "peak_dat_Mean         0.00       0.00     281.00       4.09  \n",
       "mou_peav_Mean       115.23     232.44    4015.35     206.62  \n",
       "mou_pead_Mean         0.00       0.00    1036.05       8.82  \n",
       "opk_vce_Mean         34.33      86.33    1643.33      90.01  \n",
       "opk_dat_Mean          0.00       0.00     309.67       4.68  \n",
       "mou_opkv_Mean        75.87     210.36    3113.87     235.91  \n",
       "mou_opkd_Mean         0.00       0.00    1143.12      15.13  \n",
       "drop_blk_Mean         5.33      12.33     489.67      15.55  \n",
       "attempt_Mean        101.00     199.67    2289.00     158.10  \n",
       "complete_Mean        76.00     150.33    1894.33     118.62  \n",
       "callfwdv_Mean         0.00       0.00      81.33       0.57  \n",
       "callwait_Mean         0.33       1.33     212.67       5.15  \n",
       "churn                 0.00       1.00       1.00       0.50  \n",
       "months               16.00      24.00      61.00       9.66  \n",
       "uniqsubs              1.00       2.00     196.00       1.12  \n",
       "actvsubs              1.00       2.00      53.00       0.66  \n",
       "totcalls           1823.00    3496.00   98874.00    3802.78  \n",
       "totmou             5183.00    9796.00  233419.10    8692.36  \n",
       "totrev              804.58    1260.28   19754.85     850.27  \n",
       "adjrev              737.76    1185.87   19432.46     837.60  \n",
       "adjmou             5094.50    9687.00  232855.10    8619.69  \n",
       "adjqty             1790.00    3446.00   98705.00    3767.74  \n",
       "avgrev               49.98      69.43     736.76      35.88  \n",
       "avgmou              360.01     654.75    5367.17     435.89  \n",
       "avgqty              127.56     228.37    2716.71     166.52  \n",
       "avg3mou             357.00     711.00    7456.00     530.87  \n",
       "avg3qty             126.00     239.00    3909.00     190.68  \n",
       "avg3rev              48.00      71.00    1593.00      46.58  \n",
       "avg6mou             363.00     696.00    6597.00     494.05  \n",
       "avg6qty             127.00     236.00    3256.00     180.90  \n",
       "avg6rev              50.00      71.00     866.00      40.49  \n",
       "hnd_price            99.99     149.99     499.99      61.07  \n",
       "phones                1.00       2.00      28.00       1.31  \n",
       "models                1.00       2.00      16.00       0.90  \n",
       "forgntvl              0.00       0.00       1.00       0.23  \n",
       "eqpdays             342.00     529.00    1823.00     256.71  \n",
       "Customer_ID     1049918.50 1074991.25 1100000.00   28862.91  "
      ]
     },
     "metadata": {},
     "output_type": "display_data"
    },
    {
     "name": "stdout",
     "output_type": "stream",
     "text": [
      "\n",
      "Data quality report for qualitative features\n"
     ]
    },
    {
     "data": {
      "text/html": [
       "<div>\n",
       "<style scoped>\n",
       "    .dataframe tbody tr th:only-of-type {\n",
       "        vertical-align: middle;\n",
       "    }\n",
       "\n",
       "    .dataframe tbody tr th {\n",
       "        vertical-align: top;\n",
       "    }\n",
       "\n",
       "    .dataframe thead th {\n",
       "        text-align: right;\n",
       "    }\n",
       "</style>\n",
       "<table border=\"1\" class=\"dataframe\">\n",
       "  <thead>\n",
       "    <tr style=\"text-align: right;\">\n",
       "      <th></th>\n",
       "      <th>Count</th>\n",
       "      <th>Miss %</th>\n",
       "      <th>Card.</th>\n",
       "      <th>Mode</th>\n",
       "      <th>Mode Freq</th>\n",
       "      <th>Mode %</th>\n",
       "      <th>2nd Mode</th>\n",
       "      <th>2nd Mode Freq</th>\n",
       "      <th>2nd Mode %</th>\n",
       "    </tr>\n",
       "  </thead>\n",
       "  <tbody>\n",
       "    <tr>\n",
       "      <th>truck</th>\n",
       "      <td>80000</td>\n",
       "      <td>1.72</td>\n",
       "      <td>2</td>\n",
       "      <td>0.00</td>\n",
       "      <td>63784</td>\n",
       "      <td>81.13</td>\n",
       "      <td>1.00</td>\n",
       "      <td>14839</td>\n",
       "      <td>18.87</td>\n",
       "    </tr>\n",
       "    <tr>\n",
       "      <th>rv</th>\n",
       "      <td>80000</td>\n",
       "      <td>1.72</td>\n",
       "      <td>2</td>\n",
       "      <td>0.00</td>\n",
       "      <td>72163</td>\n",
       "      <td>91.78</td>\n",
       "      <td>1.00</td>\n",
       "      <td>6460</td>\n",
       "      <td>8.22</td>\n",
       "    </tr>\n",
       "    <tr>\n",
       "      <th>lor</th>\n",
       "      <td>80000</td>\n",
       "      <td>30.19</td>\n",
       "      <td>16</td>\n",
       "      <td>1.00</td>\n",
       "      <td>8001</td>\n",
       "      <td>14.33</td>\n",
       "      <td>2.00</td>\n",
       "      <td>7216</td>\n",
       "      <td>12.92</td>\n",
       "    </tr>\n",
       "    <tr>\n",
       "      <th>adults</th>\n",
       "      <td>80000</td>\n",
       "      <td>23.00</td>\n",
       "      <td>6</td>\n",
       "      <td>2.00</td>\n",
       "      <td>18423</td>\n",
       "      <td>29.91</td>\n",
       "      <td>1.00</td>\n",
       "      <td>17851</td>\n",
       "      <td>28.98</td>\n",
       "    </tr>\n",
       "    <tr>\n",
       "      <th>income</th>\n",
       "      <td>80000</td>\n",
       "      <td>25.41</td>\n",
       "      <td>9</td>\n",
       "      <td>6.00</td>\n",
       "      <td>15039</td>\n",
       "      <td>25.20</td>\n",
       "      <td>7.00</td>\n",
       "      <td>9313</td>\n",
       "      <td>15.61</td>\n",
       "    </tr>\n",
       "    <tr>\n",
       "      <th>numbcars</th>\n",
       "      <td>80000</td>\n",
       "      <td>49.31</td>\n",
       "      <td>3</td>\n",
       "      <td>1.00</td>\n",
       "      <td>20492</td>\n",
       "      <td>50.54</td>\n",
       "      <td>2.00</td>\n",
       "      <td>17068</td>\n",
       "      <td>42.09</td>\n",
       "    </tr>\n",
       "    <tr>\n",
       "      <th>new_cell</th>\n",
       "      <td>80000</td>\n",
       "      <td>0.00</td>\n",
       "      <td>3</td>\n",
       "      <td>U</td>\n",
       "      <td>53426</td>\n",
       "      <td>66.78</td>\n",
       "      <td>Y</td>\n",
       "      <td>15531</td>\n",
       "      <td>19.41</td>\n",
       "    </tr>\n",
       "    <tr>\n",
       "      <th>crclscod</th>\n",
       "      <td>80000</td>\n",
       "      <td>0.00</td>\n",
       "      <td>54</td>\n",
       "      <td>AA</td>\n",
       "      <td>29285</td>\n",
       "      <td>36.61</td>\n",
       "      <td>A</td>\n",
       "      <td>13626</td>\n",
       "      <td>17.03</td>\n",
       "    </tr>\n",
       "    <tr>\n",
       "      <th>asl_flag</th>\n",
       "      <td>80000</td>\n",
       "      <td>0.00</td>\n",
       "      <td>2</td>\n",
       "      <td>N</td>\n",
       "      <td>68893</td>\n",
       "      <td>86.12</td>\n",
       "      <td>Y</td>\n",
       "      <td>11107</td>\n",
       "      <td>13.88</td>\n",
       "    </tr>\n",
       "    <tr>\n",
       "      <th>prizm_social_one</th>\n",
       "      <td>80000</td>\n",
       "      <td>7.39</td>\n",
       "      <td>5</td>\n",
       "      <td>S</td>\n",
       "      <td>25603</td>\n",
       "      <td>34.56</td>\n",
       "      <td>U</td>\n",
       "      <td>18865</td>\n",
       "      <td>25.46</td>\n",
       "    </tr>\n",
       "    <tr>\n",
       "      <th>area</th>\n",
       "      <td>80000</td>\n",
       "      <td>0.04</td>\n",
       "      <td>19</td>\n",
       "      <td>NEW YORK CITY AREA</td>\n",
       "      <td>8897</td>\n",
       "      <td>11.13</td>\n",
       "      <td>LOS ANGELES AREA</td>\n",
       "      <td>5285</td>\n",
       "      <td>6.61</td>\n",
       "    </tr>\n",
       "    <tr>\n",
       "      <th>dualband</th>\n",
       "      <td>80000</td>\n",
       "      <td>0.00</td>\n",
       "      <td>4</td>\n",
       "      <td>Y</td>\n",
       "      <td>57902</td>\n",
       "      <td>72.38</td>\n",
       "      <td>N</td>\n",
       "      <td>18452</td>\n",
       "      <td>23.06</td>\n",
       "    </tr>\n",
       "    <tr>\n",
       "      <th>refurb_new</th>\n",
       "      <td>80000</td>\n",
       "      <td>0.00</td>\n",
       "      <td>2</td>\n",
       "      <td>N</td>\n",
       "      <td>68452</td>\n",
       "      <td>85.56</td>\n",
       "      <td>R</td>\n",
       "      <td>11548</td>\n",
       "      <td>14.44</td>\n",
       "    </tr>\n",
       "    <tr>\n",
       "      <th>hnd_webcap</th>\n",
       "      <td>80000</td>\n",
       "      <td>10.19</td>\n",
       "      <td>3</td>\n",
       "      <td>WCMB</td>\n",
       "      <td>60669</td>\n",
       "      <td>84.44</td>\n",
       "      <td>WC</td>\n",
       "      <td>11000</td>\n",
       "      <td>15.31</td>\n",
       "    </tr>\n",
       "    <tr>\n",
       "      <th>ownrent</th>\n",
       "      <td>80000</td>\n",
       "      <td>33.72</td>\n",
       "      <td>2</td>\n",
       "      <td>O</td>\n",
       "      <td>51415</td>\n",
       "      <td>96.96</td>\n",
       "      <td>R</td>\n",
       "      <td>1611</td>\n",
       "      <td>3.04</td>\n",
       "    </tr>\n",
       "    <tr>\n",
       "      <th>dwlltype</th>\n",
       "      <td>80000</td>\n",
       "      <td>31.92</td>\n",
       "      <td>2</td>\n",
       "      <td>S</td>\n",
       "      <td>39044</td>\n",
       "      <td>71.69</td>\n",
       "      <td>M</td>\n",
       "      <td>15417</td>\n",
       "      <td>28.31</td>\n",
       "    </tr>\n",
       "    <tr>\n",
       "      <th>marital</th>\n",
       "      <td>80000</td>\n",
       "      <td>1.72</td>\n",
       "      <td>5</td>\n",
       "      <td>U</td>\n",
       "      <td>29962</td>\n",
       "      <td>38.11</td>\n",
       "      <td>M</td>\n",
       "      <td>24809</td>\n",
       "      <td>31.55</td>\n",
       "    </tr>\n",
       "    <tr>\n",
       "      <th>infobase</th>\n",
       "      <td>80000</td>\n",
       "      <td>22.07</td>\n",
       "      <td>2</td>\n",
       "      <td>M</td>\n",
       "      <td>62164</td>\n",
       "      <td>99.72</td>\n",
       "      <td>N</td>\n",
       "      <td>176</td>\n",
       "      <td>0.28</td>\n",
       "    </tr>\n",
       "    <tr>\n",
       "      <th>HHstatin</th>\n",
       "      <td>80000</td>\n",
       "      <td>38.02</td>\n",
       "      <td>6</td>\n",
       "      <td>C</td>\n",
       "      <td>31248</td>\n",
       "      <td>63.02</td>\n",
       "      <td>I</td>\n",
       "      <td>9826</td>\n",
       "      <td>19.82</td>\n",
       "    </tr>\n",
       "    <tr>\n",
       "      <th>dwllsize</th>\n",
       "      <td>80000</td>\n",
       "      <td>38.28</td>\n",
       "      <td>15</td>\n",
       "      <td>A</td>\n",
       "      <td>37833</td>\n",
       "      <td>76.63</td>\n",
       "      <td>B</td>\n",
       "      <td>4156</td>\n",
       "      <td>8.42</td>\n",
       "    </tr>\n",
       "    <tr>\n",
       "      <th>ethnic</th>\n",
       "      <td>80000</td>\n",
       "      <td>1.72</td>\n",
       "      <td>17</td>\n",
       "      <td>N</td>\n",
       "      <td>26792</td>\n",
       "      <td>34.08</td>\n",
       "      <td>H</td>\n",
       "      <td>10914</td>\n",
       "      <td>13.88</td>\n",
       "    </tr>\n",
       "    <tr>\n",
       "      <th>kid0_2</th>\n",
       "      <td>80000</td>\n",
       "      <td>1.72</td>\n",
       "      <td>2</td>\n",
       "      <td>U</td>\n",
       "      <td>75409</td>\n",
       "      <td>95.91</td>\n",
       "      <td>Y</td>\n",
       "      <td>3214</td>\n",
       "      <td>4.09</td>\n",
       "    </tr>\n",
       "    <tr>\n",
       "      <th>kid3_5</th>\n",
       "      <td>80000</td>\n",
       "      <td>1.72</td>\n",
       "      <td>2</td>\n",
       "      <td>U</td>\n",
       "      <td>74879</td>\n",
       "      <td>95.24</td>\n",
       "      <td>Y</td>\n",
       "      <td>3744</td>\n",
       "      <td>4.76</td>\n",
       "    </tr>\n",
       "    <tr>\n",
       "      <th>kid6_10</th>\n",
       "      <td>80000</td>\n",
       "      <td>1.72</td>\n",
       "      <td>2</td>\n",
       "      <td>U</td>\n",
       "      <td>72150</td>\n",
       "      <td>91.77</td>\n",
       "      <td>Y</td>\n",
       "      <td>6473</td>\n",
       "      <td>8.23</td>\n",
       "    </tr>\n",
       "    <tr>\n",
       "      <th>kid11_15</th>\n",
       "      <td>80000</td>\n",
       "      <td>1.72</td>\n",
       "      <td>2</td>\n",
       "      <td>U</td>\n",
       "      <td>71628</td>\n",
       "      <td>91.10</td>\n",
       "      <td>Y</td>\n",
       "      <td>6995</td>\n",
       "      <td>8.90</td>\n",
       "    </tr>\n",
       "    <tr>\n",
       "      <th>kid16_17</th>\n",
       "      <td>80000</td>\n",
       "      <td>1.72</td>\n",
       "      <td>2</td>\n",
       "      <td>U</td>\n",
       "      <td>70662</td>\n",
       "      <td>89.87</td>\n",
       "      <td>Y</td>\n",
       "      <td>7961</td>\n",
       "      <td>10.13</td>\n",
       "    </tr>\n",
       "    <tr>\n",
       "      <th>creditcd</th>\n",
       "      <td>80000</td>\n",
       "      <td>1.72</td>\n",
       "      <td>2</td>\n",
       "      <td>Y</td>\n",
       "      <td>53765</td>\n",
       "      <td>68.38</td>\n",
       "      <td>N</td>\n",
       "      <td>24858</td>\n",
       "      <td>31.62</td>\n",
       "    </tr>\n",
       "  </tbody>\n",
       "</table>\n",
       "</div>"
      ],
      "text/plain": [
       "                  Count  Miss %  Card.                Mode  Mode Freq  Mode %  \\\n",
       "truck             80000    1.72      2                0.00      63784   81.13   \n",
       "rv                80000    1.72      2                0.00      72163   91.78   \n",
       "lor               80000   30.19     16                1.00       8001   14.33   \n",
       "adults            80000   23.00      6                2.00      18423   29.91   \n",
       "income            80000   25.41      9                6.00      15039   25.20   \n",
       "numbcars          80000   49.31      3                1.00      20492   50.54   \n",
       "new_cell          80000    0.00      3                   U      53426   66.78   \n",
       "crclscod          80000    0.00     54                  AA      29285   36.61   \n",
       "asl_flag          80000    0.00      2                   N      68893   86.12   \n",
       "prizm_social_one  80000    7.39      5                   S      25603   34.56   \n",
       "area              80000    0.04     19  NEW YORK CITY AREA       8897   11.13   \n",
       "dualband          80000    0.00      4                   Y      57902   72.38   \n",
       "refurb_new        80000    0.00      2                   N      68452   85.56   \n",
       "hnd_webcap        80000   10.19      3                WCMB      60669   84.44   \n",
       "ownrent           80000   33.72      2                   O      51415   96.96   \n",
       "dwlltype          80000   31.92      2                   S      39044   71.69   \n",
       "marital           80000    1.72      5                   U      29962   38.11   \n",
       "infobase          80000   22.07      2                   M      62164   99.72   \n",
       "HHstatin          80000   38.02      6                   C      31248   63.02   \n",
       "dwllsize          80000   38.28     15                   A      37833   76.63   \n",
       "ethnic            80000    1.72     17                   N      26792   34.08   \n",
       "kid0_2            80000    1.72      2                   U      75409   95.91   \n",
       "kid3_5            80000    1.72      2                   U      74879   95.24   \n",
       "kid6_10           80000    1.72      2                   U      72150   91.77   \n",
       "kid11_15          80000    1.72      2                   U      71628   91.10   \n",
       "kid16_17          80000    1.72      2                   U      70662   89.87   \n",
       "creditcd          80000    1.72      2                   Y      53765   68.38   \n",
       "\n",
       "                          2nd Mode  2nd Mode Freq  2nd Mode %  \n",
       "truck                         1.00          14839       18.87  \n",
       "rv                            1.00           6460        8.22  \n",
       "lor                           2.00           7216       12.92  \n",
       "adults                        1.00          17851       28.98  \n",
       "income                        7.00           9313       15.61  \n",
       "numbcars                      2.00          17068       42.09  \n",
       "new_cell                         Y          15531       19.41  \n",
       "crclscod                         A          13626       17.03  \n",
       "asl_flag                         Y          11107       13.88  \n",
       "prizm_social_one                 U          18865       25.46  \n",
       "area              LOS ANGELES AREA           5285        6.61  \n",
       "dualband                         N          18452       23.06  \n",
       "refurb_new                       R          11548       14.44  \n",
       "hnd_webcap                      WC          11000       15.31  \n",
       "ownrent                          R           1611        3.04  \n",
       "dwlltype                         M          15417       28.31  \n",
       "marital                          M          24809       31.55  \n",
       "infobase                         N            176        0.28  \n",
       "HHstatin                         I           9826       19.82  \n",
       "dwllsize                         B           4156        8.42  \n",
       "ethnic                           H          10914       13.88  \n",
       "kid0_2                           Y           3214        4.09  \n",
       "kid3_5                           Y           3744        4.76  \n",
       "kid6_10                          Y           6473        8.23  \n",
       "kid11_15                         Y           6995        8.90  \n",
       "kid16_17                         Y           7961       10.13  \n",
       "creditcd                         N          24858       31.62  "
      ]
     },
     "metadata": {},
     "output_type": "display_data"
    }
   ],
   "source": [
    "# move truck, rv, lor, adults, income, numbcars to categorical analysis\n",
    "lst_cat = ['truck', 'rv', 'lor', 'adults', 'income', 'numbcars']\n",
    "\n",
    "dqr_continuous_listings = dqr_continuous_listings.drop(lst_cat)\n",
    "\n",
    "lst_cat.extend(X_train.select_dtypes('object').columns.to_list())\n",
    "dqr_categorical_listings = buildCategoricalFeaturesReport(lst_cat, X_train)\n",
    "\n",
    "#display the reports\n",
    "with pd.option_context('display.max_rows', None, 'display.max_columns', None),\\\n",
    "    pd.option_context('display.float_format', '{:.2f}'.format):\n",
    "        print(\"Data quality report for quantitative features\")\n",
    "        display(dqr_continuous_listings)\n",
    "\n",
    "        print(\"\\nData quality report for qualitative features\")\n",
    "        display(dqr_categorical_listings)"
   ]
  },
  {
   "cell_type": "markdown",
   "metadata": {},
   "source": [
    "### Quantitative feature analysis"
   ]
  },
  {
   "cell_type": "markdown",
   "metadata": {},
   "source": [
    "The DQR of quantitative features shows that most of the features for means or total (ends with '_Means' or starts with 'avg' or 'adj' or 'tot') have a higher number of outliers, i.e. difference between 3rd Qrtile and max value is too big. The box plot and histogram can help gain some more information about these features and make sound decisions for handling them. The missing values in features are not that high, so handling them is not a big task that requires a lot of analysis.\n",
    "\n",
    "Some features contain high values, but from the problem domain knowledge, these values are not feasible. The errors might cause because of a collection error or the wrong value. It needs to analyze further along with the feature (\"eqpdays\"). The \"eqpdays\" represents how since when (number of days) the customer has the current equipment, i.e. how long ago the customer got the equipment they are using. This feature contains negative values, which does not make sense unless it means that the new equipment is on the way (in the shipping) to the customer. Since the information is not provided, analysis is required before making any decisions."
   ]
  },
  {
   "cell_type": "markdown",
   "metadata": {},
   "source": [
    "#### Features with high number of outliers"
   ]
  },
  {
   "cell_type": "code",
   "execution_count": 5,
   "metadata": {},
   "outputs": [
    {
     "data": {
      "image/png": "[encoded data removed]",
      "text/plain": [
       "<Figure size 432x288 with 1 Axes>"
      ]
     },
     "metadata": {
      "needs_background": "light"
     },
     "output_type": "display_data"
    },
    {
     "data": {
      "image/png": "[encoded data removed]",
      "text/plain": [
       "<Figure size 432x288 with 1 Axes>"
      ]
     },
     "metadata": {
      "needs_background": "light"
     },
     "output_type": "display_data"
    },
    {
     "data": {
      "image/png": "[encoded data removed]",
      "text/plain": [
       "<Figure size 432x288 with 1 Axes>"
      ]
     },
     "metadata": {
      "needs_background": "light"
     },
     "output_type": "display_data"
    },
    {
     "data": {
      "image/png": "[encoded data removed]",
      "text/plain": [
       "<Figure size 432x288 with 1 Axes>"
      ]
     },
     "metadata": {
      "needs_background": "light"
     },
     "output_type": "display_data"
    }
   ],
   "source": [
    "def plot(df, features):\n",
    "    \"\"\"\n",
    "        plot the boxplot and histogram for the given features from given dataframe\n",
    "\n",
    "        Args:\n",
    "            df (DataFrame): DataFrame object that contains data to preprocess\n",
    "            features (list of string): plot boxplot and histograms of the \n",
    "                features in the list\n",
    "    \"\"\"\n",
    "    for i in features:    \n",
    "        df.boxplot(column=i)\n",
    "        plt.title('Boxplot of '+ i)\n",
    "        df.hist(column=i)\n",
    "        plt.title('Histogram of '+ i)\n",
    "        plt.show()\n",
    "\n",
    "# find features with high outliers\n",
    "lst_not_high_outliers = ['churn', 'months', 'uniqsubs', 'actvsubs', 'phones', \\\n",
    "                         'models', 'forgntvl', 'Customer_ID']\n",
    "\n",
    "lst_high_outliers = list(set(dqr_continuous_listings.index) - set(lst_not_high_outliers))\n",
    "\n",
    "plot(X_train, lst_high_outliers[:2]) # only show top 2 to keep file short"
   ]
  },
  {
   "cell_type": "markdown",
   "metadata": {},
   "source": [
    "The above graphs show some exciting things: on average, the company makes close to zero revenue per month from most customers. It even loses money on some customers than making revenue. It can also be seen in the average revenue change per month, comparing to the past quarter compony is getting $1.12 less per customer. More than 75% of customers do not use their data to complete calls and rely on the company's signals most of the time. This data to complete calls could be that WIFI-calling feature that new smartphones have built-in. More than 50% of customers do not use three-way calling; however, average customers are using around 174 calling minutes every month. This 174 calling minutes is a deficient number, and this shows that customers are only using 3 hours for the calling. It could mean two things: the telecom company does not have unlimited calling, which is highly unlikely, or the customers are not attached to the phone and do not use it there as often. The last thing to notice is that, on average, customers stay with the company for around 19 months; this includes long-time customers, prepaid, postpaid and customers who have an agreement with the company. As stated earlier, a company can spend less money retaining current customers than getting new ones."
   ]
  },
  {
   "cell_type": "markdown",
   "metadata": {},
   "source": [
    "#### Features with wrong high value analysis"
   ]
  },
  {
   "cell_type": "code",
   "execution_count": 6,
   "metadata": {
    "scrolled": true
   },
   "outputs": [
    {
     "name": "stdout",
     "output_type": "stream",
     "text": [
      "Check values in uniqsubs\n"
     ]
    },
    {
     "data": {
      "image/png": "[encoded data removed]",
      "text/plain": [
       "<Figure size 432x288 with 1 Axes>"
      ]
     },
     "metadata": {
      "needs_background": "light"
     },
     "output_type": "display_data"
    }
   ],
   "source": [
    "# uniqsubs analysis\n",
    "print(\"Check values in uniqsubs\")\n",
    "plt.title(\"uniqsubs values > 10\")\n",
    "plt.xlabel(\"Number of unique subscriptions\")\n",
    "X_train[X_train['uniqsubs'] > 10]['uniqsubs'].hist()\n",
    "plt.show()"
   ]
  },
  {
   "cell_type": "markdown",
   "metadata": {},
   "source": [
    "Above the graph shows the number of customers who have more than ten unique subscribers in the household. The maximum number 196 is an error unless it is business, but the dataset does not contain any business accounts. So, the background problem understanding was correct in this case."
   ]
  },
  {
   "cell_type": "code",
   "execution_count": 7,
   "metadata": {},
   "outputs": [
    {
     "name": "stdout",
     "output_type": "stream",
     "text": [
      "Check values in actvsubs\n"
     ]
    },
    {
     "data": {
      "image/png": "[encoded data removed]",
      "text/plain": [
       "<Figure size 432x288 with 1 Axes>"
      ]
     },
     "metadata": {
      "needs_background": "light"
     },
     "output_type": "display_data"
    }
   ],
   "source": [
    "# actvsubs analysis\n",
    "print(\"Check values in actvsubs\")\n",
    "plt.title(\"actvsubs values > 5\")\n",
    "plt.xlabel(\"Number of actvsubs subscriptions\")\n",
    "X_train[X_train['actvsubs'] > 5]['actvsubs'].hist(bins=50)\n",
    "plt.show()"
   ]
  },
  {
   "cell_type": "markdown",
   "metadata": {},
   "source": [
    "Again, it is clear from the graph that the extreme value in actvsubs is just an input error and does not have any real meaning behind it."
   ]
  },
  {
   "cell_type": "code",
   "execution_count": 8,
   "metadata": {},
   "outputs": [
    {
     "name": "stdout",
     "output_type": "stream",
     "text": [
      "Check values in phones\n"
     ]
    },
    {
     "data": {
      "image/png": "[encoded data removed]",
      "text/plain": [
       "<Figure size 432x288 with 1 Axes>"
      ]
     },
     "metadata": {
      "needs_background": "light"
     },
     "output_type": "display_data"
    }
   ],
   "source": [
    "# phones analysis\n",
    "print(\"Check values in phones\")\n",
    "plt.title(\"phones values > 10\")\n",
    "plt.xlabel(\"Number of phones issued\")\n",
    "X_train[X_train['phones'] > 10]['phones'].hist(bins=20)\n",
    "plt.show()"
   ]
  },
  {
   "cell_type": "markdown",
   "metadata": {},
   "source": [
    "The graph shows that there are customers with multiple handsets/phones, and it goes as high as 28. From the problem understanding, this is very unlikely to happen, unless customers are with the company for a long time and had issues with almost every phone he or she received. Also, up to 15 phones can be argued to have multiple lines and go on two years agreement often."
   ]
  },
  {
   "cell_type": "code",
   "execution_count": 9,
   "metadata": {},
   "outputs": [
    {
     "name": "stdout",
     "output_type": "stream",
     "text": [
      "Check values in models\n"
     ]
    },
    {
     "data": {
      "image/png": "[encoded data removed]",
      "text/plain": [
       "<Figure size 432x288 with 1 Axes>"
      ]
     },
     "metadata": {
      "needs_background": "light"
     },
     "output_type": "display_data"
    }
   ],
   "source": [
    "# models analysis\n",
    "print(\"Check values in models\")\n",
    "plt.title(\"models values > 5\")\n",
    "plt.xlabel(\"Number of models issued\")\n",
    "X_train[X_train['models'] > 5]['models'].hist()\n",
    "plt.show()"
   ]
  },
  {
   "cell_type": "markdown",
   "metadata": {},
   "source": [
    "The graph for models provides evidence that customers are getting a higher number of phones (complementing the phone graph) because of technical issues with their existing ones. Again, the extreme value here is plausible, but the number of customers is significantly less, so less informative."
   ]
  },
  {
   "cell_type": "markdown",
   "metadata": {},
   "source": [
    "#### Features with wrong negative values analysis"
   ]
  },
  {
   "cell_type": "code",
   "execution_count": 10,
   "metadata": {
    "scrolled": true
   },
   "outputs": [
    {
     "name": "stdout",
     "output_type": "stream",
     "text": [
      "Check values in eqpdays\n"
     ]
    },
    {
     "data": {
      "image/png": "[encoded data removed]",
      "text/plain": [
       "<Figure size 432x288 with 1 Axes>"
      ]
     },
     "metadata": {
      "needs_background": "light"
     },
     "output_type": "display_data"
    },
    {
     "data": {
      "image/png": "[encoded data removed]",
      "text/plain": [
       "<Figure size 432x288 with 1 Axes>"
      ]
     },
     "metadata": {
      "needs_background": "light"
     },
     "output_type": "display_data"
    }
   ],
   "source": [
    "# eqpdays analysis\n",
    "print(\"Check values in eqpdays\")\n",
    "plt.title(\"eqpdays values < 5\")\n",
    "plt.xlabel(\"Number of days (age) of current equipment\")\n",
    "X_train[X_train['eqpdays'] < 5]['eqpdays'].hist()\n",
    "plt.show()\n",
    "\n",
    "plt.title(\"eqpdays\")\n",
    "plt.xlabel(\"Number of days (age) of current equipment\")\n",
    "X_train['eqpdays'].hist()\n",
    "plt.show()"
   ]
  },
  {
   "cell_type": "markdown",
   "metadata": {},
   "source": [
    "Even from the graph, it is not easy to decide whether or not eqpdays's negative value is the correct value or not. Since the number of customers with negative eqpdays is more than 250, it may be possible that our assumption that the customer booked a phone but has not arrived yet is correct. But, without more information, it is safer not to make any decision about it."
   ]
  },
  {
   "cell_type": "markdown",
   "metadata": {},
   "source": [
    "### Qualitative feature analysis"
   ]
  },
  {
   "cell_type": "markdown",
   "metadata": {},
   "source": [
    "The DQR of qualitative features shows that almost every qualitative feature has some missing values and goes as high as 49.31%. These features need to analysis, so this analysis can help with preprocessing them. Also, there is a feature, dual-band, which has four unique values. Intuitively, it should only have a binary value, so it is a little interesting. Also, in the different sections, the analysis of features with a small and large number of unique values is explained. Overall, for features with a small number of unique values, one value dominates heavily (more than 70%)."
   ]
  },
  {
   "cell_type": "markdown",
   "metadata": {},
   "source": [
    "#### Features with more than 10% missing values\n",
    "\n"
   ]
  },
  {
   "cell_type": "code",
   "execution_count": 11,
   "metadata": {},
   "outputs": [
    {
     "name": "stdout",
     "output_type": "stream",
     "text": [
      "Feature : lor\n"
     ]
    },
    {
     "data": {
      "image/png": "[encoded data removed]",
      "text/plain": [
       "<Figure size 432x288 with 1 Axes>"
      ]
     },
     "metadata": {
      "needs_background": "light"
     },
     "output_type": "display_data"
    },
    {
     "name": "stdout",
     "output_type": "stream",
     "text": [
      "Feature : adults\n"
     ]
    },
    {
     "data": {
      "image/png": "[encoded data removed]",
      "text/plain": [
       "<Figure size 432x288 with 1 Axes>"
      ]
     },
     "metadata": {
      "needs_background": "light"
     },
     "output_type": "display_data"
    },
    {
     "name": "stdout",
     "output_type": "stream",
     "text": [
      "Feature : income\n"
     ]
    },
    {
     "data": {
      "image/png": "[encoded data removed]",
      "text/plain": [
       "<Figure size 432x288 with 1 Axes>"
      ]
     },
     "metadata": {
      "needs_background": "light"
     },
     "output_type": "display_data"
    },
    {
     "name": "stdout",
     "output_type": "stream",
     "text": [
      "Feature : numbcars\n"
     ]
    },
    {
     "data": {
      "image/png": "[encoded data removed]",
      "text/plain": [
       "<Figure size 432x288 with 1 Axes>"
      ]
     },
     "metadata": {
      "needs_background": "light"
     },
     "output_type": "display_data"
    },
    {
     "name": "stdout",
     "output_type": "stream",
     "text": [
      "Feature : hnd_webcap\n"
     ]
    },
    {
     "data": {
      "image/png": "[encoded data removed]",
      "text/plain": [
       "<Figure size 432x288 with 1 Axes>"
      ]
     },
     "metadata": {
      "needs_background": "light"
     },
     "output_type": "display_data"
    },
    {
     "name": "stdout",
     "output_type": "stream",
     "text": [
      "Feature : ownrent\n"
     ]
    },
    {
     "data": {
      "image/png": "[encoded data removed]",
      "text/plain": [
       "<Figure size 432x288 with 1 Axes>"
      ]
     },
     "metadata": {
      "needs_background": "light"
     },
     "output_type": "display_data"
    },
    {
     "name": "stdout",
     "output_type": "stream",
     "text": [
      "Feature : dwlltype\n"
     ]
    },
    {
     "data": {
      "image/png": "[encoded data removed]",
      "text/plain": [
       "<Figure size 432x288 with 1 Axes>"
      ]
     },
     "metadata": {
      "needs_background": "light"
     },
     "output_type": "display_data"
    },
    {
     "name": "stdout",
     "output_type": "stream",
     "text": [
      "Feature : infobase\n"
     ]
    },
    {
     "data": {
      "image/png": "[encoded data removed]",
      "text/plain": [
       "<Figure size 432x288 with 1 Axes>"
      ]
     },
     "metadata": {
      "needs_background": "light"
     },
     "output_type": "display_data"
    },
    {
     "name": "stdout",
     "output_type": "stream",
     "text": [
      "Feature : HHstatin\n"
     ]
    },
    {
     "data": {
      "image/png": "[encoded data removed]",
      "text/plain": [
       "<Figure size 432x288 with 1 Axes>"
      ]
     },
     "metadata": {
      "needs_background": "light"
     },
     "output_type": "display_data"
    },
    {
     "name": "stdout",
     "output_type": "stream",
     "text": [
      "Feature : dwllsize\n"
     ]
    },
    {
     "data": {
      "image/png": "[encoded data removed]",
      "text/plain": [
       "<Figure size 432x288 with 1 Axes>"
      ]
     },
     "metadata": {
      "needs_background": "light"
     },
     "output_type": "display_data"
    }
   ],
   "source": [
    "# analyze categorical features with more than 10% missing values\n",
    "high_missing =  dqr_categorical_listings[(dqr_categorical_listings['Miss %'] > 10)].index.to_list()\n",
    "for f in high_missing:\n",
    "    print(\"Feature :\", f)\n",
    "    plt.title(f)\n",
    "    plt.xlabel(\"Values\")\n",
    "    plt.ylabel(\"% of customers\")\n",
    "    X_train[f].value_counts(normalize=True, dropna = False).plot(kind='bar')\n",
    "    plt.show()"
   ]
  },
  {
   "cell_type": "markdown",
   "metadata": {},
   "source": [
    "The lor (\"Length of residence\") feature has around 30% instances with null values, and around 10% of customers reside at the same place for a year. It may tell us that these customers just bought a new house. The idea is complemented by the ownrent feature, which shows that around 2% of customers live in the rental. However, keep in mind that the ownrent feature has high null values of 34%.\n",
    "\n",
    "Around 50% of customers have one or two adults in their household and not to mention that there are 25% missing values. The customers' estimated income feature shows that most customers are earning average or higher than average money. It could prove to be an informative feature since many customers churn because of the price issue and less because of service issues. Still, since missing values are 25.41%, it is better not to make any assumptions or imputer information.\n",
    "\n",
    "The number of cars in the household has around 50% missing values, which may be possible because they do not have any cars as there are no customers with zero cars. The dwlltype feature tells that around 20% of customers live in movable houses, like RVs and trucks. Similar information can be seen in the rv and truck feature."
   ]
  },
  {
   "cell_type": "markdown",
   "metadata": {},
   "source": [
    "#### Features with smaller number of values analysis"
   ]
  },
  {
   "cell_type": "code",
   "execution_count": 12,
   "metadata": {},
   "outputs": [
    {
     "name": "stdout",
     "output_type": "stream",
     "text": [
      "Feature : asl_flag\n"
     ]
    },
    {
     "data": {
      "image/png": "[encoded data removed]",
      "text/plain": [
       "<Figure size 432x288 with 1 Axes>"
      ]
     },
     "metadata": {
      "needs_background": "light"
     },
     "output_type": "display_data"
    },
    {
     "name": "stdout",
     "output_type": "stream",
     "text": [
      "Feature : refurb_new\n"
     ]
    },
    {
     "data": {
      "image/png": "[encoded data removed]",
      "text/plain": [
       "<Figure size 432x288 with 1 Axes>"
      ]
     },
     "metadata": {
      "needs_background": "light"
     },
     "output_type": "display_data"
    },
    {
     "name": "stdout",
     "output_type": "stream",
     "text": [
      "Feature : ownrent\n"
     ]
    },
    {
     "data": {
      "image/png": "[encoded data removed]",
      "text/plain": [
       "<Figure size 432x288 with 1 Axes>"
      ]
     },
     "metadata": {
      "needs_background": "light"
     },
     "output_type": "display_data"
    },
    {
     "name": "stdout",
     "output_type": "stream",
     "text": [
      "Feature : dwlltype\n"
     ]
    },
    {
     "data": {
      "image/png": "[encoded data removed]",
      "text/plain": [
       "<Figure size 432x288 with 1 Axes>"
      ]
     },
     "metadata": {
      "needs_background": "light"
     },
     "output_type": "display_data"
    },
    {
     "name": "stdout",
     "output_type": "stream",
     "text": [
      "Feature : infobase\n"
     ]
    },
    {
     "data": {
      "image/png": "[encoded data removed]",
      "text/plain": [
       "<Figure size 432x288 with 1 Axes>"
      ]
     },
     "metadata": {
      "needs_background": "light"
     },
     "output_type": "display_data"
    },
    {
     "name": "stdout",
     "output_type": "stream",
     "text": [
      "Feature : kid0_2\n"
     ]
    },
    {
     "data": {
      "image/png": "[encoded data removed]",
      "text/plain": [
       "<Figure size 432x288 with 1 Axes>"
      ]
     },
     "metadata": {
      "needs_background": "light"
     },
     "output_type": "display_data"
    },
    {
     "name": "stdout",
     "output_type": "stream",
     "text": [
      "Feature : kid3_5\n"
     ]
    },
    {
     "data": {
      "image/png": "[encoded data removed]",
      "text/plain": [
       "<Figure size 432x288 with 1 Axes>"
      ]
     },
     "metadata": {
      "needs_background": "light"
     },
     "output_type": "display_data"
    },
    {
     "name": "stdout",
     "output_type": "stream",
     "text": [
      "Feature : kid6_10\n"
     ]
    },
    {
     "data": {
      "image/png": "[encoded data removed]",
      "text/plain": [
       "<Figure size 432x288 with 1 Axes>"
      ]
     },
     "metadata": {
      "needs_background": "light"
     },
     "output_type": "display_data"
    },
    {
     "name": "stdout",
     "output_type": "stream",
     "text": [
      "Feature : kid11_15\n"
     ]
    },
    {
     "data": {
      "image/png": "[encoded data removed]",
      "text/plain": [
       "<Figure size 432x288 with 1 Axes>"
      ]
     },
     "metadata": {
      "needs_background": "light"
     },
     "output_type": "display_data"
    },
    {
     "name": "stdout",
     "output_type": "stream",
     "text": [
      "Feature : kid16_17\n"
     ]
    },
    {
     "data": {
      "image/png": "[encoded data removed]",
      "text/plain": [
       "<Figure size 432x288 with 1 Axes>"
      ]
     },
     "metadata": {
      "needs_background": "light"
     },
     "output_type": "display_data"
    },
    {
     "name": "stdout",
     "output_type": "stream",
     "text": [
      "Feature : creditcd\n"
     ]
    },
    {
     "data": {
      "image/png": "[encoded data removed]",
      "text/plain": [
       "<Figure size 432x288 with 1 Axes>"
      ]
     },
     "metadata": {
      "needs_background": "light"
     },
     "output_type": "display_data"
    },
    {
     "name": "stdout",
     "output_type": "stream",
     "text": [
      "Feature : new_cell\n"
     ]
    },
    {
     "data": {
      "image/png": "[encoded data removed]",
      "text/plain": [
       "<Figure size 432x288 with 1 Axes>"
      ]
     },
     "metadata": {
      "needs_background": "light"
     },
     "output_type": "display_data"
    },
    {
     "name": "stdout",
     "output_type": "stream",
     "text": [
      "Feature : prizm_social_one\n"
     ]
    },
    {
     "data": {
      "image/png": "[encoded data removed]",
      "text/plain": [
       "<Figure size 432x288 with 1 Axes>"
      ]
     },
     "metadata": {
      "needs_background": "light"
     },
     "output_type": "display_data"
    },
    {
     "name": "stdout",
     "output_type": "stream",
     "text": [
      "Feature : hnd_webcap\n"
     ]
    },
    {
     "data": {
      "image/png": "[encoded data removed]",
      "text/plain": [
       "<Figure size 432x288 with 1 Axes>"
      ]
     },
     "metadata": {
      "needs_background": "light"
     },
     "output_type": "display_data"
    },
    {
     "name": "stdout",
     "output_type": "stream",
     "text": [
      "Feature : marital\n"
     ]
    },
    {
     "data": {
      "image/png": "[encoded data removed]",
      "text/plain": [
       "<Figure size 432x288 with 1 Axes>"
      ]
     },
     "metadata": {
      "needs_background": "light"
     },
     "output_type": "display_data"
    },
    {
     "name": "stdout",
     "output_type": "stream",
     "text": [
      "Feature : HHstatin\n"
     ]
    },
    {
     "data": {
      "image/png": "[encoded data removed]",
      "text/plain": [
       "<Figure size 432x288 with 1 Axes>"
      ]
     },
     "metadata": {
      "needs_background": "light"
     },
     "output_type": "display_data"
    }
   ],
   "source": [
    "# analyze categorical features with small number of values\n",
    "lst_features = ['asl_flag', 'refurb_new', 'ownrent', 'dwlltype', 'infobase', \\\n",
    "              'kid0_2', 'kid3_5', 'kid6_10', 'kid11_15', 'kid16_17', \\\n",
    "              'creditcd', 'new_cell', 'prizm_social_one', 'hnd_webcap', \\\n",
    "              'marital', 'HHstatin']\n",
    "\n",
    "for f in lst_features:\n",
    "    print(\"Feature :\", f)\n",
    "    plt.title(f)\n",
    "    plt.xlabel(\"Values\")\n",
    "    plt.ylabel(\"% of customers\")\n",
    "    X_train[f].value_counts(normalize=True, dropna = False).plot(kind='bar')\n",
    "    plt.show()"
   ]
  },
  {
   "cell_type": "markdown",
   "metadata": {},
   "source": [
    "The above graphs show that the dataset contains unknown values for more than 80% of customers. The asl_flag feature represents whether or not the account received a spending limit, and one assumption is the feature is derived from the credit score. In that case, it may provide some helpful information in classification but yet to figure out. Also, around 15% of customers use refurbished phones, which does not mean that the remaining 85% of customers are using new ones. They may be using old used phones, and they did not purchase the phone from the company. The new_cell feature provides evidence of this assumption, where only around 19% of customers use new phones; also, 66% of data is tagged with U, i.e. Unknown, in the new_cell feature. Similarly, more than 35% of customers' marital status is unknown."
   ]
  },
  {
   "cell_type": "markdown",
   "metadata": {},
   "source": [
    "#### Features with uncommon values analysis"
   ]
  },
  {
   "cell_type": "code",
   "execution_count": 13,
   "metadata": {
    "scrolled": true
   },
   "outputs": [
    {
     "data": {
      "image/png": "[encoded data removed]",
      "text/plain": [
       "<Figure size 432x288 with 1 Axes>"
      ]
     },
     "metadata": {
      "needs_background": "light"
     },
     "output_type": "display_data"
    }
   ],
   "source": [
    "# dualband analysis\n",
    "plt.title('dualband')\n",
    "plt.xlabel(\"Values\")\n",
    "plt.ylabel(\"% of customers\")\n",
    "X_train['dualband'].value_counts(normalize=True, dropna = False).plot(kind='bar')\n",
    "plt.show()"
   ]
  },
  {
   "cell_type": "markdown",
   "metadata": {},
   "source": [
    "The Y and N in the dualband feature values make sense, but the dataset also contains T and U, where U can mean unknown. But the T is not matching the business understanding knowledge. All the new phones are dualbands, so considering T and U as Y is not the wrong thing."
   ]
  },
  {
   "cell_type": "markdown",
   "metadata": {},
   "source": [
    "#### Features with large values analysis"
   ]
  },
  {
   "cell_type": "code",
   "execution_count": 14,
   "metadata": {
    "scrolled": true
   },
   "outputs": [
    {
     "name": "stdout",
     "output_type": "stream",
     "text": [
      "Feature : crclscod\n"
     ]
    },
    {
     "data": {
      "image/png": "[encoded data removed]",
      "text/plain": [
       "<Figure size 432x288 with 1 Axes>"
      ]
     },
     "metadata": {
      "needs_background": "light"
     },
     "output_type": "display_data"
    },
    {
     "name": "stdout",
     "output_type": "stream",
     "text": [
      "Feature : area\n"
     ]
    },
    {
     "data": {
      "image/png": "[encoded data removed]",
      "text/plain": [
       "<Figure size 432x288 with 1 Axes>"
      ]
     },
     "metadata": {
      "needs_background": "light"
     },
     "output_type": "display_data"
    },
    {
     "name": "stdout",
     "output_type": "stream",
     "text": [
      "Feature : dwllsize\n"
     ]
    },
    {
     "data": {
      "image/png": "[encoded data removed]",
      "text/plain": [
       "<Figure size 432x288 with 1 Axes>"
      ]
     },
     "metadata": {
      "needs_background": "light"
     },
     "output_type": "display_data"
    },
    {
     "name": "stdout",
     "output_type": "stream",
     "text": [
      "Feature : ethnic\n"
     ]
    },
    {
     "data": {
      "image/png": "[encoded data removed]",
      "text/plain": [
       "<Figure size 432x288 with 1 Axes>"
      ]
     },
     "metadata": {
      "needs_background": "light"
     },
     "output_type": "display_data"
    }
   ],
   "source": [
    "# analyze features with large number of values\n",
    "lst_features = ['crclscod', 'area', 'dwllsize', 'ethnic']\n",
    "\n",
    "for f in lst_features:\n",
    "    print(\"Feature :\", f)\n",
    "    plt.title(f)\n",
    "    plt.xlabel(\"Values\")\n",
    "    plt.ylabel(\"% of customers\")\n",
    "    X_train[f].value_counts(normalize=True, dropna = False).plot(kind='bar')\n",
    "    plt.show()"
   ]
  },
  {
   "cell_type": "markdown",
   "metadata": {},
   "source": [
    "Except for the area feature, every other feature with many values has one dominant feature with more than 30% occurrences. The crclscod feature represents the credit class code for the customers. It could provide meaningful information; however, it contained 54 unique values, not numeric."
   ]
  },
  {
   "cell_type": "markdown",
   "metadata": {},
   "source": [
    "## Data Preprocessing"
   ]
  },
  {
   "cell_type": "code",
   "execution_count": 15,
   "metadata": {},
   "outputs": [],
   "source": [
    "from sklearn.preprocessing import StandardScaler\n",
    "from sklearn.impute import SimpleImputer\n",
    "\n",
    "class preprocessing:\n",
    "\n",
    "    def __init__(self):\n",
    "        \"\"\"\n",
    "            populates the list with the appropriate features and creates two imputers \n",
    "            for replacing null values with mode and mean\n",
    "        \"\"\"\n",
    "        self.lst_drop = ['Customer_ID', 'ethnic', 'lor', 'income', 'HHstatin', \\\n",
    "                         'infobase', 'dwlltype', 'dwllsize', 'marital', 'kid0_2', \\\n",
    "                         'kid3_5', 'kid6_10', 'kid11_15', 'kid16_17', 'forgntvl']\n",
    "\n",
    "        self.lst_high_outliers = lst_high_outliers\n",
    "\n",
    "        self.lst_clip_10 = ['actvsubs', 'models']\n",
    "        self.lst_clip_27 = ['uniqsubs']\n",
    "        self.lst_clip_20 = ['phones', ]\n",
    "\n",
    "        self.lst_imputing_mode = ['rv', 'truck', 'hnd_webcap', 'adults', \\\n",
    "                                      'creditcd', 'prizm_social_one', 'dualband', \\\n",
    "                                      'area', 'phones', 'models', 'refurb_new']\n",
    "\n",
    "        self.lst_one_hot = ['prizm_social_one', 'crclscod', 'area', 'hnd_webcap', \\\n",
    "                            'dualband', 'new_cell']\n",
    "\n",
    "        self.imputer_mode = SimpleImputer(strategy='most_frequent')\n",
    "        self.imputer_mean = SimpleImputer(strategy='mean')\n",
    "\n",
    "    def preprocess(self, df):\n",
    "        \"\"\"\n",
    "            preprocess the given dataframe with specific techniques and \n",
    "            returns the dataframe object\n",
    "            \n",
    "            Args:\n",
    "                df (DataFrame): DataFrame object that contains data to preprocess\n",
    "            \n",
    "            Returns:\n",
    "                DataFrame: Preprocessed dataframe\n",
    "        \"\"\"\n",
    "        \n",
    "        df = df.drop(self.lst_drop, axis=1)\n",
    "\n",
    "        # replace with mean\n",
    "        df[self.lst_high_outliers] = self.imputer_mean.fit_transform(df[self.lst_high_outliers])\n",
    "        \n",
    "        # make feature zero mean with one standard deviation\n",
    "        self.ss = StandardScaler().fit(df[self.lst_high_outliers])\n",
    "        df[self.lst_high_outliers] = self.ss.transform(df[self.lst_high_outliers])\n",
    "\n",
    "        # replace with mode\n",
    "        df[self.lst_imputing_mode] = self.imputer_mode.fit_transform(df[self.lst_imputing_mode])\n",
    "        \n",
    "        df[self.lst_clip_10] = df[self.lst_clip_10].clip(1, 10)\n",
    "        df[self.lst_clip_20] = df[self.lst_clip_20].clip(1, 20)\n",
    "        df[self.lst_clip_27] = df[self.lst_clip_27].clip(1, 27)\n",
    "\n",
    "        df['numbcars'] = df['numbcars'].fillna(0)\n",
    "        df['numbcars'] = df['numbcars'].clip(upper = 1)\n",
    "\n",
    "        df['ownrent'] = df['ownrent'].fillna('O')\n",
    "        df['ownrent'] = df['ownrent'].replace(['O', 'R'],[1, 0])\n",
    "\n",
    "        df['asl_flag'] = df['asl_flag'].replace(['Y', 'N'],[1, 0])\n",
    "\n",
    "        df['refurb_new'] = df['refurb_new'].replace(['N', 'R'],[1, 0])\n",
    "\n",
    "        df['creditcd'] = df['creditcd'].replace(['Y', 'N'],[1, 0])\n",
    "\n",
    "        df['dualband'] = df['dualband'].replace(['T', 'U', 'Y', 'N'],[1, 1, 1, 0])\n",
    "\n",
    "        # select only crclscod that is present in the dataset for more than 1%\n",
    "        freq_crclscod = df['crclscod'].value_counts(normalize=True)\n",
    "        self.lst_selected_crclscod = freq_crclscod[freq_crclscod > \\\n",
    "                                                 0.01].index.tolist()\n",
    "        df.loc[~df['crclscod'].isin(self.lst_selected_crclscod), \\\n",
    "             'crclscod'] = 'Other'\n",
    "\n",
    "        # encode and concate qualitative features using one-hot encoding\n",
    "        df = pd.concat([df, pd.get_dummies(df[self.lst_one_hot])], axis = 1)\n",
    "        df = df.drop(self.lst_one_hot, axis=1)\n",
    "\n",
    "        return df"
   ]
  },
  {
   "cell_type": "markdown",
   "metadata": {},
   "source": [
    "The preprocessing started by dropping some features, like \"Customer_ID,\" which provides no information on churn prediction, \"Ethnic\" to avoid teaching racism to the model. Other features have either a higher number of missing or unknown ('U') values. Then, the quantitative features with a lower number of null values are imputed by the mean of the features and scaled using a standard scaler, which scales features to zero mean and one standard deviation. Similarly, the qualitative features were imputed by the mode of the feature. The features with wrong high values were clipped down to their respected high and low values. The qualitative features with binary non-numeric values are replaced by binary numeric values. Since 'crclscod' feature contains a high number of values and some values are only present in less than 1%. To reduce the \"curse of dimensionality\", selected features that contained at least 1% values. The rest are encoded as 'Other.' Finally, any qualitative features with more than two values are encoded using one-hot encoding."
   ]
  },
  {
   "cell_type": "markdown",
   "metadata": {},
   "source": [
    "## Feature Selection"
   ]
  },
  {
   "cell_type": "code",
   "execution_count": 16,
   "metadata": {},
   "outputs": [],
   "source": [
    "import warnings\n",
    "\n",
    "# ignore warnings\n",
    "warnings.filterwarnings('ignore')"
   ]
  },
  {
   "cell_type": "code",
   "execution_count": 17,
   "metadata": {},
   "outputs": [],
   "source": [
    "from sklearn.feature_selection import f_classif\n",
    "from sklearn.linear_model import LogisticRegression\n",
    "from sklearn.metrics import f1_score\n",
    "from IPython.display import clear_output"
   ]
  },
  {
   "cell_type": "code",
   "execution_count": 18,
   "metadata": {},
   "outputs": [],
   "source": [
    "y_train = X_train['churn']\n",
    "y_test = X_test['churn']\n",
    "\n",
    "X_train = X_train.drop(['churn'], axis=1)\n",
    "X_test = X_test.drop(['churn'], axis=1)\n",
    "\n",
    "preprocessor = preprocessing()\n",
    "\n",
    "X_train = preprocessor.preprocess(X_train)\n",
    "X_test = preprocessor.preprocess(X_test)\n",
    "\n",
    "X_training, X_validation, y_training, y_validation = train_test_split(X_train, y_train, random_state=42, test_size=0.15)"
   ]
  },
  {
   "cell_type": "markdown",
   "metadata": {},
   "source": [
    "First, the target feature, 'churn', is separated from the rest of the dataset in both training and test datasets. Then, preprocessing is done on both training and test datasets, and the training dataset is split again into training and validation datasets. The validation dataset will evaluate the performance of selected models to choose one model for the final evaluation."
   ]
  },
  {
   "cell_type": "code",
   "execution_count": 19,
   "metadata": {},
   "outputs": [
    {
     "data": {
      "text/plain": [
       "[('eqpdays', 868.7114071540028), ('hnd_price', 728.5555600159838)]"
      ]
     },
     "metadata": {},
     "output_type": "display_data"
    }
   ],
   "source": [
    "# calculates the ANOVA scores using training dataset\n",
    "anova_scores, _ = f_classif(X_training, y_training)\n",
    "\n",
    "dic_anova_score = {}\n",
    "\n",
    "features = X_training.columns.to_list()\n",
    "\n",
    "for i, score in enumerate(anova_scores):\n",
    "    dic_anova_score[features[i]] = score\n",
    "\n",
    "# sort the relationships descending\n",
    "dic_anova_score = sorted(dic_anova_score.items(), key = lambda x : x[1], reverse = True)\n",
    "\n",
    "display(dic_anova_score[:2]) # print top 2 features with highest ANOVA score\n",
    "\n",
    "lst_sel_features = [k for k, v in dic_anova_score]"
   ]
  },
  {
   "cell_type": "code",
   "execution_count": 20,
   "metadata": {},
   "outputs": [
    {
     "data": {
      "image/png": "[encoded data removed]",
      "text/plain": [
       "<Figure size 432x288 with 1 Axes>"
      ]
     },
     "metadata": {
      "needs_background": "light"
     },
     "output_type": "display_data"
    },
    {
     "name": "stdout",
     "output_type": "stream",
     "text": [
      "Best F1 is  0.592965568308034 at 96\n"
     ]
    }
   ],
   "source": [
    "def plot_loss_vs_k(df, target_feature, features, model, title):\n",
    "    \"\"\"\n",
    "    plot the graph using 0 to all features against the F1 score using given \n",
    "    model and finds the best top k features that provide the best F1 score\n",
    "\n",
    "    Args:\n",
    "        df (DataFrame): Contains training dataset\n",
    "        target_feature(series): Contains the target feature\n",
    "        features(list of strings): Ordered list of features in highest to lowest informative\n",
    "        model(Object):  An object of sklearn ML object that will be used to evaluate F1 Score\n",
    "        title(string): A title for the graph that will be plotted\n",
    "      \n",
    "    Returns:\n",
    "        int: number of top k features selected using highest F1 score\n",
    "      \n",
    "    \"\"\"\n",
    "    data = []\n",
    "\n",
    "    X_train_k, X_test_k, y_train_k, y_test_k = train_test_split(df, target_feature, test_size=0.2, random_state=10 )\n",
    "\n",
    "    best_f1 = -1\n",
    "    best_k = 1\n",
    "\n",
    "    for k in range(1, len(features)+1):\n",
    "        model.fit(X_train_k[features[:k]], y_train_k)\n",
    "        y_pred = model.predict(X_test_k[ features[:k] ] )\n",
    "\n",
    "        f1 = f1_score(y_test_k, y_pred)\n",
    "        data.append(f1)\n",
    "        (best_f1, best_k) = (f1, k) if best_f1 < f1 else (best_f1, best_k)\n",
    "        print(\"Current features : {0} and F1: {1} \\t best features : {2}\".format(k, f1, best_k))\n",
    "\n",
    "    clear_output()\n",
    "    plt.title(title)\n",
    "    plt.xlabel('Value of k')\n",
    "    plt.ylabel('F1')\n",
    "    plt.plot(range(1, len(features)+1), data, 'b--o')\n",
    "    plt.show()\n",
    "\n",
    "    print(\"Best F1 is \", best_f1, \"at\", best_k)\n",
    "\n",
    "    return best_k\n",
    "\n",
    "lr = LogisticRegression(solver='newton-cg', penalty='none', random_state=42)\n",
    "k = plot_loss_vs_k(X_training, y_training, lst_sel_features, lr, \"Features vs F1\")"
   ]
  },
  {
   "cell_type": "code",
   "execution_count": 21,
   "metadata": {},
   "outputs": [],
   "source": [
    "X_train = X_train.drop(lst_sel_features[k:], axis=1)\n",
    "X_test = X_test.drop(lst_sel_features[k:], axis=1)\n",
    "X_training = X_training.drop(lst_sel_features[k:], axis=1)\n",
    "X_validation = X_validation.drop(lst_sel_features[k:], axis=1)"
   ]
  },
  {
   "cell_type": "markdown",
   "metadata": {},
   "source": [
    "Since the features set is quite large, the wrapper feature selection method would be computation-intensive, so to sort the features according to their importance, a filter method was used. The target feature is qualitative, which means three methods can be used, chi-squared, mutual information and F value from ANOVA (f_classif). The chi-squared method requires non-negative values, and the training dataset contains negative numbers as Standard scaller was used without MinMax scaller, so this method can not be used. The mutual information and f_clssif provided almost similar ordered features, and f_classif ran much faster than mutual information, so f_classif was used as a feature selection method.\n",
    "\n",
    "To select the optimal number of features, the whole training dataset and ordered list of features were sent to a function along with a model, in this case, LogisticRegression, without any penalty. The function iteratively fits the model with top k features and calculates the F1 score using a holdout dataset. Only top k features were selected based on the highest F1 score."
   ]
  },
  {
   "cell_type": "markdown",
   "metadata": {},
   "source": [
    "## Model Selection and Training"
   ]
  },
  {
   "cell_type": "code",
   "execution_count": 22,
   "metadata": {},
   "outputs": [],
   "source": [
    "from sklearn.ensemble import RandomForestClassifier\n",
    "from sklearn.tree import DecisionTreeClassifier\n",
    "from sklearn.ensemble import AdaBoostClassifier\n",
    "import xgboost as xgb\n",
    "\n",
    "from sklearn.model_selection import cross_val_score\n",
    "from sklearn.metrics import confusion_matrix, classification_report"
   ]
  },
  {
   "cell_type": "markdown",
   "metadata": {},
   "source": [
    "The three models were selected, Random Forest, Ada Boost and eXtreme Gradient Boosting classifier. The problem at hand is complicated, and ensemble models have proven very effective in complex problems, so their use can provide us better results.\n",
    "\n",
    "The Random Forest Classifier (RFC) uses multiple Decision Trees (DT), trains them on various sub-section of data and uses voting weighted by probability estimated. The Ada Boost Classifier (ABC) uses a series of baseline estimators to classify the instances. First, one baseline estimator is trained on the dataset, and then subsequent models are trained using the same instances where miss-classified instances have higher weights. So, subsequent models focus on features that previous models misclassified. Finally, similar to the Ada Boost classifier, the eXtreme Gradient Boosting (XGBoost) Classifier uses subsequent models to improve the performance. However, the new models are created to reduce the residual/error of the previous model, and it does use a gradient descent algorithm. The XGBoost has proven very time-efficient and compute-efficient.\n",
    "\n",
    "The selection of the model requires testing against the unseen dataset. The training dataset has already been split twice for testing and validation of the model. The further split can cause the model not being able to use the entire dataset. Also, if another subset is taken from the training dataset and used to check the performance and tweak the model parameters, it may be possible to overfit that subset. A cross-validation technique can help to resolve the problem. The training dataset is divided into different equal subsets (in our case, 5). The model is trained on the k-1 subset, and a remaining subset is used to check the performance, which is repeated over all subsets. By using cross-validation, our model is not checked against only one set, but at the end, the whole dataset."
   ]
  },
  {
   "cell_type": "code",
   "execution_count": 23,
   "metadata": {},
   "outputs": [],
   "source": [
    "def run_RFC(**params):\n",
    "    \"\"\"\n",
    "    Run Random Forest Classifier with given parameters with 5-fold cross \n",
    "    validation\n",
    "\n",
    "    Args:\n",
    "        params(dictionary): Contains required parameters to use for the training \n",
    "            of the RFC model on the training dataset. The number of parameters is \n",
    "            not defined so that it can handle an arbitrary number of parameters.\n",
    "      \n",
    "    \"\"\"\n",
    "  \n",
    "    RFC = RandomForestClassifier(**params, random_state = 42, n_jobs = -1)\n",
    "\n",
    "    mean_f1 = np.mean(cross_val_score(RFC, X_training, y_training, \\\n",
    "                                    scoring = \"f1\", cv=5))\n",
    "\n",
    "    print(\"Random Forest Classifier, F1 Score: {:.5f}\".format(mean_f1))\n",
    "    for k, v in params.items():\n",
    "    print(\"{0} = {1}\".format(k, v))"
   ]
  },
  {
   "cell_type": "code",
   "execution_count": 24,
   "metadata": {},
   "outputs": [
    {
     "name": "stdout",
     "output_type": "stream",
     "text": [
      "Random Forest Classifier, F1 Score: 0.61271\n"
     ]
    }
   ],
   "source": [
    "run_RFC()"
   ]
  },
  {
   "cell_type": "code",
   "execution_count": 25,
   "metadata": {},
   "outputs": [
    {
     "name": "stdout",
     "output_type": "stream",
     "text": [
      "Random Forest Classifier, F1 Score: 0.61415\n",
      "criterion = entropy\n"
     ]
    }
   ],
   "source": [
    "run_RFC(criterion = \"entropy\")"
   ]
  },
  {
   "cell_type": "code",
   "execution_count": 26,
   "metadata": {},
   "outputs": [
    {
     "name": "stdout",
     "output_type": "stream",
     "text": [
      "Random Forest Classifier, F1 Score: 0.61613\n",
      "max_depth = 3\n",
      "criterion = entropy\n"
     ]
    }
   ],
   "source": [
    "run_RFC(max_depth = 3, criterion = \"entropy\")"
   ]
  },
  {
   "cell_type": "code",
   "execution_count": 27,
   "metadata": {},
   "outputs": [
    {
     "name": "stdout",
     "output_type": "stream",
     "text": [
      "Random Forest Classifier, F1 Score: 0.62212\n",
      "max_depth = 5\n",
      "criterion = entropy\n"
     ]
    }
   ],
   "source": [
    "run_RFC(max_depth = 5, criterion = \"entropy\")"
   ]
  },
  {
   "cell_type": "code",
   "execution_count": 28,
   "metadata": {},
   "outputs": [
    {
     "name": "stdout",
     "output_type": "stream",
     "text": [
      "Random Forest Classifier, F1 Score: 0.63083\n",
      "max_depth = 8\n",
      "criterion = entropy\n"
     ]
    }
   ],
   "source": [
    "run_RFC(max_depth = 8, criterion = \"entropy\")"
   ]
  },
  {
   "cell_type": "code",
   "execution_count": 29,
   "metadata": {},
   "outputs": [
    {
     "name": "stdout",
     "output_type": "stream",
     "text": [
      "Random Forest Classifier, F1 Score: 0.62298\n",
      "max_features = log2\n",
      "max_depth = 8\n",
      "criterion = entropy\n"
     ]
    }
   ],
   "source": [
    "run_RFC(max_features = \"log2\", max_depth = 8, criterion = \"entropy\")"
   ]
  },
  {
   "cell_type": "code",
   "execution_count": 30,
   "metadata": {},
   "outputs": [
    {
     "name": "stdout",
     "output_type": "stream",
     "text": [
      "Random Forest Classifier, F1 Score: 0.63083\n",
      "max_features = sqrt\n",
      "max_depth = 8\n",
      "criterion = entropy\n"
     ]
    }
   ],
   "source": [
    "run_RFC(max_features = \"sqrt\", max_depth = 8, criterion = \"entropy\")"
   ]
  },
  {
   "cell_type": "markdown",
   "metadata": {},
   "source": [
    "Initially, RFC with default parameters was evaluated and used as a baseline model for other RFCs. After the initial run, the criterion parameter was changed to \"entropy\" instead of \"gini\", which gave a better result. Then the maximum depth of DTs in the RFC was changed to improve the result, reduce the variance (ensuring less over-fitting) and use as early stopping criteria. The maximum depth of 8 proved the better option. Finally, DT's maximum features parameter experiments were performed, and the \"sqrt\" value gave a similar high value without this parameter. So, to keep the most robust model, A RFC with maximum features as \"sqrt\", maximum depth as 8 and criterion as \"entropy\" will be used for further evaluation."
   ]
  },
  {
   "cell_type": "markdown",
   "metadata": {},
   "source": [
    "#### Ada Boost Classifier"
   ]
  },
  {
   "cell_type": "code",
   "execution_count": 31,
   "metadata": {},
   "outputs": [],
   "source": [
    "def run_ABC(**params):  \n",
    "    \"\"\"\n",
    "    Run Ada Boost Classifier with given parameters with 5-fold cross \n",
    "    validation\n",
    "\n",
    "    Args:\n",
    "        params(dictionary): Contains required parameters to use for the training \n",
    "            of the ABC model on the training dataset. The number of parameters is \n",
    "            not defined so that it can handle an arbitrary number of parameters.\n",
    "      \n",
    "    \"\"\"\n",
    "    ABC = AdaBoostClassifier(**params, random_state = 42)\n",
    "\n",
    "    mean_f1 = np.mean(cross_val_score(ABC, X_training, y_training, \\\n",
    "                                    scoring = \"f1\", cv=5))\n",
    "\n",
    "    print(\"Ada Boost Classifier, F1 Score: {:.5f}\".format(mean_f1))\n",
    "    for k, v in params.items():\n",
    "        print(\"{0} = {1}\".format(k, v))"
   ]
  },
  {
   "cell_type": "code",
   "execution_count": 32,
   "metadata": {},
   "outputs": [
    {
     "name": "stdout",
     "output_type": "stream",
     "text": [
      "Ada Boost Classifier, F1 Score: 0.61556\n",
      "base_estimator = DecisionTreeClassifier(min_impurity_decrease=0.001, random_state=42)\n"
     ]
    }
   ],
   "source": [
    "BE = DecisionTreeClassifier(random_state = 42, min_impurity_decrease = 0.001)\n",
    "run_ABC(base_estimator = BE)"
   ]
  },
  {
   "cell_type": "code",
   "execution_count": 33,
   "metadata": {},
   "outputs": [
    {
     "name": "stdout",
     "output_type": "stream",
     "text": [
      "Ada Boost Classifier, F1 Score: 0.61622\n",
      "base_estimator = DecisionTreeClassifier(min_impurity_decrease=0.01, random_state=42)\n"
     ]
    }
   ],
   "source": [
    "BE = DecisionTreeClassifier(random_state = 42, min_impurity_decrease = 0.01)\n",
    "run_ABC(base_estimator = BE)"
   ]
  },
  {
   "cell_type": "code",
   "execution_count": 34,
   "metadata": {},
   "outputs": [
    {
     "name": "stdout",
     "output_type": "stream",
     "text": [
      "Ada Boost Classifier, F1 Score: 0.61622\n",
      "n_estimators = 100\n",
      "base_estimator = DecisionTreeClassifier(min_impurity_decrease=0.01, random_state=42)\n"
     ]
    }
   ],
   "source": [
    "BE = DecisionTreeClassifier(random_state = 42, min_impurity_decrease = 0.01 )\n",
    "run_ABC(n_estimators = 100, base_estimator = BE)"
   ]
  },
  {
   "cell_type": "code",
   "execution_count": 35,
   "metadata": {},
   "outputs": [
    {
     "name": "stdout",
     "output_type": "stream",
     "text": [
      "Ada Boost Classifier, F1 Score: 0.61622\n",
      "algorithm = SAMME\n",
      "base_estimator = DecisionTreeClassifier(min_impurity_decrease=0.01, random_state=42)\n"
     ]
    }
   ],
   "source": [
    "BE = DecisionTreeClassifier(random_state = 42, min_impurity_decrease = 0.01)\n",
    "run_ABC(algorithm = \"SAMME\", base_estimator = BE)"
   ]
  },
  {
   "cell_type": "code",
   "execution_count": 36,
   "metadata": {},
   "outputs": [
    {
     "name": "stdout",
     "output_type": "stream",
     "text": [
      "Ada Boost Classifier, F1 Score: 0.61689\n",
      "base_estimator = DecisionTreeClassifier(max_depth=3, random_state=42)\n"
     ]
    }
   ],
   "source": [
    "BE = DecisionTreeClassifier(max_depth = 3, random_state = 42)\n",
    "run_ABC(base_estimator = BE)"
   ]
  },
  {
   "cell_type": "code",
   "execution_count": 37,
   "metadata": {},
   "outputs": [
    {
     "name": "stdout",
     "output_type": "stream",
     "text": [
      "Ada Boost Classifier, F1 Score: 0.62223\n",
      "algorithm = SAMME\n",
      "base_estimator = DecisionTreeClassifier(max_depth=5, random_state=42)\n"
     ]
    }
   ],
   "source": [
    "BE = DecisionTreeClassifier(max_depth = 5, random_state = 42)\n",
    "run_ABC(algorithm = 'SAMME', base_estimator = BE)"
   ]
  },
  {
   "cell_type": "code",
   "execution_count": 38,
   "metadata": {},
   "outputs": [
    {
     "name": "stdout",
     "output_type": "stream",
     "text": [
      "Ada Boost Classifier, F1 Score: 0.62221\n",
      "base_estimator = DecisionTreeClassifier(max_depth=5, random_state=42)\n",
      "n_estimators = 100\n",
      "algorithm = SAMME\n"
     ]
    }
   ],
   "source": [
    "BE = DecisionTreeClassifier(max_depth = 5, random_state = 42)\n",
    "run_ABC(base_estimator = BE, n_estimators = 100, algorithm = 'SAMME')"
   ]
  },
  {
   "cell_type": "markdown",
   "metadata": {},
   "source": [
    "Similar to RFC, ABC was trained using default parameters and then changed one parameter at a time. Also, kept the parameter values that provided better performance. Also, the parameters like min_impurity_decrease and max_depth of DT's were tuned using the same technique. Finally, after all the experiments, ABC with the base estimator as DT with a maximum depth of 5 and the \"SAMME\" algorithm gave the highest performance."
   ]
  },
  {
   "cell_type": "markdown",
   "metadata": {},
   "source": [
    "#### eXtreme Gradient Boosting Classifier"
   ]
  },
  {
   "cell_type": "code",
   "execution_count": 39,
   "metadata": {},
   "outputs": [],
   "source": [
    "def run_XGBC(**params):\n",
    "    \"\"\"\n",
    "    Run eXtreme Gradient Boosting Classifier with given parameters with 5-fold \n",
    "    cross validation\n",
    "\n",
    "    Args:\n",
    "        params(dictionary): Contains required parameters to use for the training \n",
    "            of the XGBoost model on the training dataset. The number of parameters \n",
    "            is not defined, so that it can handle an arbitrary number of parameters.\n",
    "      \n",
    "    \"\"\"\n",
    "\n",
    "    XGBC = xgb.XGBClassifier(**params, random_state = 42, n_jobs=-1)\n",
    "\n",
    "    mean_f1 = np.mean(cross_val_score(XGBC, X_training, y_training, \\\n",
    "                                    scoring = \"f1\", cv=5))\n",
    "    clear_output()\n",
    "    print(\"eXtreme Gradient Boosting Classifier, F1 Score: {:.5f}\".format(mean_f1))\n",
    "    for k, v in params.items():\n",
    "        print(\"{0} = {1}\".format(k, v))"
   ]
  },
  {
   "cell_type": "code",
   "execution_count": 40,
   "metadata": {},
   "outputs": [
    {
     "name": "stdout",
     "output_type": "stream",
     "text": [
      "eXtreme Gradient Boosting Classifier, F1 Score: 0.62389\n"
     ]
    }
   ],
   "source": [
    "run_XGBC()"
   ]
  },
  {
   "cell_type": "code",
   "execution_count": 41,
   "metadata": {},
   "outputs": [
    {
     "name": "stdout",
     "output_type": "stream",
     "text": [
      "eXtreme Gradient Boosting Classifier, F1 Score: 0.62765\n",
      "max_depth = 5\n"
     ]
    }
   ],
   "source": [
    "run_XGBC(max_depth=5)"
   ]
  },
  {
   "cell_type": "code",
   "execution_count": 42,
   "metadata": {},
   "outputs": [
    {
     "name": "stdout",
     "output_type": "stream",
     "text": [
      "eXtreme Gradient Boosting Classifier, F1 Score: 0.61329\n",
      "max_depth = 8\n"
     ]
    }
   ],
   "source": [
    "run_XGBC(max_depth=8)"
   ]
  },
  {
   "cell_type": "code",
   "execution_count": 43,
   "metadata": {},
   "outputs": [
    {
     "name": "stdout",
     "output_type": "stream",
     "text": [
      "eXtreme Gradient Boosting Classifier, F1 Score: 0.63984\n",
      "learning_rate = 0.01\n",
      "max_depth = 5\n"
     ]
    }
   ],
   "source": [
    "run_XGBC(learning_rate= 0.01 ,max_depth=5)"
   ]
  },
  {
   "cell_type": "code",
   "execution_count": 44,
   "metadata": {},
   "outputs": [
    {
     "name": "stdout",
     "output_type": "stream",
     "text": [
      "eXtreme Gradient Boosting Classifier, F1 Score: 0.64056\n",
      "learning_rate = 0.01\n",
      "max_depth = 5\n",
      "n_estimators = 125\n"
     ]
    }
   ],
   "source": [
    "run_XGBC(learning_rate= 0.01 ,max_depth=5, n_estimators = 125)"
   ]
  },
  {
   "cell_type": "code",
   "execution_count": 45,
   "metadata": {},
   "outputs": [
    {
     "name": "stdout",
     "output_type": "stream",
     "text": [
      "eXtreme Gradient Boosting Classifier, F1 Score: 0.64064\n",
      "reg_lambda = 0.75\n",
      "learning_rate = 0.01\n",
      "max_depth = 5\n",
      "n_estimators = 125\n"
     ]
    }
   ],
   "source": [
    "run_XGBC(reg_lambda=0.75,learning_rate= 0.01 ,max_depth=5, n_estimators = 125)"
   ]
  },
  {
   "cell_type": "code",
   "execution_count": 46,
   "metadata": {},
   "outputs": [
    {
     "name": "stdout",
     "output_type": "stream",
     "text": [
      "eXtreme Gradient Boosting Classifier, F1 Score: 0.64016\n",
      "reg_lambda = 0.125\n",
      "learning_rate = 0.01\n",
      "max_depth = 5\n",
      "n_estimators = 125\n"
     ]
    }
   ],
   "source": [
    "run_XGBC(reg_lambda=0.125,learning_rate= 0.01 ,max_depth=5, n_estimators = 125)"
   ]
  },
  {
   "cell_type": "code",
   "execution_count": 47,
   "metadata": {},
   "outputs": [
    {
     "name": "stdout",
     "output_type": "stream",
     "text": [
      "eXtreme Gradient Boosting Classifier, F1 Score: 0.64022\n",
      "gamma = 1\n",
      "reg_lambda = 0.125\n",
      "learning_rate = 0.01\n",
      "max_depth = 5\n",
      "n_estimators = 125\n"
     ]
    }
   ],
   "source": [
    "run_XGBC(gamma=1, reg_lambda=0.125,learning_rate= 0.01 ,max_depth=5, \\\n",
    "         n_estimators = 125)"
   ]
  },
  {
   "cell_type": "code",
   "execution_count": 48,
   "metadata": {},
   "outputs": [
    {
     "name": "stdout",
     "output_type": "stream",
     "text": [
      "eXtreme Gradient Boosting Classifier, F1 Score: 0.63996\n",
      "reg_alpha = 1\n",
      "gamma = 0.5\n",
      "reg_lambda = 0.125\n",
      "learning_rate = 0.01\n",
      "max_depth = 5\n",
      "n_estimators = 125\n"
     ]
    }
   ],
   "source": [
    "run_XGBC(reg_alpha = 1, gamma = 0.5, reg_lambda = 0.125, learning_rate = 0.01, \\\n",
    "         max_depth=5, n_estimators = 125)"
   ]
  },
  {
   "cell_type": "code",
   "execution_count": 49,
   "metadata": {},
   "outputs": [
    {
     "name": "stdout",
     "output_type": "stream",
     "text": [
      "eXtreme Gradient Boosting Classifier, F1 Score: 0.63996\n",
      "booster = dart\n",
      "reg_alpha = 1\n",
      "gamma = 0.5\n",
      "reg_lambda = 0.125\n",
      "learning_rate = 0.01\n",
      "max_depth = 5\n",
      "n_estimators = 125\n"
     ]
    }
   ],
   "source": [
    "run_XGBC(booster='dart', reg_alpha = 1, gamma = 0.5, reg_lambda = 0.125, \\\n",
    "         learning_rate = 0.01, max_depth=5, n_estimators = 125)"
   ]
  },
  {
   "cell_type": "code",
   "execution_count": 50,
   "metadata": {},
   "outputs": [
    {
     "name": "stdout",
     "output_type": "stream",
     "text": [
      "eXtreme Gradient Boosting Classifier, F1 Score: 0.63962\n",
      "booster = dart\n",
      "reg_alpha = 1\n",
      "gamma = 0.5\n",
      "reg_lambda = 0.125\n",
      "learning_rate = 0.01\n",
      "max_depth = 5\n",
      "n_estimators = 150\n"
     ]
    }
   ],
   "source": [
    "run_XGBC(booster='dart', reg_alpha = 1, gamma = 0.5, reg_lambda = 0.125, \\\n",
    "         learning_rate = 0.01, max_depth=5, n_estimators = 150)"
   ]
  },
  {
   "cell_type": "code",
   "execution_count": 49,
   "metadata": {
    "scrolled": true
   },
   "outputs": [
    {
     "name": "stdout",
     "output_type": "stream",
     "text": [
      "eXtreme Gradient Boosting Classifier, F1 Score: 0.63996\n",
      "booster = dart\n",
      "reg_alpha = 1\n",
      "gamma = 0.5\n",
      "reg_lambda = 0.125\n",
      "learning_rate = 0.01\n",
      "max_depth = 5\n",
      "n_estimators = 125\n"
     ]
    }
   ],
   "source": [
    "run_XGBC(booster='dart', reg_alpha = 1, gamma = 0.5, reg_lambda = 0.125, \\\n",
    "         learning_rate = 0.01, max_depth=5, n_estimators = 125)"
   ]
  },
  {
   "cell_type": "code",
   "execution_count": 50,
   "metadata": {
    "scrolled": true
   },
   "outputs": [
    {
     "name": "stdout",
     "output_type": "stream",
     "text": [
      "eXtreme Gradient Boosting Classifier, F1 Score: 0.63962\n",
      "booster = dart\n",
      "reg_alpha = 1\n",
      "gamma = 0.5\n",
      "reg_lambda = 0.125\n",
      "learning_rate = 0.01\n",
      "max_depth = 5\n",
      "n_estimators = 150\n"
     ]
    }
   ],
   "source": [
    "run_XGBC(booster='dart', reg_alpha = 1, gamma = 0.5, reg_lambda = 0.125, \\\n",
    "         learning_rate = 0.01, max_depth=5, n_estimators = 150)"
   ]
  },
  {
   "cell_type": "markdown",
   "metadata": {},
   "source": [
    "Again, XGboost was trained using default parameters and then experimented using parameters like maximum depth, learning rate, lambda regularization, gamma, alpha regularization, booster and number of estimators. The learning rate is used in gradient descent to fit the residuals/errors of the previous model. To penalize the weights using L1 and L2 regularization using alpha and lambda regularization parameters, respectively. The gamma is used as minimum loss reduction required to make further partition. Lastly, the booster parameter was used to specify which booster to use in XGBoost, and the number of estimators was used to specify how many estimators to use. In the end, XGBoost with \"dart\" as a booster, 1 for reg_alpha, 0.5 for gamma, 0.125 for reg_lambda, the learning rate of 0.01, maximum depth of 5 and 125 estimators will be used for further evaluation.\n",
    "\n"
   ]
  },
  {
   "cell_type": "markdown",
   "metadata": {},
   "source": [
    "#### Comparision"
   ]
  },
  {
   "cell_type": "code",
   "execution_count": 24,
   "metadata": {
    "scrolled": true
   },
   "outputs": [
    {
     "name": "stdout",
     "output_type": "stream",
     "text": [
      "[18:17:11] WARNING: C:/Users/Administrator/workspace/xgboost-win64_release_1.4.0/src/learner.cc:1095: Starting in XGBoost 1.3.0, the default evaluation metric used with the objective 'binary:logistic' was changed from 'error' to 'logloss'. Explicitly set eval_metric if you'd like to restore the old behavior.\n",
      "Confusion matrix for RFC\n"
     ]
    },
    {
     "data": {
      "image/png": "[encoded data removed]",
      "text/plain": [
       "<Figure size 432x288 with 2 Axes>"
      ]
     },
     "metadata": {
      "needs_background": "light"
     },
     "output_type": "display_data"
    },
    {
     "name": "stdout",
     "output_type": "stream",
     "text": [
      "F1: 0.6257044458359424\n",
      "\n",
      "\n",
      "Confusion matrix for ABC\n"
     ]
    },
    {
     "data": {
      "image/png": "[encoded data removed]",
      "text/plain": [
       "<Figure size 432x288 with 2 Axes>"
      ]
     },
     "metadata": {
      "needs_background": "light"
     },
     "output_type": "display_data"
    },
    {
     "name": "stdout",
     "output_type": "stream",
     "text": [
      "F1: 0.6235313585967236\n",
      "\n",
      "\n",
      "Confusion matrix for XGBC\n"
     ]
    },
    {
     "data": {
      "image/png": "[encoded data removed]",
      "text/plain": [
       "<Figure size 432x288 with 2 Axes>"
      ]
     },
     "metadata": {
      "needs_background": "light"
     },
     "output_type": "display_data"
    },
    {
     "name": "stdout",
     "output_type": "stream",
     "text": [
      "F1: 0.6369904995403004\n"
     ]
    }
   ],
   "source": [
    "import seaborn as sns\n",
    "#initialize finalised models\n",
    "RFC = RandomForestClassifier(max_features = \"sqrt\", max_depth = 8, \\\n",
    "                             criterion = \"entropy\", random_state = 42, \\\n",
    "                             n_jobs = -1)\n",
    "\n",
    "BE = DecisionTreeClassifier(max_depth = 5, random_state = 42)\n",
    "ABC = AdaBoostClassifier(algorithm='SAMME', base_estimator = BE, random_state=42)\n",
    "\n",
    "XGBC = xgb.XGBClassifier(booster='dart', reg_alpha = 1, gamma = 0.5, \\\n",
    "                         reg_lambda = 0.125, learning_rate = 0.01, \\\n",
    "                         max_depth=5, random_state=42, n_jobs=-1, \\\n",
    "                         n_estimators = 125)\n",
    "\n",
    "# train the models\n",
    "RFC.fit(X_training, y_training)\n",
    "ABC.fit(X_training, y_training)\n",
    "XGBC.fit(X_training, y_training)\n",
    "\n",
    "# predict the target variable for validation set\n",
    "y_vali_RFC = RFC.predict(X_validation)\n",
    "y_vali_ABC = ABC.predict(X_validation)\n",
    "y_vali_XGBC = XGBC.predict(X_validation)\n",
    "\n",
    "# calculate confusion matrix\n",
    "conf_RFC = confusion_matrix(y_validation, y_vali_RFC)\n",
    "conf_ABC = confusion_matrix(y_validation, y_vali_ABC)\n",
    "conf_XGBC = confusion_matrix(y_validation, y_vali_XGBC)\n",
    "\n",
    "# get the targets from target feature\n",
    "unique_targets = np.unique(y_validation)\n",
    "\n",
    "# plot the confusion matrices\n",
    "print(\"Confusion matrix for RFC\")\n",
    "df_conf = pd.DataFrame(conf_RFC, columns=unique_targets, index = unique_targets)\n",
    "df_conf.index.name = 'Actual'\n",
    "df_conf.columns.name = 'Predicted'\n",
    "sns.heatmap(df_conf, cmap=\"Blues\", annot=True, fmt=\"d\")\n",
    "plt.show()\n",
    "print(\"F1: {0}\".format(f1_score(y_validation, y_vali_RFC)))\n",
    "\n",
    "print(\"\\n\\nConfusion matrix for ABC\")\n",
    "df_conf = pd.DataFrame(conf_ABC, columns=unique_targets, index = unique_targets)\n",
    "df_conf.index.name = 'Actual'\n",
    "df_conf.columns.name = 'Predicted'\n",
    "sns.heatmap(df_conf, cmap=\"Blues\", annot=True, fmt=\"d\")\n",
    "plt.show()\n",
    "print(\"F1: {0}\".format(f1_score(y_validation, y_vali_ABC)))\n",
    "\n",
    "print(\"\\n\\nConfusion matrix for XGBC\")\n",
    "df_conf = pd.DataFrame(conf_XGBC, columns=unique_targets, index = unique_targets)\n",
    "df_conf.index.name = 'Actual'\n",
    "df_conf.columns.name = 'Predicted'\n",
    "sns.heatmap(df_conf, cmap=\"Blues\", annot=True, fmt=\"d\")\n",
    "plt.show()\n",
    "print(\"F1: {0}\".format(f1_score(y_validation, y_vali_XGBC)))"
   ]
  },
  {
   "cell_type": "markdown",
   "metadata": {},
   "source": [
    "Comparing the best model from all three algorithms against the validation set confirms that XGBoost is a better model to use among all, with an F1 score of 63.69%. The XGBoost classified the highest churn customers, which is the primary purpose of our project. So, the XGBoost will test against the test dataset, which was kept out from training the model."
   ]
  },
  {
   "cell_type": "markdown",
   "metadata": {},
   "source": [
    "## Model Evaluation"
   ]
  },
  {
   "cell_type": "code",
   "execution_count": 26,
   "metadata": {
    "scrolled": true
   },
   "outputs": [
    {
     "name": "stdout",
     "output_type": "stream",
     "text": [
      "[18:44:40] WARNING: C:/Users/Administrator/workspace/xgboost-win64_release_1.4.0/src/learner.cc:1095: Starting in XGBoost 1.3.0, the default evaluation metric used with the objective 'binary:logistic' was changed from 'error' to 'logloss'. Explicitly set eval_metric if you'd like to restore the old behavior.\n",
      "Confusion matrix for XGBC on test\n"
     ]
    },
    {
     "data": {
      "image/png": "[encoded data removed]",
      "text/plain": [
       "<Figure size 432x288 with 2 Axes>"
      ]
     },
     "metadata": {
      "needs_background": "light"
     },
     "output_type": "display_data"
    },
    {
     "name": "stdout",
     "output_type": "stream",
     "text": [
      "              precision    recall  f1-score   support\n",
      "\n",
      "           0       0.63      0.51      0.56     10089\n",
      "           1       0.58      0.70      0.64      9911\n",
      "\n",
      "    accuracy                           0.60     20000\n",
      "   macro avg       0.61      0.60      0.60     20000\n",
      "weighted avg       0.61      0.60      0.60     20000\n",
      "\n"
     ]
    }
   ],
   "source": [
    "XGBC = xgb.XGBClassifier(booster='dart', reg_alpha = 1, gamma = 0.5, \\\n",
    "                         reg_lambda = 0.125, learning_rate = 0.01, \\\n",
    "                         max_depth=5, random_state=42, n_jobs=-1, \\\n",
    "                         n_estimators = 125)\n",
    "\n",
    "XGBC.fit(X_train, y_train)\n",
    "\n",
    "y_pred = XGBC.predict(X_test)\n",
    "\n",
    "conf = confusion_matrix(y_test, y_pred)\n",
    "\n",
    "print(\"Confusion matrix for XGBC on test\")\n",
    "df_conf = pd.DataFrame(conf, columns=unique_targets, index = unique_targets)\n",
    "df_conf.index.name = 'Actual'\n",
    "df_conf.columns.name = 'Predicted'\n",
    "sns.heatmap(df_conf, cmap=\"Blues\", annot=True, fmt=\"d\")\n",
    "plt.show()\n",
    "\n",
    "print(classification_report(y_test, y_pred))"
   ]
  },
  {
   "cell_type": "markdown",
   "metadata": {},
   "source": [
    "The evaluation of XGBoost against the test set (holdout set) resulted in around the same f1 score of around 60%. The model predicted 70% of churned customers from all the churned customers with an accuracy of 58%. The score is not significant; however, with the complexity of our dataset, 70% of recall is still a great score, and it would help the company earning more revenue. The project is just one cycle of the Data Science Life Cycle, and we can perform another cycle to improve the score by going through the steps again."
   ]
  }
 ],
 "metadata": {
  "kernelspec": {
   "display_name": "Python 3",
   "language": "python",
   "name": "python3"
  },
  "language_info": {
   "codemirror_mode": {
    "name": "ipython",
    "version": 3
   },
   "file_extension": ".py",
   "mimetype": "text/x-python",
   "name": "python",
   "nbconvert_exporter": "python",
   "pygments_lexer": "ipython3",
   "version": "3.8.3"
  }
 },
 "nbformat": 4,
 "nbformat_minor": 4
}
